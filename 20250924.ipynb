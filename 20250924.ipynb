{
 "cells": [
  {
   "cell_type": "markdown",
   "id": "f4567601",
   "metadata": {},
   "source": [
    "### 2025-09-24"
   ]
  },
  {
   "cell_type": "markdown",
   "id": "93441b96",
   "metadata": {},
   "source": [
    "### Numpy"
   ]
  },
  {
   "cell_type": "code",
   "execution_count": null,
   "id": "9059ce1f",
   "metadata": {},
   "outputs": [],
   "source": [
    "대수, 행렬, 통계 등 수학 및 과학 연산을 위한 라이브러리\n",
    "ndarray라는 다차원 배열을 데이터로 나타내고 처리하는데 특화\n",
    "실횅속도가 빠르고 짧고 간결한 코드 구현이 가능하다. \n",
    "Numpy는 외부 라이브러리이므로, 설치 후 사용할 수 있다."
   ]
  },
  {
   "cell_type": "code",
   "execution_count": 1,
   "id": "d52af01a",
   "metadata": {},
   "outputs": [
    {
     "name": "stdout",
     "output_type": "stream",
     "text": [
      "Requirement already satisfied: numpy in c:\\users\\el064\\appdata\\local\\programs\\python\\python311\\lib\\site-packages (2.3.3)\n"
     ]
    },
    {
     "name": "stderr",
     "output_type": "stream",
     "text": [
      "\n",
      "[notice] A new release of pip is available: 24.0 -> 25.2\n",
      "[notice] To update, run: python.exe -m pip install --upgrade pip\n"
     ]
    }
   ],
   "source": [
    "!pip install numpy"
   ]
  },
  {
   "cell_type": "code",
   "execution_count": 4,
   "id": "732be6ac",
   "metadata": {},
   "outputs": [],
   "source": [
    "import numpy as np"
   ]
  },
  {
   "cell_type": "code",
   "execution_count": 6,
   "id": "b2c166c6",
   "metadata": {},
   "outputs": [
    {
     "data": {
      "text/plain": [
       "'2.3.3'"
      ]
     },
     "execution_count": 6,
     "metadata": {},
     "output_type": "execute_result"
    }
   ],
   "source": [
    "np.__version__"
   ]
  },
  {
   "cell_type": "code",
   "execution_count": 8,
   "id": "81267783",
   "metadata": {},
   "outputs": [
    {
     "name": "stdout",
     "output_type": "stream",
     "text": [
      "53.7 μs ± 7.2 μs per loop (mean ± std. dev. of 7 runs, 10,000 loops each)\n"
     ]
    }
   ],
   "source": [
    "L = range(1000)\n",
    "%timeit L2 = [i ** 2 for i in L]"
   ]
  },
  {
   "cell_type": "code",
   "execution_count": 9,
   "id": "2ed137b4",
   "metadata": {},
   "outputs": [
    {
     "name": "stdout",
     "output_type": "stream",
     "text": [
      "1.09 μs ± 22.9 ns per loop (mean ± std. dev. of 7 runs, 1,000,000 loops each)\n"
     ]
    }
   ],
   "source": [
    "arr = np.arange(1000)\n",
    "%timeit arr2 = arr**2"
   ]
  },
  {
   "cell_type": "code",
   "execution_count": 20,
   "id": "53c12d6f",
   "metadata": {},
   "outputs": [],
   "source": [
    "alist = [1, 2, 3, 4, 5, 6]"
   ]
  },
  {
   "cell_type": "code",
   "execution_count": 15,
   "id": "41aa57b3",
   "metadata": {},
   "outputs": [
    {
     "name": "stdout",
     "output_type": "stream",
     "text": [
      "[1, 2, None, 4, 5, 6]\n",
      "<class 'list'>\n"
     ]
    }
   ],
   "source": [
    "print(alist)\n",
    "print(type(alist))"
   ]
  },
  {
   "cell_type": "code",
   "execution_count": 17,
   "id": "f340c2ab",
   "metadata": {},
   "outputs": [],
   "source": [
    "blist = [1, 2, None, 4, 5, 6]"
   ]
  },
  {
   "cell_type": "code",
   "execution_count": 25,
   "id": "55c4e87e",
   "metadata": {},
   "outputs": [
    {
     "name": "stdout",
     "output_type": "stream",
     "text": [
      "[1 2 3 4 5 6]\n",
      "<class 'numpy.ndarray'>\n"
     ]
    }
   ],
   "source": [
    "ar1 = np.array(alist)\n",
    "print(ar1)\n",
    "print(type(ar1))"
   ]
  },
  {
   "cell_type": "code",
   "execution_count": 26,
   "id": "d842a949",
   "metadata": {},
   "outputs": [
    {
     "data": {
      "text/plain": [
       "dtype('int64')"
      ]
     },
     "execution_count": 26,
     "metadata": {},
     "output_type": "execute_result"
    }
   ],
   "source": [
    "ar1.dtype"
   ]
  },
  {
   "cell_type": "code",
   "execution_count": 22,
   "id": "9b530f8b",
   "metadata": {},
   "outputs": [],
   "source": [
    "ar2 = np.array([1.1, 2.2, 3.3])"
   ]
  },
  {
   "cell_type": "code",
   "execution_count": 23,
   "id": "23c6e4d6",
   "metadata": {},
   "outputs": [
    {
     "name": "stdout",
     "output_type": "stream",
     "text": [
      "[1.1 2.2 3.3]\n"
     ]
    }
   ],
   "source": [
    "print(ar2)"
   ]
  },
  {
   "cell_type": "code",
   "execution_count": 24,
   "id": "4c2be2e1",
   "metadata": {},
   "outputs": [
    {
     "data": {
      "text/plain": [
       "dtype('float64')"
      ]
     },
     "execution_count": 24,
     "metadata": {},
     "output_type": "execute_result"
    }
   ],
   "source": [
    "ar2.dtype"
   ]
  },
  {
   "cell_type": "code",
   "execution_count": 29,
   "id": "f8443f71",
   "metadata": {},
   "outputs": [
    {
     "name": "stdout",
     "output_type": "stream",
     "text": [
      "[1 2 3]\n",
      "int64\n"
     ]
    }
   ],
   "source": [
    "# 모든 원소가 같은 타입이어야 한다. \n",
    "list_data = [1, 2., 3]\n",
    "\n",
    "ar3 = np.array(list_data, dtype='int')\n",
    "\n",
    "print(ar3)\n",
    "print(ar3.dtype)"
   ]
  },
  {
   "cell_type": "code",
   "execution_count": 30,
   "id": "b07d4423",
   "metadata": {},
   "outputs": [
    {
     "data": {
      "text/plain": [
       "array([ 1.,  2., nan,  4.])"
      ]
     },
     "execution_count": 30,
     "metadata": {},
     "output_type": "execute_result"
    }
   ],
   "source": [
    "np.array([1, 2, np.nan, 4])\n",
    "# python의 None은 존재하지 않는다.\n",
    "# numpy 의 nan은 데이터가 정의되지 않았음.(숫자가 아니라서 정의할 수 없음)"
   ]
  },
  {
   "cell_type": "code",
   "execution_count": 31,
   "id": "a7d604fa",
   "metadata": {},
   "outputs": [
    {
     "name": "stdout",
     "output_type": "stream",
     "text": [
      "[1 2 3 4]\n",
      "1\n",
      "(4,)\n"
     ]
    }
   ],
   "source": [
    "arr1 = np.array([1, 2, 3, 4])\n",
    "\n",
    "print(arr1)\n",
    "print(arr1.ndim)\n",
    "print(arr1.shape)"
   ]
  },
  {
   "cell_type": "code",
   "execution_count": 32,
   "id": "be78d3a1",
   "metadata": {},
   "outputs": [
    {
     "name": "stdout",
     "output_type": "stream",
     "text": [
      "[[1 2 3 4]]\n",
      "2\n",
      "(1, 4)\n"
     ]
    }
   ],
   "source": [
    "arr2 = np.array([[1, 2, 3, 4]])\n",
    "                \n",
    "print(arr2)\n",
    "print(arr2.ndim)\n",
    "print(arr2.shape)"
   ]
  },
  {
   "cell_type": "code",
   "execution_count": 33,
   "id": "24e7bda1",
   "metadata": {},
   "outputs": [
    {
     "name": "stdout",
     "output_type": "stream",
     "text": [
      "[[ 1  2  3  4]\n",
      " [ 5  6  7  8]\n",
      " [ 9 10 11 12]]\n",
      "2\n",
      "(3, 4)\n"
     ]
    }
   ],
   "source": [
    "arr2  = np.array([[1, 2, 3, 4], [5, 6, 7, 8], [9, 10, 11, 12]])\n",
    "\n",
    "print(arr2)\n",
    "print(arr2.ndim)\n",
    "print(arr2.shape)"
   ]
  },
  {
   "cell_type": "code",
   "execution_count": 38,
   "id": "88a75e0d",
   "metadata": {},
   "outputs": [
    {
     "name": "stdout",
     "output_type": "stream",
     "text": [
      "[[[ 1  2  3]\n",
      "  [ 4  5  6]]\n",
      "\n",
      " [[ 7  8  9]\n",
      "  [10 11 12]]]\n",
      "3\n",
      "(2, 2, 3)\n"
     ]
    }
   ],
   "source": [
    "arr3 = arr2.reshape(2, -1, 3) # 2행 3열짜리 depth 2개 생성해줘\n",
    "\n",
    "print(arr3)\n",
    "print(arr3.ndim)\n",
    "print(arr3.shape)"
   ]
  },
  {
   "cell_type": "code",
   "execution_count": 41,
   "id": "591b5bd2",
   "metadata": {},
   "outputs": [],
   "source": [
    "alist = np.array([1, 2, 3, 4, 5])\n",
    "blist = np.array([6, 7, 8, 9, np.nan])"
   ]
  },
  {
   "cell_type": "code",
   "execution_count": 43,
   "id": "bcc6db91",
   "metadata": {},
   "outputs": [
    {
     "data": {
      "text/plain": [
       "array([ 6.,  7.,  8.,  9., nan])"
      ]
     },
     "execution_count": 43,
     "metadata": {},
     "output_type": "execute_result"
    }
   ],
   "source": [
    "blist"
   ]
  },
  {
   "cell_type": "code",
   "execution_count": 45,
   "id": "5ab08633",
   "metadata": {},
   "outputs": [
    {
     "name": "stdout",
     "output_type": "stream",
     "text": [
      "[3 4 5 6 7]\n",
      "[-1  0  1  2  3]\n",
      "[ 2  4  6  8 10]\n",
      "[0.5 1.  1.5 2.  2.5]\n"
     ]
    }
   ],
   "source": [
    "print(alist + 2)\n",
    "print(alist - 2)\n",
    "print(alist * 2)\n",
    "print(alist / 2)"
   ]
  },
  {
   "cell_type": "code",
   "execution_count": 47,
   "id": "dee79695",
   "metadata": {},
   "outputs": [
    {
     "data": {
      "text/plain": [
       "array([False,  True, False])"
      ]
     },
     "execution_count": 47,
     "metadata": {},
     "output_type": "execute_result"
    }
   ],
   "source": [
    "a = np.array([1, 2, 3])\n",
    "b = np.array([10, 20, 30])\n",
    "\n",
    "(a == 2) & (b > 10)"
   ]
  },
  {
   "cell_type": "code",
   "execution_count": 49,
   "id": "d9abbd6c",
   "metadata": {},
   "outputs": [
    {
     "name": "stdout",
     "output_type": "stream",
     "text": [
      "2\n",
      "4\n"
     ]
    }
   ],
   "source": [
    "a = np.array([0, 1, 2, 3, 4])\n",
    "print(a[2])\n",
    "print(a[-1])"
   ]
  },
  {
   "cell_type": "code",
   "execution_count": 55,
   "id": "4bdfd160",
   "metadata": {},
   "outputs": [
    {
     "name": "stdout",
     "output_type": "stream",
     "text": [
      "0 1 5\n"
     ]
    }
   ],
   "source": [
    "alist = [[0, 1, 2], [3, 4, 5]]\n",
    "# 0, 1, 5 출력하기\n",
    "\n",
    "print(alist[0][0], alist[0][1], alist[1][2])"
   ]
  },
  {
   "cell_type": "code",
   "execution_count": 63,
   "id": "8dd08269",
   "metadata": {},
   "outputs": [
    {
     "name": "stdout",
     "output_type": "stream",
     "text": [
      "[0, 1]\n",
      "[4, 5]\n"
     ]
    },
    {
     "data": {
      "text/plain": [
       "[1, 4]"
      ]
     },
     "execution_count": 63,
     "metadata": {},
     "output_type": "execute_result"
    }
   ],
   "source": [
    "# [[0, 1, 2]\n",
    "#  [3, 4, 5]]\n",
    "\n",
    "# 0, 1 슬라이싱\n",
    "print(alist[0][0:2])\n",
    "# 4, 5 슬라이싱\n",
    "print(alist[1][1:])\n",
    "# 1, 4를 하나의 리스트에 담아서 보여주세요\n",
    "[alist[0][1], alist[1][1]]"
   ]
  },
  {
   "cell_type": "code",
   "execution_count": 67,
   "id": "9bb8f2ad",
   "metadata": {},
   "outputs": [
    {
     "data": {
      "text/plain": [
       "array([[0, 1, 2],\n",
       "       [3, 4, 5]])"
      ]
     },
     "execution_count": 67,
     "metadata": {},
     "output_type": "execute_result"
    }
   ],
   "source": [
    "blist = np.array([[0, 1, 2], [3, 4, 5]])\n",
    "blist"
   ]
  },
  {
   "cell_type": "code",
   "execution_count": 75,
   "id": "abdc6580",
   "metadata": {},
   "outputs": [
    {
     "data": {
      "text/plain": [
       "array([1, 4])"
      ]
     },
     "execution_count": 75,
     "metadata": {},
     "output_type": "execute_result"
    }
   ],
   "source": [
    "blist[:, 1]"
   ]
  },
  {
   "cell_type": "code",
   "execution_count": 74,
   "id": "29afcd4d",
   "metadata": {},
   "outputs": [
    {
     "name": "stdout",
     "output_type": "stream",
     "text": [
      "[0 1]\n",
      "[4 5]\n",
      "1 4\n"
     ]
    }
   ],
   "source": [
    "print(blist[0, :2])\n",
    "print(blist[1, 1:])\n",
    "print(blist[0, 1],blist[1, 1])"
   ]
  },
  {
   "cell_type": "code",
   "execution_count": 69,
   "id": "0b437370",
   "metadata": {},
   "outputs": [
    {
     "name": "stdout",
     "output_type": "stream",
     "text": [
      "0 1 5\n"
     ]
    }
   ],
   "source": [
    "print(blist[0, 0], blist[0, 1], blist[1, 2])"
   ]
  },
  {
   "cell_type": "code",
   "execution_count": 76,
   "id": "e087e984",
   "metadata": {},
   "outputs": [
    {
     "name": "stdout",
     "output_type": "stream",
     "text": [
      "[1 4]\n"
     ]
    }
   ],
   "source": [
    "print(blist[[0, 1], [1, 1]])"
   ]
  },
  {
   "cell_type": "code",
   "execution_count": null,
   "id": "f39c50c8",
   "metadata": {},
   "outputs": [
    {
     "name": "stdout",
     "output_type": "stream",
     "text": [
      "[0 1 2]\n",
      "[1 5]\n",
      "[5 6 7]\n",
      "[[0 1]\n",
      " [4 5]]\n"
     ]
    }
   ],
   "source": [
    "# 배열 슬라이싱\n",
    "\n",
    "a = np.array([[0, 1, 2, 3], [4, 5, 6, 7]])\n",
    "a\n",
    "\n",
    "print(a[0, :3])\n",
    "print(a[:, 1])\n",
    "print(a[1, 1:])\n",
    "print(a[:, :2])"
   ]
  },
  {
   "cell_type": "code",
   "execution_count": 99,
   "id": "0585c3db",
   "metadata": {},
   "outputs": [
    {
     "name": "stdout",
     "output_type": "stream",
     "text": [
      "[[0 1]\n",
      " [4 5]\n",
      " [8 9]]\n"
     ]
    }
   ],
   "source": [
    "a = np.array([[0, 1, 2, 3], [4, 5, 6, 7], [8, 9, 10, 11]])\n",
    "a\n",
    "\n",
    "# 슬라이싱 최소 3회 도전\n",
    "\n",
    "print(a[:, :2])"
   ]
  },
  {
   "cell_type": "code",
   "execution_count": 100,
   "id": "e7af3f7c",
   "metadata": {},
   "outputs": [
    {
     "name": "stdout",
     "output_type": "stream",
     "text": [
      "[0 1 2 3] [ 8  9 10 11]\n"
     ]
    }
   ],
   "source": [
    "print(a[0, :], a[2, :])"
   ]
  },
  {
   "cell_type": "code",
   "execution_count": 101,
   "id": "83c2673e",
   "metadata": {},
   "outputs": [
    {
     "name": "stdout",
     "output_type": "stream",
     "text": [
      "[[ 5  6  7]\n",
      " [ 9 10 11]]\n"
     ]
    }
   ],
   "source": [
    "print(a[1:, 1:])"
   ]
  },
  {
   "cell_type": "code",
   "execution_count": 103,
   "id": "5608797e",
   "metadata": {},
   "outputs": [
    {
     "name": "stdout",
     "output_type": "stream",
     "text": [
      "[[ 2  3]\n",
      " [ 6  7]\n",
      " [10 11]]\n"
     ]
    }
   ],
   "source": [
    "print(a[:, 2:])"
   ]
  },
  {
   "cell_type": "markdown",
   "id": "d5225f3b",
   "metadata": {},
   "source": [
    "#### 팬시 인덱싱 : Fancy indexing"
   ]
  },
  {
   "cell_type": "markdown",
   "id": "0b198618",
   "metadata": {},
   "source": [
    "정수나 boolean을 이용해서 원하는 인덱스의 값만 꺼내서 가져오는 방식"
   ]
  },
  {
   "cell_type": "code",
   "execution_count": 104,
   "id": "46792a31",
   "metadata": {},
   "outputs": [
    {
     "data": {
      "text/plain": [
       "array([0, 2, 4, 6, 8])"
      ]
     },
     "execution_count": 104,
     "metadata": {},
     "output_type": "execute_result"
    }
   ],
   "source": [
    "a = np.array([0, 1, 2, 3, 4 , 5, 6, 7, 8, 9])\n",
    "idx = np.array([True, False, True, False, True,\n",
    "                False, True, False, True, False])\n",
    "a[idx]"
   ]
  },
  {
   "cell_type": "code",
   "execution_count": 105,
   "id": "928c3c35",
   "metadata": {},
   "outputs": [
    {
     "data": {
      "text/plain": [
       "array([0, 2, 5])"
      ]
     },
     "execution_count": 105,
     "metadata": {},
     "output_type": "execute_result"
    }
   ],
   "source": [
    "a = np.array([0, 1, 2, 3, 4, 5, 6, 7, 8])\n",
    "idx = [0, 2, 5]\n",
    "a[idx]"
   ]
  },
  {
   "cell_type": "code",
   "execution_count": 106,
   "id": "8e735f96",
   "metadata": {},
   "outputs": [
    {
     "data": {
      "text/plain": [
       "array([[1, 2, 3],\n",
       "       [4, 5, 6],\n",
       "       [7, 8, 9]])"
      ]
     },
     "execution_count": 106,
     "metadata": {},
     "output_type": "execute_result"
    }
   ],
   "source": [
    "b = np.array([[1, 2, 3], [4, 5, 6], [7, 8, 9]])\n",
    "b"
   ]
  },
  {
   "cell_type": "code",
   "execution_count": null,
   "id": "df9a4a11",
   "metadata": {},
   "outputs": [
    {
     "data": {
      "text/plain": [
       "array([[1, 2, 3],\n",
       "       [7, 8, 9]])"
      ]
     },
     "execution_count": 108,
     "metadata": {},
     "output_type": "execute_result"
    }
   ],
   "source": [
    "# 0번행과 2번행을 가져온다\n",
    "b[[0, 2]] "
   ]
  },
  {
   "cell_type": "code",
   "execution_count": 110,
   "id": "11d72418",
   "metadata": {},
   "outputs": [
    {
     "data": {
      "text/plain": [
       "array([2, 6, 7])"
      ]
     },
     "execution_count": 110,
     "metadata": {},
     "output_type": "execute_result"
    }
   ],
   "source": [
    "b[[0,1,2],[1,2,0]]"
   ]
  },
  {
   "cell_type": "code",
   "execution_count": 111,
   "id": "e5ca9e8b",
   "metadata": {},
   "outputs": [],
   "source": [
    "# boolean 인덱싱\n",
    "arr = np.array([1, 2, 3, 4, 5, 6, 7, 8])"
   ]
  },
  {
   "cell_type": "code",
   "execution_count": 112,
   "id": "b0d5f85a",
   "metadata": {},
   "outputs": [
    {
     "data": {
      "text/plain": [
       "array([False,  True, False,  True, False,  True, False,  True])"
      ]
     },
     "execution_count": 112,
     "metadata": {},
     "output_type": "execute_result"
    }
   ],
   "source": [
    "arr % 2 == 0"
   ]
  },
  {
   "cell_type": "code",
   "execution_count": null,
   "id": "c3d02314",
   "metadata": {},
   "outputs": [
    {
     "data": {
      "text/plain": [
       "array([2, 4, 6, 8])"
      ]
     },
     "execution_count": 113,
     "metadata": {},
     "output_type": "execute_result"
    }
   ],
   "source": [
    "# 짝수인 숫자만 꺼내는 연산\n",
    "arr[arr % 2 == 0]"
   ]
  },
  {
   "cell_type": "code",
   "execution_count": null,
   "id": "a385cee0",
   "metadata": {},
   "outputs": [
    {
     "data": {
      "text/plain": [
       "array([1, 3, 5, 7])"
      ]
     },
     "execution_count": 114,
     "metadata": {},
     "output_type": "execute_result"
    }
   ],
   "source": [
    "# 홀수인 숫자만 꺼내는 연산\n",
    "arr[arr % 2 == 1]"
   ]
  },
  {
   "cell_type": "code",
   "execution_count": null,
   "id": "337ad1d8",
   "metadata": {},
   "outputs": [
    {
     "data": {
      "text/plain": [
       "array([11, 11, 11, 11, 11, 11, 22, 22, 22, 22, 22, 33, 33, 33, 33, 33])"
      ]
     },
     "execution_count": 115,
     "metadata": {},
     "output_type": "execute_result"
    }
   ],
   "source": [
    "a = np.array([11, 22, 33, 44, 55, 66, 77, 88, 99])\n",
    "idx = np.array([0, 0, 0, 0, 0, 0, 1, 1, 1, 1, 1, 2, 2, 2, 2, 2])\n",
    "a[idx]\n",
    "# 인덱스의 위치에 따라 여러번 출력된다."
   ]
  },
  {
   "cell_type": "code",
   "execution_count": 116,
   "id": "cf50c565",
   "metadata": {},
   "outputs": [
    {
     "data": {
      "text/plain": [
       "array([[ 1,  2,  3,  4],\n",
       "       [ 5,  6,  7,  8],\n",
       "       [ 9, 10, 11, 12]])"
      ]
     },
     "execution_count": 116,
     "metadata": {},
     "output_type": "execute_result"
    }
   ],
   "source": [
    "a = np.array([[1, 2, 3 ,4], [5, 6, 7, 8], [9, 10, 11, 12]])\n",
    "a"
   ]
  },
  {
   "cell_type": "code",
   "execution_count": 122,
   "id": "c0dacb19",
   "metadata": {},
   "outputs": [
    {
     "data": {
      "text/plain": [
       "array([[ 1,  4],\n",
       "       [ 5,  8],\n",
       "       [ 9, 12]])"
      ]
     },
     "execution_count": 122,
     "metadata": {},
     "output_type": "execute_result"
    }
   ],
   "source": [
    "a[:,[True, False, False, True]]"
   ]
  },
  {
   "cell_type": "code",
   "execution_count": 123,
   "id": "64296eb5",
   "metadata": {},
   "outputs": [
    {
     "data": {
      "text/plain": [
       "array([[ 1,  4],\n",
       "       [ 5,  8],\n",
       "       [ 9, 12]])"
      ]
     },
     "execution_count": 123,
     "metadata": {},
     "output_type": "execute_result"
    }
   ],
   "source": [
    "a[:, [0, 3]]"
   ]
  },
  {
   "cell_type": "code",
   "execution_count": 124,
   "id": "454d111b",
   "metadata": {},
   "outputs": [
    {
     "data": {
      "text/plain": [
       "array([[ 1,  2,  3,  4],\n",
       "       [ 5,  6,  7,  8],\n",
       "       [ 9, 10, 11, 12]])"
      ]
     },
     "execution_count": 124,
     "metadata": {},
     "output_type": "execute_result"
    }
   ],
   "source": [
    "a = np.array([[1, 2, 3 ,4], [5, 6, 7, 8], [9, 10, 11, 12]])\n",
    "a"
   ]
  },
  {
   "cell_type": "code",
   "execution_count": null,
   "id": "77bf2a87",
   "metadata": {},
   "outputs": [
    {
     "data": {
      "text/plain": [
       "array([[ 9, 10, 11, 12],\n",
       "       [ 1,  2,  3,  4],\n",
       "       [ 5,  6,  7,  8]])"
      ]
     },
     "execution_count": 128,
     "metadata": {},
     "output_type": "execute_result"
    }
   ],
   "source": [
    "# 다시 확인해보기\n",
    "a[[2, 0, 1], :]"
   ]
  },
  {
   "cell_type": "code",
   "execution_count": 129,
   "id": "7ec226ce",
   "metadata": {},
   "outputs": [],
   "source": [
    "data = np.array([1, 4, 9, 16])"
   ]
  },
  {
   "cell_type": "code",
   "execution_count": 130,
   "id": "95b72623",
   "metadata": {},
   "outputs": [
    {
     "data": {
      "text/plain": [
       "array([1., 2., 3., 4.])"
      ]
     },
     "execution_count": 130,
     "metadata": {},
     "output_type": "execute_result"
    }
   ],
   "source": [
    "np.sqrt(data)"
   ]
  },
  {
   "cell_type": "code",
   "execution_count": 131,
   "id": "cc8a440f",
   "metadata": {},
   "outputs": [
    {
     "data": {
      "text/plain": [
       "array([2.71828183e+00, 5.45981500e+01, 8.10308393e+03, 8.88611052e+06])"
      ]
     },
     "execution_count": 131,
     "metadata": {},
     "output_type": "execute_result"
    }
   ],
   "source": [
    "np.exp(data)"
   ]
  },
  {
   "cell_type": "code",
   "execution_count": null,
   "id": "7618acbe",
   "metadata": {},
   "outputs": [
    {
     "data": {
      "text/plain": [
       "np.int64(30)"
      ]
     },
     "execution_count": 132,
     "metadata": {},
     "output_type": "execute_result"
    }
   ],
   "source": [
    "np.sum(data)"
   ]
  },
  {
   "cell_type": "code",
   "execution_count": 133,
   "id": "2fe54b51",
   "metadata": {},
   "outputs": [
    {
     "data": {
      "text/plain": [
       "np.float64(7.5)"
      ]
     },
     "execution_count": 133,
     "metadata": {},
     "output_type": "execute_result"
    }
   ],
   "source": [
    "np.mean(data)"
   ]
  },
  {
   "cell_type": "code",
   "execution_count": null,
   "id": "371a8fe7",
   "metadata": {},
   "outputs": [
    {
     "data": {
      "text/plain": [
       "np.float64(5.678908345800274)"
      ]
     },
     "execution_count": 134,
     "metadata": {},
     "output_type": "execute_result"
    }
   ],
   "source": [
    "np.std(data)"
   ]
  },
  {
   "cell_type": "code",
   "execution_count": 135,
   "id": "61dbd0cd",
   "metadata": {},
   "outputs": [
    {
     "data": {
      "text/plain": [
       "array([2.71828183e+00, 5.45981500e+01, 8.10308393e+03, 8.88611052e+06])"
      ]
     },
     "execution_count": 135,
     "metadata": {},
     "output_type": "execute_result"
    }
   ],
   "source": [
    "np.exp(data)"
   ]
  },
  {
   "cell_type": "code",
   "execution_count": 137,
   "id": "ff7d8a85",
   "metadata": {},
   "outputs": [
    {
     "data": {
      "text/plain": [
       "array([9])"
      ]
     },
     "execution_count": 137,
     "metadata": {},
     "output_type": "execute_result"
    }
   ],
   "source": [
    "# 도전 미션 \n",
    "x = np.array([1, 2, 3, 4, 5, 6,7, 8, 9,10,\n",
    "              11, 12, 13, 14, 15, 16, 17, 18, 19, 20])\n",
    "\n",
    "# 배열에서 3의 배수 찾기 \n",
    "# 배열에서 4로 나누면 1이 남는 수를 찾기\n",
    "# 배열에서 3으로 나누면 나누어지고 4로 나누면 1이 남는 수를 찾기\n",
    "idx = x[(x % 3 == 0) & (x % 4 == 1)]\n",
    "idx"
   ]
  },
  {
   "cell_type": "markdown",
   "id": "02297753",
   "metadata": {},
   "source": [
    "### Pandas"
   ]
  },
  {
   "cell_type": "markdown",
   "id": "709d5132",
   "metadata": {},
   "source": [
    "시리즈(Series)와 데이터 프레임(DataFrame)"
   ]
  },
  {
   "cell_type": "code",
   "execution_count": 140,
   "id": "b140bbc5",
   "metadata": {},
   "outputs": [
    {
     "name": "stdout",
     "output_type": "stream",
     "text": [
      "Collecting pandas\n",
      "  Downloading pandas-2.3.2-cp311-cp311-win_amd64.whl.metadata (19 kB)\n",
      "Requirement already satisfied: numpy>=1.23.2 in c:\\users\\el064\\appdata\\local\\programs\\python\\python311\\lib\\site-packages (from pandas) (2.3.3)\n",
      "Requirement already satisfied: python-dateutil>=2.8.2 in c:\\users\\el064\\appdata\\roaming\\python\\python311\\site-packages (from pandas) (2.9.0.post0)\n",
      "Collecting pytz>=2020.1 (from pandas)\n",
      "  Downloading pytz-2025.2-py2.py3-none-any.whl.metadata (22 kB)\n",
      "Collecting tzdata>=2022.7 (from pandas)\n",
      "  Downloading tzdata-2025.2-py2.py3-none-any.whl.metadata (1.4 kB)\n",
      "Requirement already satisfied: six>=1.5 in c:\\users\\el064\\appdata\\roaming\\python\\python311\\site-packages (from python-dateutil>=2.8.2->pandas) (1.17.0)\n",
      "Downloading pandas-2.3.2-cp311-cp311-win_amd64.whl (11.3 MB)\n",
      "   ---------------------------------------- 0.0/11.3 MB ? eta -:--:--\n",
      "    --------------------------------------- 0.2/11.3 MB 6.3 MB/s eta 0:00:02\n",
      "   --- ------------------------------------ 1.0/11.3 MB 12.2 MB/s eta 0:00:01\n",
      "   --- ------------------------------------ 1.1/11.3 MB 11.2 MB/s eta 0:00:01\n",
      "   -------- ------------------------------- 2.3/11.3 MB 13.3 MB/s eta 0:00:01\n",
      "   -------- ------------------------------- 2.4/11.3 MB 12.9 MB/s eta 0:00:01\n",
      "   ----------- ---------------------------- 3.2/11.3 MB 12.1 MB/s eta 0:00:01\n",
      "   -------------- ------------------------- 4.1/11.3 MB 13.2 MB/s eta 0:00:01\n",
      "   ----------------- ---------------------- 5.0/11.3 MB 13.8 MB/s eta 0:00:01\n",
      "   ------------------- -------------------- 5.6/11.3 MB 14.2 MB/s eta 0:00:01\n",
      "   ---------------------- ----------------- 6.5/11.3 MB 14.3 MB/s eta 0:00:01\n",
      "   ------------------------- -------------- 7.3/11.3 MB 14.5 MB/s eta 0:00:01\n",
      "   ---------------------------- ----------- 8.0/11.3 MB 14.7 MB/s eta 0:00:01\n",
      "   ------------------------------- -------- 8.8/11.3 MB 14.8 MB/s eta 0:00:01\n",
      "   --------------------------------- ------ 9.6/11.3 MB 15.3 MB/s eta 0:00:01\n",
      "   ------------------------------------ --- 10.2/11.3 MB 14.9 MB/s eta 0:00:01\n",
      "   -------------------------------------- - 11.0/11.3 MB 15.6 MB/s eta 0:00:01\n",
      "   ---------------------------------------  11.3/11.3 MB 16.8 MB/s eta 0:00:01\n",
      "   ---------------------------------------- 11.3/11.3 MB 16.0 MB/s eta 0:00:00\n",
      "Downloading pytz-2025.2-py2.py3-none-any.whl (509 kB)\n",
      "   ---------------------------------------- 0.0/509.2 kB ? eta -:--:--\n",
      "   --------------------------------------- 509.2/509.2 kB 10.6 MB/s eta 0:00:00\n",
      "Downloading tzdata-2025.2-py2.py3-none-any.whl (347 kB)\n",
      "   ---------------------------------------- 0.0/347.8 kB ? eta -:--:--\n",
      "   --------------------------------------- 347.8/347.8 kB 21.1 MB/s eta 0:00:00\n",
      "Installing collected packages: pytz, tzdata, pandas\n",
      "Successfully installed pandas-2.3.2 pytz-2025.2 tzdata-2025.2\n"
     ]
    },
    {
     "name": "stderr",
     "output_type": "stream",
     "text": [
      "\n",
      "[notice] A new release of pip is available: 24.0 -> 25.2\n",
      "[notice] To update, run: python.exe -m pip install --upgrade pip\n"
     ]
    }
   ],
   "source": [
    "!pip install pandas"
   ]
  },
  {
   "cell_type": "code",
   "execution_count": 141,
   "id": "cce984ab",
   "metadata": {},
   "outputs": [],
   "source": [
    "import pandas as pd"
   ]
  },
  {
   "cell_type": "code",
   "execution_count": 243,
   "id": "47f3e8f1",
   "metadata": {},
   "outputs": [
    {
     "data": {
      "text/html": [
       "<div>\n",
       "<style scoped>\n",
       "    .dataframe tbody tr th:only-of-type {\n",
       "        vertical-align: middle;\n",
       "    }\n",
       "\n",
       "    .dataframe tbody tr th {\n",
       "        vertical-align: top;\n",
       "    }\n",
       "\n",
       "    .dataframe thead th {\n",
       "        text-align: right;\n",
       "    }\n",
       "</style>\n",
       "<table border=\"1\" class=\"dataframe\">\n",
       "  <thead>\n",
       "    <tr style=\"text-align: right;\">\n",
       "      <th></th>\n",
       "      <th>이름</th>\n",
       "      <th>나이</th>\n",
       "      <th>직업</th>\n",
       "      <th>국적</th>\n",
       "      <th>키</th>\n",
       "      <th>재산</th>\n",
       "    </tr>\n",
       "  </thead>\n",
       "  <tbody>\n",
       "    <tr>\n",
       "      <th>0</th>\n",
       "      <td>아이언맨</td>\n",
       "      <td>58</td>\n",
       "      <td>CEO</td>\n",
       "      <td>미국</td>\n",
       "      <td>174</td>\n",
       "      <td>11500000000000</td>\n",
       "    </tr>\n",
       "    <tr>\n",
       "      <th>1</th>\n",
       "      <td>토르</td>\n",
       "      <td>45</td>\n",
       "      <td>신</td>\n",
       "      <td>아스가르드</td>\n",
       "      <td>190</td>\n",
       "      <td>NaN</td>\n",
       "    </tr>\n",
       "    <tr>\n",
       "      <th>2</th>\n",
       "      <td>스파이더맨</td>\n",
       "      <td>18</td>\n",
       "      <td>고등학생</td>\n",
       "      <td>미국</td>\n",
       "      <td>177</td>\n",
       "      <td>600</td>\n",
       "    </tr>\n",
       "    <tr>\n",
       "      <th>3</th>\n",
       "      <td>원더우먼</td>\n",
       "      <td>27</td>\n",
       "      <td>공주</td>\n",
       "      <td>데미스키라</td>\n",
       "      <td>178</td>\n",
       "      <td>NaN</td>\n",
       "    </tr>\n",
       "    <tr>\n",
       "      <th>4</th>\n",
       "      <td>헐크</td>\n",
       "      <td>33</td>\n",
       "      <td>핵물리학자</td>\n",
       "      <td>미국</td>\n",
       "      <td>270</td>\n",
       "      <td>1000000000</td>\n",
       "    </tr>\n",
       "    <tr>\n",
       "      <th>5</th>\n",
       "      <td>캡틴마블</td>\n",
       "      <td>25</td>\n",
       "      <td>파일럿</td>\n",
       "      <td>미국</td>\n",
       "      <td>170</td>\n",
       "      <td>340000000</td>\n",
       "    </tr>\n",
       "    <tr>\n",
       "      <th>6</th>\n",
       "      <td>블랙위도우</td>\n",
       "      <td>32</td>\n",
       "      <td>스파이</td>\n",
       "      <td>러시아</td>\n",
       "      <td>170</td>\n",
       "      <td>50000000</td>\n",
       "    </tr>\n",
       "  </tbody>\n",
       "</table>\n",
       "</div>"
      ],
      "text/plain": [
       "      이름  나이     직업     국적    키             재산\n",
       "0   아이언맨  58    CEO     미국  174 11500000000000\n",
       "1     토르  45      신  아스가르드  190            NaN\n",
       "2  스파이더맨  18   고등학생     미국  177            600\n",
       "3   원더우먼  27     공주  데미스키라  178            NaN\n",
       "4     헐크  33  핵물리학자     미국  270     1000000000\n",
       "5   캡틴마블  25    파일럿     미국  170      340000000\n",
       "6  블랙위도우  32    스파이    러시아  170       50000000"
      ]
     },
     "execution_count": 243,
     "metadata": {},
     "output_type": "execute_result"
    }
   ],
   "source": [
    "df = pd.read_csv('heroes.csv') \n",
    "df\n"
   ]
  },
  {
   "cell_type": "code",
   "execution_count": 145,
   "id": "cd9bb852",
   "metadata": {},
   "outputs": [],
   "source": [
    "pd.options.display.float_format = '{:.0f}'.format"
   ]
  },
  {
   "cell_type": "code",
   "execution_count": 146,
   "id": "ae742ae1",
   "metadata": {},
   "outputs": [
    {
     "data": {
      "text/html": [
       "<div>\n",
       "<style scoped>\n",
       "    .dataframe tbody tr th:only-of-type {\n",
       "        vertical-align: middle;\n",
       "    }\n",
       "\n",
       "    .dataframe tbody tr th {\n",
       "        vertical-align: top;\n",
       "    }\n",
       "\n",
       "    .dataframe thead th {\n",
       "        text-align: right;\n",
       "    }\n",
       "</style>\n",
       "<table border=\"1\" class=\"dataframe\">\n",
       "  <thead>\n",
       "    <tr style=\"text-align: right;\">\n",
       "      <th></th>\n",
       "      <th>이름</th>\n",
       "      <th>나이</th>\n",
       "      <th>직업</th>\n",
       "      <th>국적</th>\n",
       "      <th>키</th>\n",
       "      <th>재산</th>\n",
       "    </tr>\n",
       "  </thead>\n",
       "  <tbody>\n",
       "    <tr>\n",
       "      <th>0</th>\n",
       "      <td>아이언맨</td>\n",
       "      <td>58</td>\n",
       "      <td>CEO</td>\n",
       "      <td>미국</td>\n",
       "      <td>174</td>\n",
       "      <td>11500000000000</td>\n",
       "    </tr>\n",
       "    <tr>\n",
       "      <th>1</th>\n",
       "      <td>토르</td>\n",
       "      <td>45</td>\n",
       "      <td>신</td>\n",
       "      <td>아스가르드</td>\n",
       "      <td>190</td>\n",
       "      <td>NaN</td>\n",
       "    </tr>\n",
       "    <tr>\n",
       "      <th>2</th>\n",
       "      <td>스파이더맨</td>\n",
       "      <td>18</td>\n",
       "      <td>고등학생</td>\n",
       "      <td>미국</td>\n",
       "      <td>177</td>\n",
       "      <td>600</td>\n",
       "    </tr>\n",
       "    <tr>\n",
       "      <th>3</th>\n",
       "      <td>원더우먼</td>\n",
       "      <td>27</td>\n",
       "      <td>공주</td>\n",
       "      <td>데미스키라</td>\n",
       "      <td>178</td>\n",
       "      <td>NaN</td>\n",
       "    </tr>\n",
       "    <tr>\n",
       "      <th>4</th>\n",
       "      <td>헐크</td>\n",
       "      <td>33</td>\n",
       "      <td>핵물리학자</td>\n",
       "      <td>미국</td>\n",
       "      <td>270</td>\n",
       "      <td>1000000000</td>\n",
       "    </tr>\n",
       "    <tr>\n",
       "      <th>5</th>\n",
       "      <td>캡틴마블</td>\n",
       "      <td>25</td>\n",
       "      <td>파일럿</td>\n",
       "      <td>미국</td>\n",
       "      <td>170</td>\n",
       "      <td>340000000</td>\n",
       "    </tr>\n",
       "    <tr>\n",
       "      <th>6</th>\n",
       "      <td>블랙위도우</td>\n",
       "      <td>32</td>\n",
       "      <td>스파이</td>\n",
       "      <td>러시아</td>\n",
       "      <td>170</td>\n",
       "      <td>50000000</td>\n",
       "    </tr>\n",
       "  </tbody>\n",
       "</table>\n",
       "</div>"
      ],
      "text/plain": [
       "      이름  나이     직업     국적    키             재산\n",
       "0   아이언맨  58    CEO     미국  174 11500000000000\n",
       "1     토르  45      신  아스가르드  190            NaN\n",
       "2  스파이더맨  18   고등학생     미국  177            600\n",
       "3   원더우먼  27     공주  데미스키라  178            NaN\n",
       "4     헐크  33  핵물리학자     미국  270     1000000000\n",
       "5   캡틴마블  25    파일럿     미국  170      340000000\n",
       "6  블랙위도우  32    스파이    러시아  170       50000000"
      ]
     },
     "execution_count": 146,
     "metadata": {},
     "output_type": "execute_result"
    }
   ],
   "source": [
    "df"
   ]
  },
  {
   "cell_type": "code",
   "execution_count": 147,
   "id": "2e18cdf8",
   "metadata": {},
   "outputs": [
    {
     "name": "stdout",
     "output_type": "stream",
     "text": [
      "<class 'pandas.core.frame.DataFrame'>\n",
      "RangeIndex: 7 entries, 0 to 6\n",
      "Data columns (total 6 columns):\n",
      " #   Column  Non-Null Count  Dtype  \n",
      "---  ------  --------------  -----  \n",
      " 0   이름      7 non-null      object \n",
      " 1   나이      7 non-null      int64  \n",
      " 2   직업      7 non-null      object \n",
      " 3   국적      7 non-null      object \n",
      " 4   키       7 non-null      int64  \n",
      " 5   재산      5 non-null      float64\n",
      "dtypes: float64(1), int64(2), object(3)\n",
      "memory usage: 468.0+ bytes\n"
     ]
    }
   ],
   "source": [
    "df.info()"
   ]
  },
  {
   "cell_type": "code",
   "execution_count": null,
   "id": "cfa743a7",
   "metadata": {},
   "outputs": [
    {
     "data": {
      "text/html": [
       "<div>\n",
       "<style scoped>\n",
       "    .dataframe tbody tr th:only-of-type {\n",
       "        vertical-align: middle;\n",
       "    }\n",
       "\n",
       "    .dataframe tbody tr th {\n",
       "        vertical-align: top;\n",
       "    }\n",
       "\n",
       "    .dataframe thead th {\n",
       "        text-align: right;\n",
       "    }\n",
       "</style>\n",
       "<table border=\"1\" class=\"dataframe\">\n",
       "  <thead>\n",
       "    <tr style=\"text-align: right;\">\n",
       "      <th></th>\n",
       "      <th>나이</th>\n",
       "      <th>키</th>\n",
       "      <th>재산</th>\n",
       "    </tr>\n",
       "  </thead>\n",
       "  <tbody>\n",
       "    <tr>\n",
       "      <th>count</th>\n",
       "      <td>7</td>\n",
       "      <td>7</td>\n",
       "      <td>5</td>\n",
       "    </tr>\n",
       "    <tr>\n",
       "      <th>mean</th>\n",
       "      <td>34</td>\n",
       "      <td>190</td>\n",
       "      <td>2300278000120</td>\n",
       "    </tr>\n",
       "    <tr>\n",
       "      <th>std</th>\n",
       "      <td>13</td>\n",
       "      <td>36</td>\n",
       "      <td>5142800956894</td>\n",
       "    </tr>\n",
       "    <tr>\n",
       "      <th>min</th>\n",
       "      <td>18</td>\n",
       "      <td>170</td>\n",
       "      <td>600</td>\n",
       "    </tr>\n",
       "    <tr>\n",
       "      <th>25%</th>\n",
       "      <td>26</td>\n",
       "      <td>172</td>\n",
       "      <td>50000000</td>\n",
       "    </tr>\n",
       "    <tr>\n",
       "      <th>50%</th>\n",
       "      <td>32</td>\n",
       "      <td>177</td>\n",
       "      <td>340000000</td>\n",
       "    </tr>\n",
       "    <tr>\n",
       "      <th>75%</th>\n",
       "      <td>39</td>\n",
       "      <td>184</td>\n",
       "      <td>1000000000</td>\n",
       "    </tr>\n",
       "    <tr>\n",
       "      <th>max</th>\n",
       "      <td>58</td>\n",
       "      <td>270</td>\n",
       "      <td>11500000000000</td>\n",
       "    </tr>\n",
       "  </tbody>\n",
       "</table>\n",
       "</div>"
      ],
      "text/plain": [
       "       나이   키             재산\n",
       "count   7   7              5\n",
       "mean   34 190  2300278000120\n",
       "std    13  36  5142800956894\n",
       "min    18 170            600\n",
       "25%    26 172       50000000\n",
       "50%    32 177      340000000\n",
       "75%    39 184     1000000000\n",
       "max    58 270 11500000000000"
      ]
     },
     "execution_count": 149,
     "metadata": {},
     "output_type": "execute_result"
    }
   ],
   "source": [
    "# 숫자형 데이터만 표기\n",
    "df.describe()"
   ]
  },
  {
   "cell_type": "code",
   "execution_count": 153,
   "id": "3358f92b",
   "metadata": {},
   "outputs": [
    {
     "data": {
      "text/html": [
       "<div>\n",
       "<style scoped>\n",
       "    .dataframe tbody tr th:only-of-type {\n",
       "        vertical-align: middle;\n",
       "    }\n",
       "\n",
       "    .dataframe tbody tr th {\n",
       "        vertical-align: top;\n",
       "    }\n",
       "\n",
       "    .dataframe thead th {\n",
       "        text-align: right;\n",
       "    }\n",
       "</style>\n",
       "<table border=\"1\" class=\"dataframe\">\n",
       "  <thead>\n",
       "    <tr style=\"text-align: right;\">\n",
       "      <th></th>\n",
       "      <th>이름</th>\n",
       "      <th>나이</th>\n",
       "      <th>직업</th>\n",
       "      <th>국적</th>\n",
       "      <th>키</th>\n",
       "      <th>재산</th>\n",
       "    </tr>\n",
       "  </thead>\n",
       "  <tbody>\n",
       "    <tr>\n",
       "      <th>0</th>\n",
       "      <td>아이언맨</td>\n",
       "      <td>58</td>\n",
       "      <td>CEO</td>\n",
       "      <td>미국</td>\n",
       "      <td>174</td>\n",
       "      <td>11500000000000</td>\n",
       "    </tr>\n",
       "    <tr>\n",
       "      <th>1</th>\n",
       "      <td>토르</td>\n",
       "      <td>45</td>\n",
       "      <td>신</td>\n",
       "      <td>아스가르드</td>\n",
       "      <td>190</td>\n",
       "      <td>NaN</td>\n",
       "    </tr>\n",
       "    <tr>\n",
       "      <th>2</th>\n",
       "      <td>스파이더맨</td>\n",
       "      <td>18</td>\n",
       "      <td>고등학생</td>\n",
       "      <td>미국</td>\n",
       "      <td>177</td>\n",
       "      <td>600</td>\n",
       "    </tr>\n",
       "    <tr>\n",
       "      <th>3</th>\n",
       "      <td>원더우먼</td>\n",
       "      <td>27</td>\n",
       "      <td>공주</td>\n",
       "      <td>데미스키라</td>\n",
       "      <td>178</td>\n",
       "      <td>NaN</td>\n",
       "    </tr>\n",
       "    <tr>\n",
       "      <th>4</th>\n",
       "      <td>헐크</td>\n",
       "      <td>33</td>\n",
       "      <td>핵물리학자</td>\n",
       "      <td>미국</td>\n",
       "      <td>270</td>\n",
       "      <td>1000000000</td>\n",
       "    </tr>\n",
       "  </tbody>\n",
       "</table>\n",
       "</div>"
      ],
      "text/plain": [
       "      이름  나이     직업     국적    키             재산\n",
       "0   아이언맨  58    CEO     미국  174 11500000000000\n",
       "1     토르  45      신  아스가르드  190            NaN\n",
       "2  스파이더맨  18   고등학생     미국  177            600\n",
       "3   원더우먼  27     공주  데미스키라  178            NaN\n",
       "4     헐크  33  핵물리학자     미국  270     1000000000"
      ]
     },
     "execution_count": 153,
     "metadata": {},
     "output_type": "execute_result"
    }
   ],
   "source": [
    "# 그냥 head를 하면 앞에서부터 5개 \n",
    "df.head()\n",
    "# tail은 뒤에서 다섯개\n",
    "# df.tail()"
   ]
  },
  {
   "cell_type": "code",
   "execution_count": 154,
   "id": "70f89644",
   "metadata": {},
   "outputs": [
    {
     "data": {
      "text/plain": [
       "0       미국\n",
       "1    아스가르드\n",
       "2       미국\n",
       "3    데미스키라\n",
       "4       미국\n",
       "5       미국\n",
       "6      러시아\n",
       "Name: 국적, dtype: object"
      ]
     },
     "execution_count": 154,
     "metadata": {},
     "output_type": "execute_result"
    }
   ],
   "source": [
    "df['국적']"
   ]
  },
  {
   "cell_type": "code",
   "execution_count": 155,
   "id": "3fc0255f",
   "metadata": {},
   "outputs": [
    {
     "data": {
      "text/plain": [
       "pandas.core.series.Series"
      ]
     },
     "execution_count": 155,
     "metadata": {},
     "output_type": "execute_result"
    }
   ],
   "source": [
    "type(df['국적'])"
   ]
  },
  {
   "cell_type": "code",
   "execution_count": 156,
   "id": "f3fbba0b",
   "metadata": {},
   "outputs": [
    {
     "data": {
      "text/plain": [
       "array(['미국', '아스가르드', '데미스키라', '러시아'], dtype=object)"
      ]
     },
     "execution_count": 156,
     "metadata": {},
     "output_type": "execute_result"
    }
   ],
   "source": [
    "df['국적'].unique()"
   ]
  },
  {
   "cell_type": "code",
   "execution_count": 158,
   "id": "00ea5d7f",
   "metadata": {},
   "outputs": [
    {
     "data": {
      "text/plain": [
       "국적\n",
       "미국       4\n",
       "아스가르드    1\n",
       "데미스키라    1\n",
       "러시아      1\n",
       "Name: count, dtype: int64"
      ]
     },
     "execution_count": 158,
     "metadata": {},
     "output_type": "execute_result"
    }
   ],
   "source": [
    "df['국적'].value_counts()"
   ]
  },
  {
   "cell_type": "code",
   "execution_count": 160,
   "id": "79724b76",
   "metadata": {},
   "outputs": [
    {
     "data": {
      "text/plain": [
       "2    18\n",
       "5    25\n",
       "3    27\n",
       "6    32\n",
       "4    33\n",
       "Name: 나이, dtype: int64"
      ]
     },
     "execution_count": 160,
     "metadata": {},
     "output_type": "execute_result"
    }
   ],
   "source": [
    "df['나이'].nsmallest()"
   ]
  },
  {
   "cell_type": "code",
   "execution_count": 161,
   "id": "128ca21d",
   "metadata": {},
   "outputs": [
    {
     "data": {
      "text/html": [
       "<div>\n",
       "<style scoped>\n",
       "    .dataframe tbody tr th:only-of-type {\n",
       "        vertical-align: middle;\n",
       "    }\n",
       "\n",
       "    .dataframe tbody tr th {\n",
       "        vertical-align: top;\n",
       "    }\n",
       "\n",
       "    .dataframe thead th {\n",
       "        text-align: right;\n",
       "    }\n",
       "</style>\n",
       "<table border=\"1\" class=\"dataframe\">\n",
       "  <thead>\n",
       "    <tr style=\"text-align: right;\">\n",
       "      <th></th>\n",
       "      <th>이름</th>\n",
       "      <th>나이</th>\n",
       "      <th>직업</th>\n",
       "      <th>국적</th>\n",
       "      <th>키</th>\n",
       "      <th>재산</th>\n",
       "    </tr>\n",
       "  </thead>\n",
       "  <tbody>\n",
       "    <tr>\n",
       "      <th>0</th>\n",
       "      <td>아이언맨</td>\n",
       "      <td>58</td>\n",
       "      <td>CEO</td>\n",
       "      <td>미국</td>\n",
       "      <td>174</td>\n",
       "      <td>11500000000000</td>\n",
       "    </tr>\n",
       "    <tr>\n",
       "      <th>1</th>\n",
       "      <td>토르</td>\n",
       "      <td>45</td>\n",
       "      <td>신</td>\n",
       "      <td>아스가르드</td>\n",
       "      <td>190</td>\n",
       "      <td>NaN</td>\n",
       "    </tr>\n",
       "    <tr>\n",
       "      <th>4</th>\n",
       "      <td>헐크</td>\n",
       "      <td>33</td>\n",
       "      <td>핵물리학자</td>\n",
       "      <td>미국</td>\n",
       "      <td>270</td>\n",
       "      <td>1000000000</td>\n",
       "    </tr>\n",
       "    <tr>\n",
       "      <th>6</th>\n",
       "      <td>블랙위도우</td>\n",
       "      <td>32</td>\n",
       "      <td>스파이</td>\n",
       "      <td>러시아</td>\n",
       "      <td>170</td>\n",
       "      <td>50000000</td>\n",
       "    </tr>\n",
       "    <tr>\n",
       "      <th>3</th>\n",
       "      <td>원더우먼</td>\n",
       "      <td>27</td>\n",
       "      <td>공주</td>\n",
       "      <td>데미스키라</td>\n",
       "      <td>178</td>\n",
       "      <td>NaN</td>\n",
       "    </tr>\n",
       "    <tr>\n",
       "      <th>5</th>\n",
       "      <td>캡틴마블</td>\n",
       "      <td>25</td>\n",
       "      <td>파일럿</td>\n",
       "      <td>미국</td>\n",
       "      <td>170</td>\n",
       "      <td>340000000</td>\n",
       "    </tr>\n",
       "    <tr>\n",
       "      <th>2</th>\n",
       "      <td>스파이더맨</td>\n",
       "      <td>18</td>\n",
       "      <td>고등학생</td>\n",
       "      <td>미국</td>\n",
       "      <td>177</td>\n",
       "      <td>600</td>\n",
       "    </tr>\n",
       "  </tbody>\n",
       "</table>\n",
       "</div>"
      ],
      "text/plain": [
       "      이름  나이     직업     국적    키             재산\n",
       "0   아이언맨  58    CEO     미국  174 11500000000000\n",
       "1     토르  45      신  아스가르드  190            NaN\n",
       "4     헐크  33  핵물리학자     미국  270     1000000000\n",
       "6  블랙위도우  32    스파이    러시아  170       50000000\n",
       "3   원더우먼  27     공주  데미스키라  178            NaN\n",
       "5   캡틴마블  25    파일럿     미국  170      340000000\n",
       "2  스파이더맨  18   고등학생     미국  177            600"
      ]
     },
     "execution_count": 161,
     "metadata": {},
     "output_type": "execute_result"
    }
   ],
   "source": [
    "df.nlargest(7, '나이')"
   ]
  },
  {
   "cell_type": "code",
   "execution_count": 162,
   "id": "c4312555",
   "metadata": {},
   "outputs": [
    {
     "data": {
      "text/html": [
       "<div>\n",
       "<style scoped>\n",
       "    .dataframe tbody tr th:only-of-type {\n",
       "        vertical-align: middle;\n",
       "    }\n",
       "\n",
       "    .dataframe tbody tr th {\n",
       "        vertical-align: top;\n",
       "    }\n",
       "\n",
       "    .dataframe thead th {\n",
       "        text-align: right;\n",
       "    }\n",
       "</style>\n",
       "<table border=\"1\" class=\"dataframe\">\n",
       "  <thead>\n",
       "    <tr style=\"text-align: right;\">\n",
       "      <th></th>\n",
       "      <th>이름</th>\n",
       "      <th>나이</th>\n",
       "      <th>직업</th>\n",
       "      <th>국적</th>\n",
       "      <th>키</th>\n",
       "      <th>재산</th>\n",
       "    </tr>\n",
       "  </thead>\n",
       "  <tbody>\n",
       "    <tr>\n",
       "      <th>4</th>\n",
       "      <td>헐크</td>\n",
       "      <td>33</td>\n",
       "      <td>핵물리학자</td>\n",
       "      <td>미국</td>\n",
       "      <td>270</td>\n",
       "      <td>1000000000</td>\n",
       "    </tr>\n",
       "    <tr>\n",
       "      <th>1</th>\n",
       "      <td>토르</td>\n",
       "      <td>45</td>\n",
       "      <td>신</td>\n",
       "      <td>아스가르드</td>\n",
       "      <td>190</td>\n",
       "      <td>NaN</td>\n",
       "    </tr>\n",
       "    <tr>\n",
       "      <th>3</th>\n",
       "      <td>원더우먼</td>\n",
       "      <td>27</td>\n",
       "      <td>공주</td>\n",
       "      <td>데미스키라</td>\n",
       "      <td>178</td>\n",
       "      <td>NaN</td>\n",
       "    </tr>\n",
       "    <tr>\n",
       "      <th>2</th>\n",
       "      <td>스파이더맨</td>\n",
       "      <td>18</td>\n",
       "      <td>고등학생</td>\n",
       "      <td>미국</td>\n",
       "      <td>177</td>\n",
       "      <td>600</td>\n",
       "    </tr>\n",
       "    <tr>\n",
       "      <th>0</th>\n",
       "      <td>아이언맨</td>\n",
       "      <td>58</td>\n",
       "      <td>CEO</td>\n",
       "      <td>미국</td>\n",
       "      <td>174</td>\n",
       "      <td>11500000000000</td>\n",
       "    </tr>\n",
       "    <tr>\n",
       "      <th>5</th>\n",
       "      <td>캡틴마블</td>\n",
       "      <td>25</td>\n",
       "      <td>파일럿</td>\n",
       "      <td>미국</td>\n",
       "      <td>170</td>\n",
       "      <td>340000000</td>\n",
       "    </tr>\n",
       "    <tr>\n",
       "      <th>6</th>\n",
       "      <td>블랙위도우</td>\n",
       "      <td>32</td>\n",
       "      <td>스파이</td>\n",
       "      <td>러시아</td>\n",
       "      <td>170</td>\n",
       "      <td>50000000</td>\n",
       "    </tr>\n",
       "  </tbody>\n",
       "</table>\n",
       "</div>"
      ],
      "text/plain": [
       "      이름  나이     직업     국적    키             재산\n",
       "4     헐크  33  핵물리학자     미국  270     1000000000\n",
       "1     토르  45      신  아스가르드  190            NaN\n",
       "3   원더우먼  27     공주  데미스키라  178            NaN\n",
       "2  스파이더맨  18   고등학생     미국  177            600\n",
       "0   아이언맨  58    CEO     미국  174 11500000000000\n",
       "5   캡틴마블  25    파일럿     미국  170      340000000\n",
       "6  블랙위도우  32    스파이    러시아  170       50000000"
      ]
     },
     "execution_count": 162,
     "metadata": {},
     "output_type": "execute_result"
    }
   ],
   "source": [
    "df.nlargest(7, '키')"
   ]
  },
  {
   "cell_type": "code",
   "execution_count": 165,
   "id": "0d2177f9",
   "metadata": {},
   "outputs": [
    {
     "data": {
      "text/plain": [
       "0     아이언맨\n",
       "1       토르\n",
       "2    스파이더맨\n",
       "3     원더우먼\n",
       "4       헐크\n",
       "Name: 이름, dtype: object"
      ]
     },
     "execution_count": 165,
     "metadata": {},
     "output_type": "execute_result"
    }
   ],
   "source": [
    "# 1차원 데이터이므로 아래와 같이 인덱스 지정 가능\n",
    "df['이름'][:5]"
   ]
  },
  {
   "cell_type": "code",
   "execution_count": 167,
   "id": "80d6a7e7",
   "metadata": {},
   "outputs": [
    {
     "data": {
      "text/html": [
       "<div>\n",
       "<style scoped>\n",
       "    .dataframe tbody tr th:only-of-type {\n",
       "        vertical-align: middle;\n",
       "    }\n",
       "\n",
       "    .dataframe tbody tr th {\n",
       "        vertical-align: top;\n",
       "    }\n",
       "\n",
       "    .dataframe thead th {\n",
       "        text-align: right;\n",
       "    }\n",
       "</style>\n",
       "<table border=\"1\" class=\"dataframe\">\n",
       "  <thead>\n",
       "    <tr style=\"text-align: right;\">\n",
       "      <th></th>\n",
       "      <th>이름</th>\n",
       "      <th>나이</th>\n",
       "      <th>직업</th>\n",
       "      <th>국적</th>\n",
       "      <th>키</th>\n",
       "      <th>재산</th>\n",
       "    </tr>\n",
       "  </thead>\n",
       "  <tbody>\n",
       "    <tr>\n",
       "      <th>0</th>\n",
       "      <td>아이언맨</td>\n",
       "      <td>58</td>\n",
       "      <td>CEO</td>\n",
       "      <td>미국</td>\n",
       "      <td>174</td>\n",
       "      <td>11500000000000</td>\n",
       "    </tr>\n",
       "    <tr>\n",
       "      <th>1</th>\n",
       "      <td>토르</td>\n",
       "      <td>45</td>\n",
       "      <td>신</td>\n",
       "      <td>아스가르드</td>\n",
       "      <td>190</td>\n",
       "      <td>NaN</td>\n",
       "    </tr>\n",
       "    <tr>\n",
       "      <th>2</th>\n",
       "      <td>스파이더맨</td>\n",
       "      <td>18</td>\n",
       "      <td>고등학생</td>\n",
       "      <td>미국</td>\n",
       "      <td>177</td>\n",
       "      <td>600</td>\n",
       "    </tr>\n",
       "  </tbody>\n",
       "</table>\n",
       "</div>"
      ],
      "text/plain": [
       "      이름  나이    직업     국적    키             재산\n",
       "0   아이언맨  58   CEO     미국  174 11500000000000\n",
       "1     토르  45     신  아스가르드  190            NaN\n",
       "2  스파이더맨  18  고등학생     미국  177            600"
      ]
     },
     "execution_count": 167,
     "metadata": {},
     "output_type": "execute_result"
    }
   ],
   "source": [
    "df[:3]"
   ]
  },
  {
   "cell_type": "code",
   "execution_count": 168,
   "id": "52b2b584",
   "metadata": {},
   "outputs": [
    {
     "data": {
      "text/html": [
       "<div>\n",
       "<style scoped>\n",
       "    .dataframe tbody tr th:only-of-type {\n",
       "        vertical-align: middle;\n",
       "    }\n",
       "\n",
       "    .dataframe tbody tr th {\n",
       "        vertical-align: top;\n",
       "    }\n",
       "\n",
       "    .dataframe thead th {\n",
       "        text-align: right;\n",
       "    }\n",
       "</style>\n",
       "<table border=\"1\" class=\"dataframe\">\n",
       "  <thead>\n",
       "    <tr style=\"text-align: right;\">\n",
       "      <th></th>\n",
       "      <th>이름</th>\n",
       "      <th>나이</th>\n",
       "      <th>직업</th>\n",
       "      <th>국적</th>\n",
       "      <th>키</th>\n",
       "      <th>재산</th>\n",
       "    </tr>\n",
       "  </thead>\n",
       "  <tbody>\n",
       "    <tr>\n",
       "      <th>0</th>\n",
       "      <td>아이언맨</td>\n",
       "      <td>58</td>\n",
       "      <td>CEO</td>\n",
       "      <td>미국</td>\n",
       "      <td>174</td>\n",
       "      <td>11500000000000</td>\n",
       "    </tr>\n",
       "    <tr>\n",
       "      <th>1</th>\n",
       "      <td>토르</td>\n",
       "      <td>45</td>\n",
       "      <td>신</td>\n",
       "      <td>아스가르드</td>\n",
       "      <td>190</td>\n",
       "      <td>NaN</td>\n",
       "    </tr>\n",
       "    <tr>\n",
       "      <th>2</th>\n",
       "      <td>스파이더맨</td>\n",
       "      <td>18</td>\n",
       "      <td>고등학생</td>\n",
       "      <td>미국</td>\n",
       "      <td>177</td>\n",
       "      <td>600</td>\n",
       "    </tr>\n",
       "    <tr>\n",
       "      <th>3</th>\n",
       "      <td>원더우먼</td>\n",
       "      <td>27</td>\n",
       "      <td>공주</td>\n",
       "      <td>데미스키라</td>\n",
       "      <td>178</td>\n",
       "      <td>NaN</td>\n",
       "    </tr>\n",
       "    <tr>\n",
       "      <th>4</th>\n",
       "      <td>헐크</td>\n",
       "      <td>33</td>\n",
       "      <td>핵물리학자</td>\n",
       "      <td>미국</td>\n",
       "      <td>270</td>\n",
       "      <td>1000000000</td>\n",
       "    </tr>\n",
       "    <tr>\n",
       "      <th>5</th>\n",
       "      <td>캡틴마블</td>\n",
       "      <td>25</td>\n",
       "      <td>파일럿</td>\n",
       "      <td>미국</td>\n",
       "      <td>170</td>\n",
       "      <td>340000000</td>\n",
       "    </tr>\n",
       "    <tr>\n",
       "      <th>6</th>\n",
       "      <td>블랙위도우</td>\n",
       "      <td>32</td>\n",
       "      <td>스파이</td>\n",
       "      <td>러시아</td>\n",
       "      <td>170</td>\n",
       "      <td>50000000</td>\n",
       "    </tr>\n",
       "  </tbody>\n",
       "</table>\n",
       "</div>"
      ],
      "text/plain": [
       "      이름  나이     직업     국적    키             재산\n",
       "0   아이언맨  58    CEO     미국  174 11500000000000\n",
       "1     토르  45      신  아스가르드  190            NaN\n",
       "2  스파이더맨  18   고등학생     미국  177            600\n",
       "3   원더우먼  27     공주  데미스키라  178            NaN\n",
       "4     헐크  33  핵물리학자     미국  270     1000000000\n",
       "5   캡틴마블  25    파일럿     미국  170      340000000\n",
       "6  블랙위도우  32    스파이    러시아  170       50000000"
      ]
     },
     "execution_count": 168,
     "metadata": {},
     "output_type": "execute_result"
    }
   ],
   "source": [
    "df"
   ]
  },
  {
   "cell_type": "code",
   "execution_count": null,
   "id": "e0b6da2d",
   "metadata": {},
   "outputs": [],
   "source": [
    "# df.iloc, df.loc\n",
    "# iloc -> index \n",
    "# loc -> \n",
    "\n",
    "df.iloc[행 번호, 열 번호]"
   ]
  },
  {
   "cell_type": "code",
   "execution_count": 173,
   "id": "e2a8d4d8",
   "metadata": {},
   "outputs": [
    {
     "data": {
      "text/html": [
       "<div>\n",
       "<style scoped>\n",
       "    .dataframe tbody tr th:only-of-type {\n",
       "        vertical-align: middle;\n",
       "    }\n",
       "\n",
       "    .dataframe tbody tr th {\n",
       "        vertical-align: top;\n",
       "    }\n",
       "\n",
       "    .dataframe thead th {\n",
       "        text-align: right;\n",
       "    }\n",
       "</style>\n",
       "<table border=\"1\" class=\"dataframe\">\n",
       "  <thead>\n",
       "    <tr style=\"text-align: right;\">\n",
       "      <th></th>\n",
       "      <th>이름</th>\n",
       "      <th>나이</th>\n",
       "      <th>직업</th>\n",
       "      <th>국적</th>\n",
       "      <th>키</th>\n",
       "      <th>재산</th>\n",
       "    </tr>\n",
       "  </thead>\n",
       "  <tbody>\n",
       "    <tr>\n",
       "      <th>1</th>\n",
       "      <td>토르</td>\n",
       "      <td>45</td>\n",
       "      <td>신</td>\n",
       "      <td>아스가르드</td>\n",
       "      <td>190</td>\n",
       "      <td>NaN</td>\n",
       "    </tr>\n",
       "    <tr>\n",
       "      <th>2</th>\n",
       "      <td>스파이더맨</td>\n",
       "      <td>18</td>\n",
       "      <td>고등학생</td>\n",
       "      <td>미국</td>\n",
       "      <td>177</td>\n",
       "      <td>600</td>\n",
       "    </tr>\n",
       "    <tr>\n",
       "      <th>3</th>\n",
       "      <td>원더우먼</td>\n",
       "      <td>27</td>\n",
       "      <td>공주</td>\n",
       "      <td>데미스키라</td>\n",
       "      <td>178</td>\n",
       "      <td>NaN</td>\n",
       "    </tr>\n",
       "  </tbody>\n",
       "</table>\n",
       "</div>"
      ],
      "text/plain": [
       "      이름  나이    직업     국적    키  재산\n",
       "1     토르  45     신  아스가르드  190 NaN\n",
       "2  스파이더맨  18  고등학생     미국  177 600\n",
       "3   원더우먼  27    공주  데미스키라  178 NaN"
      ]
     },
     "execution_count": 173,
     "metadata": {},
     "output_type": "execute_result"
    }
   ],
   "source": [
    "df.loc[1:3, ]"
   ]
  },
  {
   "cell_type": "code",
   "execution_count": 171,
   "id": "5aa585c2",
   "metadata": {},
   "outputs": [
    {
     "data": {
      "text/html": [
       "<div>\n",
       "<style scoped>\n",
       "    .dataframe tbody tr th:only-of-type {\n",
       "        vertical-align: middle;\n",
       "    }\n",
       "\n",
       "    .dataframe tbody tr th {\n",
       "        vertical-align: top;\n",
       "    }\n",
       "\n",
       "    .dataframe thead th {\n",
       "        text-align: right;\n",
       "    }\n",
       "</style>\n",
       "<table border=\"1\" class=\"dataframe\">\n",
       "  <thead>\n",
       "    <tr style=\"text-align: right;\">\n",
       "      <th></th>\n",
       "      <th>이름</th>\n",
       "      <th>나이</th>\n",
       "      <th>직업</th>\n",
       "      <th>국적</th>\n",
       "      <th>키</th>\n",
       "      <th>재산</th>\n",
       "    </tr>\n",
       "  </thead>\n",
       "  <tbody>\n",
       "    <tr>\n",
       "      <th>1</th>\n",
       "      <td>토르</td>\n",
       "      <td>45</td>\n",
       "      <td>신</td>\n",
       "      <td>아스가르드</td>\n",
       "      <td>190</td>\n",
       "      <td>NaN</td>\n",
       "    </tr>\n",
       "    <tr>\n",
       "      <th>3</th>\n",
       "      <td>원더우먼</td>\n",
       "      <td>27</td>\n",
       "      <td>공주</td>\n",
       "      <td>데미스키라</td>\n",
       "      <td>178</td>\n",
       "      <td>NaN</td>\n",
       "    </tr>\n",
       "    <tr>\n",
       "      <th>6</th>\n",
       "      <td>블랙위도우</td>\n",
       "      <td>32</td>\n",
       "      <td>스파이</td>\n",
       "      <td>러시아</td>\n",
       "      <td>170</td>\n",
       "      <td>50000000</td>\n",
       "    </tr>\n",
       "  </tbody>\n",
       "</table>\n",
       "</div>"
      ],
      "text/plain": [
       "      이름  나이   직업     국적    키       재산\n",
       "1     토르  45    신  아스가르드  190      NaN\n",
       "3   원더우먼  27   공주  데미스키라  178      NaN\n",
       "6  블랙위도우  32  스파이    러시아  170 50000000"
      ]
     },
     "execution_count": 171,
     "metadata": {},
     "output_type": "execute_result"
    }
   ],
   "source": [
    "df.iloc[[1, 3, 6]]"
   ]
  },
  {
   "cell_type": "code",
   "execution_count": 174,
   "id": "5caafda2",
   "metadata": {},
   "outputs": [
    {
     "data": {
      "text/html": [
       "<div>\n",
       "<style scoped>\n",
       "    .dataframe tbody tr th:only-of-type {\n",
       "        vertical-align: middle;\n",
       "    }\n",
       "\n",
       "    .dataframe tbody tr th {\n",
       "        vertical-align: top;\n",
       "    }\n",
       "\n",
       "    .dataframe thead th {\n",
       "        text-align: right;\n",
       "    }\n",
       "</style>\n",
       "<table border=\"1\" class=\"dataframe\">\n",
       "  <thead>\n",
       "    <tr style=\"text-align: right;\">\n",
       "      <th></th>\n",
       "      <th>이름</th>\n",
       "      <th>나이</th>\n",
       "      <th>직업</th>\n",
       "    </tr>\n",
       "  </thead>\n",
       "  <tbody>\n",
       "    <tr>\n",
       "      <th>0</th>\n",
       "      <td>아이언맨</td>\n",
       "      <td>58</td>\n",
       "      <td>CEO</td>\n",
       "    </tr>\n",
       "    <tr>\n",
       "      <th>1</th>\n",
       "      <td>토르</td>\n",
       "      <td>45</td>\n",
       "      <td>신</td>\n",
       "    </tr>\n",
       "    <tr>\n",
       "      <th>2</th>\n",
       "      <td>스파이더맨</td>\n",
       "      <td>18</td>\n",
       "      <td>고등학생</td>\n",
       "    </tr>\n",
       "    <tr>\n",
       "      <th>3</th>\n",
       "      <td>원더우먼</td>\n",
       "      <td>27</td>\n",
       "      <td>공주</td>\n",
       "    </tr>\n",
       "    <tr>\n",
       "      <th>4</th>\n",
       "      <td>헐크</td>\n",
       "      <td>33</td>\n",
       "      <td>핵물리학자</td>\n",
       "    </tr>\n",
       "  </tbody>\n",
       "</table>\n",
       "</div>"
      ],
      "text/plain": [
       "      이름  나이     직업\n",
       "0   아이언맨  58    CEO\n",
       "1     토르  45      신\n",
       "2  스파이더맨  18   고등학생\n",
       "3   원더우먼  27     공주\n",
       "4     헐크  33  핵물리학자"
      ]
     },
     "execution_count": 174,
     "metadata": {},
     "output_type": "execute_result"
    }
   ],
   "source": [
    "df.iloc[:5, :3]"
   ]
  },
  {
   "cell_type": "code",
   "execution_count": null,
   "id": "792b172f",
   "metadata": {},
   "outputs": [],
   "source": [
    "df.loc[행 이름, 열 이름]"
   ]
  },
  {
   "cell_type": "code",
   "execution_count": 175,
   "id": "4b22d54f",
   "metadata": {},
   "outputs": [
    {
     "data": {
      "text/html": [
       "<div>\n",
       "<style scoped>\n",
       "    .dataframe tbody tr th:only-of-type {\n",
       "        vertical-align: middle;\n",
       "    }\n",
       "\n",
       "    .dataframe tbody tr th {\n",
       "        vertical-align: top;\n",
       "    }\n",
       "\n",
       "    .dataframe thead th {\n",
       "        text-align: right;\n",
       "    }\n",
       "</style>\n",
       "<table border=\"1\" class=\"dataframe\">\n",
       "  <thead>\n",
       "    <tr style=\"text-align: right;\">\n",
       "      <th></th>\n",
       "      <th>이름</th>\n",
       "      <th>나이</th>\n",
       "      <th>직업</th>\n",
       "      <th>국적</th>\n",
       "      <th>키</th>\n",
       "      <th>재산</th>\n",
       "    </tr>\n",
       "  </thead>\n",
       "  <tbody>\n",
       "    <tr>\n",
       "      <th>0</th>\n",
       "      <td>아이언맨</td>\n",
       "      <td>58</td>\n",
       "      <td>CEO</td>\n",
       "      <td>미국</td>\n",
       "      <td>174</td>\n",
       "      <td>11500000000000</td>\n",
       "    </tr>\n",
       "    <tr>\n",
       "      <th>1</th>\n",
       "      <td>토르</td>\n",
       "      <td>45</td>\n",
       "      <td>신</td>\n",
       "      <td>아스가르드</td>\n",
       "      <td>190</td>\n",
       "      <td>NaN</td>\n",
       "    </tr>\n",
       "    <tr>\n",
       "      <th>2</th>\n",
       "      <td>스파이더맨</td>\n",
       "      <td>18</td>\n",
       "      <td>고등학생</td>\n",
       "      <td>미국</td>\n",
       "      <td>177</td>\n",
       "      <td>600</td>\n",
       "    </tr>\n",
       "    <tr>\n",
       "      <th>3</th>\n",
       "      <td>원더우먼</td>\n",
       "      <td>27</td>\n",
       "      <td>공주</td>\n",
       "      <td>데미스키라</td>\n",
       "      <td>178</td>\n",
       "      <td>NaN</td>\n",
       "    </tr>\n",
       "    <tr>\n",
       "      <th>4</th>\n",
       "      <td>헐크</td>\n",
       "      <td>33</td>\n",
       "      <td>핵물리학자</td>\n",
       "      <td>미국</td>\n",
       "      <td>270</td>\n",
       "      <td>1000000000</td>\n",
       "    </tr>\n",
       "    <tr>\n",
       "      <th>5</th>\n",
       "      <td>캡틴마블</td>\n",
       "      <td>25</td>\n",
       "      <td>파일럿</td>\n",
       "      <td>미국</td>\n",
       "      <td>170</td>\n",
       "      <td>340000000</td>\n",
       "    </tr>\n",
       "    <tr>\n",
       "      <th>6</th>\n",
       "      <td>블랙위도우</td>\n",
       "      <td>32</td>\n",
       "      <td>스파이</td>\n",
       "      <td>러시아</td>\n",
       "      <td>170</td>\n",
       "      <td>50000000</td>\n",
       "    </tr>\n",
       "  </tbody>\n",
       "</table>\n",
       "</div>"
      ],
      "text/plain": [
       "      이름  나이     직업     국적    키             재산\n",
       "0   아이언맨  58    CEO     미국  174 11500000000000\n",
       "1     토르  45      신  아스가르드  190            NaN\n",
       "2  스파이더맨  18   고등학생     미국  177            600\n",
       "3   원더우먼  27     공주  데미스키라  178            NaN\n",
       "4     헐크  33  핵물리학자     미국  270     1000000000\n",
       "5   캡틴마블  25    파일럿     미국  170      340000000\n",
       "6  블랙위도우  32    스파이    러시아  170       50000000"
      ]
     },
     "execution_count": 175,
     "metadata": {},
     "output_type": "execute_result"
    }
   ],
   "source": [
    "df"
   ]
  },
  {
   "cell_type": "code",
   "execution_count": null,
   "id": "0d15fc16",
   "metadata": {},
   "outputs": [
    {
     "data": {
      "text/html": [
       "<div>\n",
       "<style scoped>\n",
       "    .dataframe tbody tr th:only-of-type {\n",
       "        vertical-align: middle;\n",
       "    }\n",
       "\n",
       "    .dataframe tbody tr th {\n",
       "        vertical-align: top;\n",
       "    }\n",
       "\n",
       "    .dataframe thead th {\n",
       "        text-align: right;\n",
       "    }\n",
       "</style>\n",
       "<table border=\"1\" class=\"dataframe\">\n",
       "  <thead>\n",
       "    <tr style=\"text-align: right;\">\n",
       "      <th></th>\n",
       "      <th>이름</th>\n",
       "      <th>나이</th>\n",
       "      <th>직업</th>\n",
       "      <th>국적</th>\n",
       "      <th>키</th>\n",
       "      <th>재산</th>\n",
       "    </tr>\n",
       "  </thead>\n",
       "  <tbody>\n",
       "    <tr>\n",
       "      <th>2</th>\n",
       "      <td>스파이더맨</td>\n",
       "      <td>18</td>\n",
       "      <td>고등학생</td>\n",
       "      <td>미국</td>\n",
       "      <td>177</td>\n",
       "      <td>600</td>\n",
       "    </tr>\n",
       "    <tr>\n",
       "      <th>3</th>\n",
       "      <td>원더우먼</td>\n",
       "      <td>27</td>\n",
       "      <td>공주</td>\n",
       "      <td>데미스키라</td>\n",
       "      <td>178</td>\n",
       "      <td>NaN</td>\n",
       "    </tr>\n",
       "    <tr>\n",
       "      <th>4</th>\n",
       "      <td>헐크</td>\n",
       "      <td>33</td>\n",
       "      <td>핵물리학자</td>\n",
       "      <td>미국</td>\n",
       "      <td>270</td>\n",
       "      <td>1000000000</td>\n",
       "    </tr>\n",
       "    <tr>\n",
       "      <th>5</th>\n",
       "      <td>캡틴마블</td>\n",
       "      <td>25</td>\n",
       "      <td>파일럿</td>\n",
       "      <td>미국</td>\n",
       "      <td>170</td>\n",
       "      <td>340000000</td>\n",
       "    </tr>\n",
       "  </tbody>\n",
       "</table>\n",
       "</div>"
      ],
      "text/plain": [
       "      이름  나이     직업     국적    키         재산\n",
       "2  스파이더맨  18   고등학생     미국  177        600\n",
       "3   원더우먼  27     공주  데미스키라  178        NaN\n",
       "4     헐크  33  핵물리학자     미국  270 1000000000\n",
       "5   캡틴마블  25    파일럿     미국  170  340000000"
      ]
     },
     "execution_count": 177,
     "metadata": {},
     "output_type": "execute_result"
    }
   ],
   "source": [
    "# 모든 숫자의 범위를 포함한다.\n",
    "df.loc[2:5]"
   ]
  },
  {
   "cell_type": "code",
   "execution_count": 179,
   "id": "cf4db8f5",
   "metadata": {},
   "outputs": [
    {
     "data": {
      "text/html": [
       "<div>\n",
       "<style scoped>\n",
       "    .dataframe tbody tr th:only-of-type {\n",
       "        vertical-align: middle;\n",
       "    }\n",
       "\n",
       "    .dataframe tbody tr th {\n",
       "        vertical-align: top;\n",
       "    }\n",
       "\n",
       "    .dataframe thead th {\n",
       "        text-align: right;\n",
       "    }\n",
       "</style>\n",
       "<table border=\"1\" class=\"dataframe\">\n",
       "  <thead>\n",
       "    <tr style=\"text-align: right;\">\n",
       "      <th></th>\n",
       "      <th>이름</th>\n",
       "      <th>직업</th>\n",
       "    </tr>\n",
       "  </thead>\n",
       "  <tbody>\n",
       "    <tr>\n",
       "      <th>0</th>\n",
       "      <td>아이언맨</td>\n",
       "      <td>CEO</td>\n",
       "    </tr>\n",
       "    <tr>\n",
       "      <th>1</th>\n",
       "      <td>토르</td>\n",
       "      <td>신</td>\n",
       "    </tr>\n",
       "    <tr>\n",
       "      <th>2</th>\n",
       "      <td>스파이더맨</td>\n",
       "      <td>고등학생</td>\n",
       "    </tr>\n",
       "  </tbody>\n",
       "</table>\n",
       "</div>"
      ],
      "text/plain": [
       "      이름    직업\n",
       "0   아이언맨   CEO\n",
       "1     토르     신\n",
       "2  스파이더맨  고등학생"
      ]
     },
     "execution_count": 179,
     "metadata": {},
     "output_type": "execute_result"
    }
   ],
   "source": [
    "df.loc[:2, ['이름', '직업']]"
   ]
  },
  {
   "cell_type": "code",
   "execution_count": 180,
   "id": "00f0a961",
   "metadata": {},
   "outputs": [
    {
     "data": {
      "text/html": [
       "<div>\n",
       "<style scoped>\n",
       "    .dataframe tbody tr th:only-of-type {\n",
       "        vertical-align: middle;\n",
       "    }\n",
       "\n",
       "    .dataframe tbody tr th {\n",
       "        vertical-align: top;\n",
       "    }\n",
       "\n",
       "    .dataframe thead th {\n",
       "        text-align: right;\n",
       "    }\n",
       "</style>\n",
       "<table border=\"1\" class=\"dataframe\">\n",
       "  <thead>\n",
       "    <tr style=\"text-align: right;\">\n",
       "      <th></th>\n",
       "      <th>국적</th>\n",
       "      <th>키</th>\n",
       "      <th>재산</th>\n",
       "    </tr>\n",
       "  </thead>\n",
       "  <tbody>\n",
       "    <tr>\n",
       "      <th>3</th>\n",
       "      <td>데미스키라</td>\n",
       "      <td>178</td>\n",
       "      <td>NaN</td>\n",
       "    </tr>\n",
       "    <tr>\n",
       "      <th>4</th>\n",
       "      <td>미국</td>\n",
       "      <td>270</td>\n",
       "      <td>1000000000</td>\n",
       "    </tr>\n",
       "    <tr>\n",
       "      <th>5</th>\n",
       "      <td>미국</td>\n",
       "      <td>170</td>\n",
       "      <td>340000000</td>\n",
       "    </tr>\n",
       "    <tr>\n",
       "      <th>6</th>\n",
       "      <td>러시아</td>\n",
       "      <td>170</td>\n",
       "      <td>50000000</td>\n",
       "    </tr>\n",
       "  </tbody>\n",
       "</table>\n",
       "</div>"
      ],
      "text/plain": [
       "      국적    키         재산\n",
       "3  데미스키라  178        NaN\n",
       "4     미국  270 1000000000\n",
       "5     미국  170  340000000\n",
       "6    러시아  170   50000000"
      ]
     },
     "execution_count": 180,
     "metadata": {},
     "output_type": "execute_result"
    }
   ],
   "source": [
    "df.loc[3:, '국적':'재산']"
   ]
  },
  {
   "cell_type": "code",
   "execution_count": 181,
   "id": "eef70dd9",
   "metadata": {},
   "outputs": [
    {
     "data": {
      "text/plain": [
       "0     True\n",
       "1     True\n",
       "2    False\n",
       "3    False\n",
       "4     True\n",
       "5    False\n",
       "6     True\n",
       "Name: 나이, dtype: bool"
      ]
     },
     "execution_count": 181,
     "metadata": {},
     "output_type": "execute_result"
    }
   ],
   "source": [
    "df['나이'] > 30"
   ]
  },
  {
   "cell_type": "code",
   "execution_count": 182,
   "id": "a0c3845f",
   "metadata": {},
   "outputs": [
    {
     "data": {
      "text/html": [
       "<div>\n",
       "<style scoped>\n",
       "    .dataframe tbody tr th:only-of-type {\n",
       "        vertical-align: middle;\n",
       "    }\n",
       "\n",
       "    .dataframe tbody tr th {\n",
       "        vertical-align: top;\n",
       "    }\n",
       "\n",
       "    .dataframe thead th {\n",
       "        text-align: right;\n",
       "    }\n",
       "</style>\n",
       "<table border=\"1\" class=\"dataframe\">\n",
       "  <thead>\n",
       "    <tr style=\"text-align: right;\">\n",
       "      <th></th>\n",
       "      <th>이름</th>\n",
       "      <th>나이</th>\n",
       "      <th>직업</th>\n",
       "      <th>국적</th>\n",
       "      <th>키</th>\n",
       "      <th>재산</th>\n",
       "    </tr>\n",
       "  </thead>\n",
       "  <tbody>\n",
       "    <tr>\n",
       "      <th>0</th>\n",
       "      <td>아이언맨</td>\n",
       "      <td>58</td>\n",
       "      <td>CEO</td>\n",
       "      <td>미국</td>\n",
       "      <td>174</td>\n",
       "      <td>11500000000000</td>\n",
       "    </tr>\n",
       "    <tr>\n",
       "      <th>1</th>\n",
       "      <td>토르</td>\n",
       "      <td>45</td>\n",
       "      <td>신</td>\n",
       "      <td>아스가르드</td>\n",
       "      <td>190</td>\n",
       "      <td>NaN</td>\n",
       "    </tr>\n",
       "    <tr>\n",
       "      <th>4</th>\n",
       "      <td>헐크</td>\n",
       "      <td>33</td>\n",
       "      <td>핵물리학자</td>\n",
       "      <td>미국</td>\n",
       "      <td>270</td>\n",
       "      <td>1000000000</td>\n",
       "    </tr>\n",
       "    <tr>\n",
       "      <th>6</th>\n",
       "      <td>블랙위도우</td>\n",
       "      <td>32</td>\n",
       "      <td>스파이</td>\n",
       "      <td>러시아</td>\n",
       "      <td>170</td>\n",
       "      <td>50000000</td>\n",
       "    </tr>\n",
       "  </tbody>\n",
       "</table>\n",
       "</div>"
      ],
      "text/plain": [
       "      이름  나이     직업     국적    키             재산\n",
       "0   아이언맨  58    CEO     미국  174 11500000000000\n",
       "1     토르  45      신  아스가르드  190            NaN\n",
       "4     헐크  33  핵물리학자     미국  270     1000000000\n",
       "6  블랙위도우  32    스파이    러시아  170       50000000"
      ]
     },
     "execution_count": 182,
     "metadata": {},
     "output_type": "execute_result"
    }
   ],
   "source": [
    "df[df['나이'] > 30]"
   ]
  },
  {
   "cell_type": "code",
   "execution_count": 191,
   "id": "828c24df",
   "metadata": {},
   "outputs": [
    {
     "data": {
      "text/html": [
       "<div>\n",
       "<style scoped>\n",
       "    .dataframe tbody tr th:only-of-type {\n",
       "        vertical-align: middle;\n",
       "    }\n",
       "\n",
       "    .dataframe tbody tr th {\n",
       "        vertical-align: top;\n",
       "    }\n",
       "\n",
       "    .dataframe thead th {\n",
       "        text-align: right;\n",
       "    }\n",
       "</style>\n",
       "<table border=\"1\" class=\"dataframe\">\n",
       "  <thead>\n",
       "    <tr style=\"text-align: right;\">\n",
       "      <th></th>\n",
       "      <th>이름</th>\n",
       "      <th>나이</th>\n",
       "      <th>직업</th>\n",
       "      <th>국적</th>\n",
       "      <th>키</th>\n",
       "      <th>재산</th>\n",
       "    </tr>\n",
       "  </thead>\n",
       "  <tbody>\n",
       "    <tr>\n",
       "      <th>1</th>\n",
       "      <td>토르</td>\n",
       "      <td>45</td>\n",
       "      <td>신</td>\n",
       "      <td>아스가르드</td>\n",
       "      <td>190</td>\n",
       "      <td>NaN</td>\n",
       "    </tr>\n",
       "    <tr>\n",
       "      <th>4</th>\n",
       "      <td>헐크</td>\n",
       "      <td>33</td>\n",
       "      <td>핵물리학자</td>\n",
       "      <td>미국</td>\n",
       "      <td>270</td>\n",
       "      <td>1000000000</td>\n",
       "    </tr>\n",
       "    <tr>\n",
       "      <th>6</th>\n",
       "      <td>블랙위도우</td>\n",
       "      <td>32</td>\n",
       "      <td>스파이</td>\n",
       "      <td>러시아</td>\n",
       "      <td>170</td>\n",
       "      <td>50000000</td>\n",
       "    </tr>\n",
       "  </tbody>\n",
       "</table>\n",
       "</div>"
      ],
      "text/plain": [
       "      이름  나이     직업     국적    키         재산\n",
       "1     토르  45      신  아스가르드  190        NaN\n",
       "4     헐크  33  핵물리학자     미국  270 1000000000\n",
       "6  블랙위도우  32    스파이    러시아  170   50000000"
      ]
     },
     "execution_count": 191,
     "metadata": {},
     "output_type": "execute_result"
    }
   ],
   "source": [
    "# 나이가 30 초과하면서 50 미만인 사람들의 전체 레코드\n",
    "df[(df['나이'] > 30) & (df['나이'] < 50)]"
   ]
  },
  {
   "cell_type": "code",
   "execution_count": 196,
   "id": "34552c3e",
   "metadata": {},
   "outputs": [
    {
     "data": {
      "text/html": [
       "<div>\n",
       "<style scoped>\n",
       "    .dataframe tbody tr th:only-of-type {\n",
       "        vertical-align: middle;\n",
       "    }\n",
       "\n",
       "    .dataframe tbody tr th {\n",
       "        vertical-align: top;\n",
       "    }\n",
       "\n",
       "    .dataframe thead th {\n",
       "        text-align: right;\n",
       "    }\n",
       "</style>\n",
       "<table border=\"1\" class=\"dataframe\">\n",
       "  <thead>\n",
       "    <tr style=\"text-align: right;\">\n",
       "      <th></th>\n",
       "      <th>이름</th>\n",
       "      <th>나이</th>\n",
       "      <th>키</th>\n",
       "    </tr>\n",
       "  </thead>\n",
       "  <tbody>\n",
       "    <tr>\n",
       "      <th>1</th>\n",
       "      <td>토르</td>\n",
       "      <td>45</td>\n",
       "      <td>190</td>\n",
       "    </tr>\n",
       "    <tr>\n",
       "      <th>4</th>\n",
       "      <td>헐크</td>\n",
       "      <td>33</td>\n",
       "      <td>270</td>\n",
       "    </tr>\n",
       "  </tbody>\n",
       "</table>\n",
       "</div>"
      ],
      "text/plain": [
       "   이름  나이    키\n",
       "1  토르  45  190\n",
       "4  헐크  33  270"
      ]
     },
     "execution_count": 196,
     "metadata": {},
     "output_type": "execute_result"
    }
   ],
   "source": [
    "df.loc[df['키'] >= 180, ['이름', '나이', '키']]"
   ]
  },
  {
   "cell_type": "code",
   "execution_count": 197,
   "id": "becab431",
   "metadata": {},
   "outputs": [
    {
     "data": {
      "text/html": [
       "<div>\n",
       "<style scoped>\n",
       "    .dataframe tbody tr th:only-of-type {\n",
       "        vertical-align: middle;\n",
       "    }\n",
       "\n",
       "    .dataframe tbody tr th {\n",
       "        vertical-align: top;\n",
       "    }\n",
       "\n",
       "    .dataframe thead th {\n",
       "        text-align: right;\n",
       "    }\n",
       "</style>\n",
       "<table border=\"1\" class=\"dataframe\">\n",
       "  <thead>\n",
       "    <tr style=\"text-align: right;\">\n",
       "      <th></th>\n",
       "      <th>이름</th>\n",
       "      <th>나이</th>\n",
       "      <th>직업</th>\n",
       "      <th>국적</th>\n",
       "      <th>키</th>\n",
       "      <th>재산</th>\n",
       "    </tr>\n",
       "  </thead>\n",
       "  <tbody>\n",
       "    <tr>\n",
       "      <th>0</th>\n",
       "      <td>아이언맨</td>\n",
       "      <td>58</td>\n",
       "      <td>CEO</td>\n",
       "      <td>미국</td>\n",
       "      <td>174</td>\n",
       "      <td>11500000000000</td>\n",
       "    </tr>\n",
       "    <tr>\n",
       "      <th>1</th>\n",
       "      <td>토르</td>\n",
       "      <td>45</td>\n",
       "      <td>신</td>\n",
       "      <td>아스가르드</td>\n",
       "      <td>190</td>\n",
       "      <td>NaN</td>\n",
       "    </tr>\n",
       "    <tr>\n",
       "      <th>2</th>\n",
       "      <td>스파이더맨</td>\n",
       "      <td>18</td>\n",
       "      <td>고등학생</td>\n",
       "      <td>미국</td>\n",
       "      <td>177</td>\n",
       "      <td>600</td>\n",
       "    </tr>\n",
       "    <tr>\n",
       "      <th>3</th>\n",
       "      <td>원더우먼</td>\n",
       "      <td>27</td>\n",
       "      <td>공주</td>\n",
       "      <td>데미스키라</td>\n",
       "      <td>178</td>\n",
       "      <td>NaN</td>\n",
       "    </tr>\n",
       "    <tr>\n",
       "      <th>4</th>\n",
       "      <td>헐크</td>\n",
       "      <td>33</td>\n",
       "      <td>핵물리학자</td>\n",
       "      <td>미국</td>\n",
       "      <td>270</td>\n",
       "      <td>1000000000</td>\n",
       "    </tr>\n",
       "    <tr>\n",
       "      <th>5</th>\n",
       "      <td>캡틴마블</td>\n",
       "      <td>25</td>\n",
       "      <td>파일럿</td>\n",
       "      <td>미국</td>\n",
       "      <td>170</td>\n",
       "      <td>340000000</td>\n",
       "    </tr>\n",
       "    <tr>\n",
       "      <th>6</th>\n",
       "      <td>블랙위도우</td>\n",
       "      <td>32</td>\n",
       "      <td>스파이</td>\n",
       "      <td>러시아</td>\n",
       "      <td>170</td>\n",
       "      <td>50000000</td>\n",
       "    </tr>\n",
       "  </tbody>\n",
       "</table>\n",
       "</div>"
      ],
      "text/plain": [
       "      이름  나이     직업     국적    키             재산\n",
       "0   아이언맨  58    CEO     미국  174 11500000000000\n",
       "1     토르  45      신  아스가르드  190            NaN\n",
       "2  스파이더맨  18   고등학생     미국  177            600\n",
       "3   원더우먼  27     공주  데미스키라  178            NaN\n",
       "4     헐크  33  핵물리학자     미국  270     1000000000\n",
       "5   캡틴마블  25    파일럿     미국  170      340000000\n",
       "6  블랙위도우  32    스파이    러시아  170       50000000"
      ]
     },
     "execution_count": 197,
     "metadata": {},
     "output_type": "execute_result"
    }
   ],
   "source": [
    "df"
   ]
  },
  {
   "cell_type": "code",
   "execution_count": 210,
   "id": "01017f44",
   "metadata": {},
   "outputs": [],
   "source": [
    "# 컬럼 추가 \n",
    "df['전투력'] = 98"
   ]
  },
  {
   "cell_type": "code",
   "execution_count": null,
   "id": "26a316b9",
   "metadata": {},
   "outputs": [
    {
     "data": {
      "text/html": [
       "<div>\n",
       "<style scoped>\n",
       "    .dataframe tbody tr th:only-of-type {\n",
       "        vertical-align: middle;\n",
       "    }\n",
       "\n",
       "    .dataframe tbody tr th {\n",
       "        vertical-align: top;\n",
       "    }\n",
       "\n",
       "    .dataframe thead th {\n",
       "        text-align: right;\n",
       "    }\n",
       "</style>\n",
       "<table border=\"1\" class=\"dataframe\">\n",
       "  <thead>\n",
       "    <tr style=\"text-align: right;\">\n",
       "      <th></th>\n",
       "      <th>이름</th>\n",
       "      <th>나이</th>\n",
       "      <th>직업</th>\n",
       "      <th>국적</th>\n",
       "      <th>키</th>\n",
       "      <th>재산</th>\n",
       "      <th>전투력</th>\n",
       "    </tr>\n",
       "  </thead>\n",
       "  <tbody>\n",
       "    <tr>\n",
       "      <th>0</th>\n",
       "      <td>아이언맨</td>\n",
       "      <td>58</td>\n",
       "      <td>CEO</td>\n",
       "      <td>미국</td>\n",
       "      <td>174</td>\n",
       "      <td>11500000000000</td>\n",
       "      <td>93</td>\n",
       "    </tr>\n",
       "    <tr>\n",
       "      <th>1</th>\n",
       "      <td>토르</td>\n",
       "      <td>45</td>\n",
       "      <td>신</td>\n",
       "      <td>아스가르드</td>\n",
       "      <td>190</td>\n",
       "      <td>NaN</td>\n",
       "      <td>93</td>\n",
       "    </tr>\n",
       "    <tr>\n",
       "      <th>2</th>\n",
       "      <td>스파이더맨</td>\n",
       "      <td>18</td>\n",
       "      <td>고등학생</td>\n",
       "      <td>미국</td>\n",
       "      <td>177</td>\n",
       "      <td>600</td>\n",
       "      <td>93</td>\n",
       "    </tr>\n",
       "    <tr>\n",
       "      <th>3</th>\n",
       "      <td>원더우먼</td>\n",
       "      <td>27</td>\n",
       "      <td>공주</td>\n",
       "      <td>데미스키라</td>\n",
       "      <td>178</td>\n",
       "      <td>NaN</td>\n",
       "      <td>93</td>\n",
       "    </tr>\n",
       "    <tr>\n",
       "      <th>4</th>\n",
       "      <td>헐크</td>\n",
       "      <td>33</td>\n",
       "      <td>핵물리학자</td>\n",
       "      <td>미국</td>\n",
       "      <td>270</td>\n",
       "      <td>1000000000</td>\n",
       "      <td>93</td>\n",
       "    </tr>\n",
       "    <tr>\n",
       "      <th>5</th>\n",
       "      <td>캡틴마블</td>\n",
       "      <td>25</td>\n",
       "      <td>파일럿</td>\n",
       "      <td>미국</td>\n",
       "      <td>170</td>\n",
       "      <td>340000000</td>\n",
       "      <td>93</td>\n",
       "    </tr>\n",
       "    <tr>\n",
       "      <th>6</th>\n",
       "      <td>블랙위도우</td>\n",
       "      <td>32</td>\n",
       "      <td>스파이</td>\n",
       "      <td>러시아</td>\n",
       "      <td>170</td>\n",
       "      <td>50000000</td>\n",
       "      <td>93</td>\n",
       "    </tr>\n",
       "  </tbody>\n",
       "</table>\n",
       "</div>"
      ],
      "text/plain": [
       "      이름  나이     직업     국적    키             재산  전투력\n",
       "0   아이언맨  58    CEO     미국  174 11500000000000   93\n",
       "1     토르  45      신  아스가르드  190            NaN   93\n",
       "2  스파이더맨  18   고등학생     미국  177            600   93\n",
       "3   원더우먼  27     공주  데미스키라  178            NaN   93\n",
       "4     헐크  33  핵물리학자     미국  270     1000000000   93\n",
       "5   캡틴마블  25    파일럿     미국  170      340000000   93\n",
       "6  블랙위도우  32    스파이    러시아  170       50000000   93"
      ]
     },
     "execution_count": 211,
     "metadata": {},
     "output_type": "execute_result"
    }
   ],
   "source": [
    "df['전투력'] = df['전투력'] - 5\n",
    "df"
   ]
  },
  {
   "cell_type": "code",
   "execution_count": null,
   "id": "f742e4b6",
   "metadata": {},
   "outputs": [],
   "source": [
    "# 임시 삭제\n",
    "# df.drop(columns=['전투력'])\n",
    "# 진짜 삭제\n",
    "df.drop(columns=['전투력'], inplace=True)"
   ]
  },
  {
   "cell_type": "code",
   "execution_count": null,
   "id": "ebd59fa1",
   "metadata": {},
   "outputs": [],
   "source": [
    "df = df.drop(columns=['전투력'])"
   ]
  },
  {
   "cell_type": "code",
   "execution_count": 215,
   "id": "ae62f1be",
   "metadata": {},
   "outputs": [
    {
     "data": {
      "text/html": [
       "<div>\n",
       "<style scoped>\n",
       "    .dataframe tbody tr th:only-of-type {\n",
       "        vertical-align: middle;\n",
       "    }\n",
       "\n",
       "    .dataframe tbody tr th {\n",
       "        vertical-align: top;\n",
       "    }\n",
       "\n",
       "    .dataframe thead th {\n",
       "        text-align: right;\n",
       "    }\n",
       "</style>\n",
       "<table border=\"1\" class=\"dataframe\">\n",
       "  <thead>\n",
       "    <tr style=\"text-align: right;\">\n",
       "      <th></th>\n",
       "      <th>이름</th>\n",
       "      <th>나이</th>\n",
       "      <th>직업</th>\n",
       "      <th>국적</th>\n",
       "      <th>키</th>\n",
       "      <th>재산</th>\n",
       "    </tr>\n",
       "  </thead>\n",
       "  <tbody>\n",
       "    <tr>\n",
       "      <th>0</th>\n",
       "      <td>아이언맨</td>\n",
       "      <td>58</td>\n",
       "      <td>CEO</td>\n",
       "      <td>미국</td>\n",
       "      <td>174</td>\n",
       "      <td>11500000000000</td>\n",
       "    </tr>\n",
       "    <tr>\n",
       "      <th>1</th>\n",
       "      <td>토르</td>\n",
       "      <td>45</td>\n",
       "      <td>신</td>\n",
       "      <td>아스가르드</td>\n",
       "      <td>190</td>\n",
       "      <td>NaN</td>\n",
       "    </tr>\n",
       "    <tr>\n",
       "      <th>2</th>\n",
       "      <td>스파이더맨</td>\n",
       "      <td>18</td>\n",
       "      <td>고등학생</td>\n",
       "      <td>미국</td>\n",
       "      <td>177</td>\n",
       "      <td>600</td>\n",
       "    </tr>\n",
       "    <tr>\n",
       "      <th>3</th>\n",
       "      <td>원더우먼</td>\n",
       "      <td>27</td>\n",
       "      <td>공주</td>\n",
       "      <td>데미스키라</td>\n",
       "      <td>178</td>\n",
       "      <td>NaN</td>\n",
       "    </tr>\n",
       "    <tr>\n",
       "      <th>4</th>\n",
       "      <td>헐크</td>\n",
       "      <td>33</td>\n",
       "      <td>핵물리학자</td>\n",
       "      <td>미국</td>\n",
       "      <td>270</td>\n",
       "      <td>1000000000</td>\n",
       "    </tr>\n",
       "    <tr>\n",
       "      <th>5</th>\n",
       "      <td>캡틴마블</td>\n",
       "      <td>25</td>\n",
       "      <td>파일럿</td>\n",
       "      <td>미국</td>\n",
       "      <td>170</td>\n",
       "      <td>340000000</td>\n",
       "    </tr>\n",
       "    <tr>\n",
       "      <th>6</th>\n",
       "      <td>블랙위도우</td>\n",
       "      <td>32</td>\n",
       "      <td>스파이</td>\n",
       "      <td>러시아</td>\n",
       "      <td>170</td>\n",
       "      <td>50000000</td>\n",
       "    </tr>\n",
       "  </tbody>\n",
       "</table>\n",
       "</div>"
      ],
      "text/plain": [
       "      이름  나이     직업     국적    키             재산\n",
       "0   아이언맨  58    CEO     미국  174 11500000000000\n",
       "1     토르  45      신  아스가르드  190            NaN\n",
       "2  스파이더맨  18   고등학생     미국  177            600\n",
       "3   원더우먼  27     공주  데미스키라  178            NaN\n",
       "4     헐크  33  핵물리학자     미국  270     1000000000\n",
       "5   캡틴마블  25    파일럿     미국  170      340000000\n",
       "6  블랙위도우  32    스파이    러시아  170       50000000"
      ]
     },
     "execution_count": 215,
     "metadata": {},
     "output_type": "execute_result"
    }
   ],
   "source": [
    "df"
   ]
  },
  {
   "cell_type": "code",
   "execution_count": 219,
   "id": "21fd75b2",
   "metadata": {},
   "outputs": [
    {
     "name": "stdout",
     "output_type": "stream",
     "text": [
      "<class 'pandas.core.frame.DataFrame'>\n",
      "RangeIndex: 7 entries, 0 to 6\n",
      "Data columns (total 6 columns):\n",
      " #   Column  Non-Null Count  Dtype  \n",
      "---  ------  --------------  -----  \n",
      " 0   이름      7 non-null      object \n",
      " 1   나이      7 non-null      int64  \n",
      " 2   직업      7 non-null      object \n",
      " 3   국적      7 non-null      object \n",
      " 4   키       7 non-null      int64  \n",
      " 5   재산      5 non-null      float64\n",
      "dtypes: float64(1), int64(2), object(3)\n",
      "memory usage: 468.0+ bytes\n"
     ]
    }
   ],
   "source": [
    "# 결측치\n",
    "df.info()"
   ]
  },
  {
   "cell_type": "code",
   "execution_count": null,
   "id": "b6be61e4",
   "metadata": {},
   "outputs": [
    {
     "data": {
      "text/plain": [
       "0    False\n",
       "1     True\n",
       "2    False\n",
       "3     True\n",
       "4    False\n",
       "5    False\n",
       "6    False\n",
       "Name: 재산, dtype: bool"
      ]
     },
     "execution_count": 221,
     "metadata": {},
     "output_type": "execute_result"
    }
   ],
   "source": [
    "# 결측치 확인\n",
    "df['재산'].isnull()"
   ]
  },
  {
   "cell_type": "code",
   "execution_count": null,
   "id": "8f50ca63",
   "metadata": {},
   "outputs": [
    {
     "data": {
      "text/html": [
       "<div>\n",
       "<style scoped>\n",
       "    .dataframe tbody tr th:only-of-type {\n",
       "        vertical-align: middle;\n",
       "    }\n",
       "\n",
       "    .dataframe tbody tr th {\n",
       "        vertical-align: top;\n",
       "    }\n",
       "\n",
       "    .dataframe thead th {\n",
       "        text-align: right;\n",
       "    }\n",
       "</style>\n",
       "<table border=\"1\" class=\"dataframe\">\n",
       "  <thead>\n",
       "    <tr style=\"text-align: right;\">\n",
       "      <th></th>\n",
       "      <th>이름</th>\n",
       "      <th>나이</th>\n",
       "      <th>직업</th>\n",
       "      <th>국적</th>\n",
       "      <th>키</th>\n",
       "      <th>재산</th>\n",
       "    </tr>\n",
       "  </thead>\n",
       "  <tbody>\n",
       "    <tr>\n",
       "      <th>1</th>\n",
       "      <td>토르</td>\n",
       "      <td>45</td>\n",
       "      <td>신</td>\n",
       "      <td>아스가르드</td>\n",
       "      <td>190</td>\n",
       "      <td>NaN</td>\n",
       "    </tr>\n",
       "    <tr>\n",
       "      <th>3</th>\n",
       "      <td>원더우먼</td>\n",
       "      <td>27</td>\n",
       "      <td>공주</td>\n",
       "      <td>데미스키라</td>\n",
       "      <td>178</td>\n",
       "      <td>NaN</td>\n",
       "    </tr>\n",
       "  </tbody>\n",
       "</table>\n",
       "</div>"
      ],
      "text/plain": [
       "     이름  나이  직업     국적    키  재산\n",
       "1    토르  45   신  아스가르드  190 NaN\n",
       "3  원더우먼  27  공주  데미스키라  178 NaN"
      ]
     },
     "execution_count": 222,
     "metadata": {},
     "output_type": "execute_result"
    }
   ],
   "source": [
    "# boolean 인덱싱\n",
    "df[df['재산'].isnull()]"
   ]
  },
  {
   "cell_type": "code",
   "execution_count": 223,
   "id": "5680bf3e",
   "metadata": {},
   "outputs": [
    {
     "data": {
      "text/plain": [
       "이름    0\n",
       "나이    0\n",
       "직업    0\n",
       "국적    0\n",
       "키     0\n",
       "재산    2\n",
       "dtype: int64"
      ]
     },
     "execution_count": 223,
     "metadata": {},
     "output_type": "execute_result"
    }
   ],
   "source": [
    "df.isnull().sum()"
   ]
  },
  {
   "cell_type": "code",
   "execution_count": 224,
   "id": "946400e1",
   "metadata": {},
   "outputs": [
    {
     "data": {
      "text/html": [
       "<div>\n",
       "<style scoped>\n",
       "    .dataframe tbody tr th:only-of-type {\n",
       "        vertical-align: middle;\n",
       "    }\n",
       "\n",
       "    .dataframe tbody tr th {\n",
       "        vertical-align: top;\n",
       "    }\n",
       "\n",
       "    .dataframe thead th {\n",
       "        text-align: right;\n",
       "    }\n",
       "</style>\n",
       "<table border=\"1\" class=\"dataframe\">\n",
       "  <thead>\n",
       "    <tr style=\"text-align: right;\">\n",
       "      <th></th>\n",
       "      <th>이름</th>\n",
       "      <th>나이</th>\n",
       "      <th>직업</th>\n",
       "      <th>국적</th>\n",
       "      <th>키</th>\n",
       "      <th>재산</th>\n",
       "    </tr>\n",
       "  </thead>\n",
       "  <tbody>\n",
       "    <tr>\n",
       "      <th>0</th>\n",
       "      <td>아이언맨</td>\n",
       "      <td>58</td>\n",
       "      <td>CEO</td>\n",
       "      <td>미국</td>\n",
       "      <td>174</td>\n",
       "      <td>11500000000000</td>\n",
       "    </tr>\n",
       "    <tr>\n",
       "      <th>2</th>\n",
       "      <td>스파이더맨</td>\n",
       "      <td>18</td>\n",
       "      <td>고등학생</td>\n",
       "      <td>미국</td>\n",
       "      <td>177</td>\n",
       "      <td>600</td>\n",
       "    </tr>\n",
       "    <tr>\n",
       "      <th>4</th>\n",
       "      <td>헐크</td>\n",
       "      <td>33</td>\n",
       "      <td>핵물리학자</td>\n",
       "      <td>미국</td>\n",
       "      <td>270</td>\n",
       "      <td>1000000000</td>\n",
       "    </tr>\n",
       "    <tr>\n",
       "      <th>5</th>\n",
       "      <td>캡틴마블</td>\n",
       "      <td>25</td>\n",
       "      <td>파일럿</td>\n",
       "      <td>미국</td>\n",
       "      <td>170</td>\n",
       "      <td>340000000</td>\n",
       "    </tr>\n",
       "    <tr>\n",
       "      <th>6</th>\n",
       "      <td>블랙위도우</td>\n",
       "      <td>32</td>\n",
       "      <td>스파이</td>\n",
       "      <td>러시아</td>\n",
       "      <td>170</td>\n",
       "      <td>50000000</td>\n",
       "    </tr>\n",
       "  </tbody>\n",
       "</table>\n",
       "</div>"
      ],
      "text/plain": [
       "      이름  나이     직업   국적    키             재산\n",
       "0   아이언맨  58    CEO   미국  174 11500000000000\n",
       "2  스파이더맨  18   고등학생   미국  177            600\n",
       "4     헐크  33  핵물리학자   미국  270     1000000000\n",
       "5   캡틴마블  25    파일럿   미국  170      340000000\n",
       "6  블랙위도우  32    스파이  러시아  170       50000000"
      ]
     },
     "execution_count": 224,
     "metadata": {},
     "output_type": "execute_result"
    }
   ],
   "source": [
    "df.dropna()"
   ]
  },
  {
   "cell_type": "code",
   "execution_count": 225,
   "id": "7c6dc6e3",
   "metadata": {},
   "outputs": [
    {
     "data": {
      "text/html": [
       "<div>\n",
       "<style scoped>\n",
       "    .dataframe tbody tr th:only-of-type {\n",
       "        vertical-align: middle;\n",
       "    }\n",
       "\n",
       "    .dataframe tbody tr th {\n",
       "        vertical-align: top;\n",
       "    }\n",
       "\n",
       "    .dataframe thead th {\n",
       "        text-align: right;\n",
       "    }\n",
       "</style>\n",
       "<table border=\"1\" class=\"dataframe\">\n",
       "  <thead>\n",
       "    <tr style=\"text-align: right;\">\n",
       "      <th></th>\n",
       "      <th>이름</th>\n",
       "      <th>나이</th>\n",
       "      <th>직업</th>\n",
       "      <th>국적</th>\n",
       "      <th>키</th>\n",
       "      <th>재산</th>\n",
       "    </tr>\n",
       "  </thead>\n",
       "  <tbody>\n",
       "    <tr>\n",
       "      <th>0</th>\n",
       "      <td>아이언맨</td>\n",
       "      <td>58</td>\n",
       "      <td>CEO</td>\n",
       "      <td>미국</td>\n",
       "      <td>174</td>\n",
       "      <td>11500000000000</td>\n",
       "    </tr>\n",
       "    <tr>\n",
       "      <th>1</th>\n",
       "      <td>토르</td>\n",
       "      <td>45</td>\n",
       "      <td>신</td>\n",
       "      <td>아스가르드</td>\n",
       "      <td>190</td>\n",
       "      <td>NaN</td>\n",
       "    </tr>\n",
       "    <tr>\n",
       "      <th>2</th>\n",
       "      <td>스파이더맨</td>\n",
       "      <td>18</td>\n",
       "      <td>고등학생</td>\n",
       "      <td>미국</td>\n",
       "      <td>177</td>\n",
       "      <td>600</td>\n",
       "    </tr>\n",
       "    <tr>\n",
       "      <th>3</th>\n",
       "      <td>원더우먼</td>\n",
       "      <td>27</td>\n",
       "      <td>공주</td>\n",
       "      <td>데미스키라</td>\n",
       "      <td>178</td>\n",
       "      <td>NaN</td>\n",
       "    </tr>\n",
       "    <tr>\n",
       "      <th>4</th>\n",
       "      <td>헐크</td>\n",
       "      <td>33</td>\n",
       "      <td>핵물리학자</td>\n",
       "      <td>미국</td>\n",
       "      <td>270</td>\n",
       "      <td>1000000000</td>\n",
       "    </tr>\n",
       "    <tr>\n",
       "      <th>5</th>\n",
       "      <td>캡틴마블</td>\n",
       "      <td>25</td>\n",
       "      <td>파일럿</td>\n",
       "      <td>미국</td>\n",
       "      <td>170</td>\n",
       "      <td>340000000</td>\n",
       "    </tr>\n",
       "    <tr>\n",
       "      <th>6</th>\n",
       "      <td>블랙위도우</td>\n",
       "      <td>32</td>\n",
       "      <td>스파이</td>\n",
       "      <td>러시아</td>\n",
       "      <td>170</td>\n",
       "      <td>50000000</td>\n",
       "    </tr>\n",
       "  </tbody>\n",
       "</table>\n",
       "</div>"
      ],
      "text/plain": [
       "      이름  나이     직업     국적    키             재산\n",
       "0   아이언맨  58    CEO     미국  174 11500000000000\n",
       "1     토르  45      신  아스가르드  190            NaN\n",
       "2  스파이더맨  18   고등학생     미국  177            600\n",
       "3   원더우먼  27     공주  데미스키라  178            NaN\n",
       "4     헐크  33  핵물리학자     미국  270     1000000000\n",
       "5   캡틴마블  25    파일럿     미국  170      340000000\n",
       "6  블랙위도우  32    스파이    러시아  170       50000000"
      ]
     },
     "execution_count": 225,
     "metadata": {},
     "output_type": "execute_result"
    }
   ],
   "source": [
    "df"
   ]
  },
  {
   "cell_type": "code",
   "execution_count": 278,
   "id": "98ff9abc",
   "metadata": {},
   "outputs": [
    {
     "name": "stderr",
     "output_type": "stream",
     "text": [
      "C:\\Users\\EL064\\AppData\\Local\\Temp\\ipykernel_10132\\2789684458.py:1: FutureWarning: DataFrame.fillna with 'method' is deprecated and will raise in a future version. Use obj.ffill() or obj.bfill() instead.\n",
      "  df = df.fillna(method='ffill')\n"
     ]
    }
   ],
   "source": [
    "df = df.fillna(method='ffill')\n",
    "# 비어있으면 이전 값으로 채운다. "
   ]
  },
  {
   "cell_type": "code",
   "execution_count": 279,
   "id": "6fa3727a",
   "metadata": {},
   "outputs": [
    {
     "data": {
      "text/plain": [
       "0   11500000000000\n",
       "1   11500000000000\n",
       "2              600\n",
       "3              600\n",
       "4       1000000000\n",
       "5        340000000\n",
       "6         50000000\n",
       "Name: 재산, dtype: float64"
      ]
     },
     "execution_count": 279,
     "metadata": {},
     "output_type": "execute_result"
    }
   ],
   "source": [
    "df['재산'].fillna(df['재산'].mean())"
   ]
  },
  {
   "cell_type": "code",
   "execution_count": 280,
   "id": "60888233",
   "metadata": {},
   "outputs": [
    {
     "data": {
      "text/html": [
       "<div>\n",
       "<style scoped>\n",
       "    .dataframe tbody tr th:only-of-type {\n",
       "        vertical-align: middle;\n",
       "    }\n",
       "\n",
       "    .dataframe tbody tr th {\n",
       "        vertical-align: top;\n",
       "    }\n",
       "\n",
       "    .dataframe thead th {\n",
       "        text-align: right;\n",
       "    }\n",
       "</style>\n",
       "<table border=\"1\" class=\"dataframe\">\n",
       "  <thead>\n",
       "    <tr style=\"text-align: right;\">\n",
       "      <th></th>\n",
       "      <th>이름</th>\n",
       "      <th>나이</th>\n",
       "      <th>직업</th>\n",
       "      <th>국적</th>\n",
       "      <th>키</th>\n",
       "      <th>재산</th>\n",
       "    </tr>\n",
       "  </thead>\n",
       "  <tbody>\n",
       "    <tr>\n",
       "      <th>0</th>\n",
       "      <td>아이언맨</td>\n",
       "      <td>58</td>\n",
       "      <td>CEO</td>\n",
       "      <td>미국</td>\n",
       "      <td>174.0cm</td>\n",
       "      <td>11500000000000</td>\n",
       "    </tr>\n",
       "    <tr>\n",
       "      <th>1</th>\n",
       "      <td>토르</td>\n",
       "      <td>45</td>\n",
       "      <td>신</td>\n",
       "      <td>아스가르드</td>\n",
       "      <td>190.0cm</td>\n",
       "      <td>11500000000000</td>\n",
       "    </tr>\n",
       "    <tr>\n",
       "      <th>2</th>\n",
       "      <td>스파이더맨</td>\n",
       "      <td>18</td>\n",
       "      <td>고등학생</td>\n",
       "      <td>미국</td>\n",
       "      <td>177.0cm</td>\n",
       "      <td>600</td>\n",
       "    </tr>\n",
       "    <tr>\n",
       "      <th>3</th>\n",
       "      <td>원더우먼</td>\n",
       "      <td>27</td>\n",
       "      <td>공주</td>\n",
       "      <td>데미스키라</td>\n",
       "      <td>178.0cm</td>\n",
       "      <td>600</td>\n",
       "    </tr>\n",
       "    <tr>\n",
       "      <th>4</th>\n",
       "      <td>헐크</td>\n",
       "      <td>33</td>\n",
       "      <td>핵물리학자</td>\n",
       "      <td>미국</td>\n",
       "      <td>270.0cm</td>\n",
       "      <td>1000000000</td>\n",
       "    </tr>\n",
       "    <tr>\n",
       "      <th>5</th>\n",
       "      <td>캡틴마블</td>\n",
       "      <td>NaN</td>\n",
       "      <td>파일럿</td>\n",
       "      <td>미국</td>\n",
       "      <td>170.0cm</td>\n",
       "      <td>340000000</td>\n",
       "    </tr>\n",
       "    <tr>\n",
       "      <th>6</th>\n",
       "      <td>블랙위도우</td>\n",
       "      <td>32</td>\n",
       "      <td>스파이</td>\n",
       "      <td>러시아</td>\n",
       "      <td>170.0cm</td>\n",
       "      <td>50000000</td>\n",
       "    </tr>\n",
       "  </tbody>\n",
       "</table>\n",
       "</div>"
      ],
      "text/plain": [
       "      이름  나이     직업     국적        키             재산\n",
       "0   아이언맨  58    CEO     미국  174.0cm 11500000000000\n",
       "1     토르  45      신  아스가르드  190.0cm 11500000000000\n",
       "2  스파이더맨  18   고등학생     미국  177.0cm            600\n",
       "3   원더우먼  27     공주  데미스키라  178.0cm            600\n",
       "4     헐크  33  핵물리학자     미국  270.0cm     1000000000\n",
       "5   캡틴마블 NaN    파일럿     미국  170.0cm      340000000\n",
       "6  블랙위도우  32    스파이    러시아  170.0cm       50000000"
      ]
     },
     "execution_count": 280,
     "metadata": {},
     "output_type": "execute_result"
    }
   ],
   "source": [
    "df.iloc[5, 1] = np.nan\n",
    "df"
   ]
  },
  {
   "cell_type": "code",
   "execution_count": 281,
   "id": "fe8d77d8",
   "metadata": {},
   "outputs": [],
   "source": [
    "# 캡틴마블의 결측치 채우기\n",
    "# 나이의 평균값으로 결측치 채우기\n",
    "\n",
    "df['나이'] = df['나이'].fillna(df['나이'].mean())"
   ]
  },
  {
   "cell_type": "code",
   "execution_count": null,
   "id": "b3b7e232",
   "metadata": {},
   "outputs": [],
   "source": [
    "# df['나이'].fillna(df['나이'].mean()) => 나이 컬럼값 중, \n",
    "# null인 셀에 나이 평균값을 채우고, 나이 컬럼만 존재하는 프레임을 반환\n",
    "# df.fillna(df['나이'].mean()) => 모든 컬럼값 중, \n",
    "# null인 셀에 나이 평균값을 채우고, 모든 컬럼이 존재하는 프레임을 반환\n"
   ]
  },
  {
   "cell_type": "code",
   "execution_count": 282,
   "id": "05521200",
   "metadata": {},
   "outputs": [
    {
     "data": {
      "text/html": [
       "<div>\n",
       "<style scoped>\n",
       "    .dataframe tbody tr th:only-of-type {\n",
       "        vertical-align: middle;\n",
       "    }\n",
       "\n",
       "    .dataframe tbody tr th {\n",
       "        vertical-align: top;\n",
       "    }\n",
       "\n",
       "    .dataframe thead th {\n",
       "        text-align: right;\n",
       "    }\n",
       "</style>\n",
       "<table border=\"1\" class=\"dataframe\">\n",
       "  <thead>\n",
       "    <tr style=\"text-align: right;\">\n",
       "      <th></th>\n",
       "      <th>이름</th>\n",
       "      <th>나이</th>\n",
       "      <th>직업</th>\n",
       "      <th>국적</th>\n",
       "      <th>키</th>\n",
       "      <th>재산</th>\n",
       "    </tr>\n",
       "  </thead>\n",
       "  <tbody>\n",
       "    <tr>\n",
       "      <th>0</th>\n",
       "      <td>아이언맨</td>\n",
       "      <td>58</td>\n",
       "      <td>CEO</td>\n",
       "      <td>미국</td>\n",
       "      <td>174.0cm</td>\n",
       "      <td>11500000000000</td>\n",
       "    </tr>\n",
       "    <tr>\n",
       "      <th>1</th>\n",
       "      <td>토르</td>\n",
       "      <td>45</td>\n",
       "      <td>신</td>\n",
       "      <td>아스가르드</td>\n",
       "      <td>190.0cm</td>\n",
       "      <td>11500000000000</td>\n",
       "    </tr>\n",
       "    <tr>\n",
       "      <th>2</th>\n",
       "      <td>스파이더맨</td>\n",
       "      <td>18</td>\n",
       "      <td>고등학생</td>\n",
       "      <td>미국</td>\n",
       "      <td>177.0cm</td>\n",
       "      <td>600</td>\n",
       "    </tr>\n",
       "    <tr>\n",
       "      <th>3</th>\n",
       "      <td>원더우먼</td>\n",
       "      <td>27</td>\n",
       "      <td>공주</td>\n",
       "      <td>데미스키라</td>\n",
       "      <td>178.0cm</td>\n",
       "      <td>600</td>\n",
       "    </tr>\n",
       "    <tr>\n",
       "      <th>4</th>\n",
       "      <td>헐크</td>\n",
       "      <td>33</td>\n",
       "      <td>핵물리학자</td>\n",
       "      <td>미국</td>\n",
       "      <td>270.0cm</td>\n",
       "      <td>1000000000</td>\n",
       "    </tr>\n",
       "    <tr>\n",
       "      <th>5</th>\n",
       "      <td>캡틴마블</td>\n",
       "      <td>36</td>\n",
       "      <td>파일럿</td>\n",
       "      <td>미국</td>\n",
       "      <td>170.0cm</td>\n",
       "      <td>340000000</td>\n",
       "    </tr>\n",
       "    <tr>\n",
       "      <th>6</th>\n",
       "      <td>블랙위도우</td>\n",
       "      <td>32</td>\n",
       "      <td>스파이</td>\n",
       "      <td>러시아</td>\n",
       "      <td>170.0cm</td>\n",
       "      <td>50000000</td>\n",
       "    </tr>\n",
       "  </tbody>\n",
       "</table>\n",
       "</div>"
      ],
      "text/plain": [
       "      이름  나이     직업     국적        키             재산\n",
       "0   아이언맨  58    CEO     미국  174.0cm 11500000000000\n",
       "1     토르  45      신  아스가르드  190.0cm 11500000000000\n",
       "2  스파이더맨  18   고등학생     미국  177.0cm            600\n",
       "3   원더우먼  27     공주  데미스키라  178.0cm            600\n",
       "4     헐크  33  핵물리학자     미국  270.0cm     1000000000\n",
       "5   캡틴마블  36    파일럿     미국  170.0cm      340000000\n",
       "6  블랙위도우  32    스파이    러시아  170.0cm       50000000"
      ]
     },
     "execution_count": 282,
     "metadata": {},
     "output_type": "execute_result"
    }
   ],
   "source": [
    "df"
   ]
  },
  {
   "cell_type": "code",
   "execution_count": 249,
   "id": "c4d31098",
   "metadata": {},
   "outputs": [
    {
     "name": "stdout",
     "output_type": "stream",
     "text": [
      "<class 'pandas.core.frame.DataFrame'>\n",
      "RangeIndex: 7 entries, 0 to 6\n",
      "Data columns (total 6 columns):\n",
      " #   Column  Non-Null Count  Dtype  \n",
      "---  ------  --------------  -----  \n",
      " 0   이름      7 non-null      object \n",
      " 1   나이      7 non-null      float64\n",
      " 2   직업      7 non-null      object \n",
      " 3   국적      7 non-null      object \n",
      " 4   키       7 non-null      int64  \n",
      " 5   재산      5 non-null      float64\n",
      "dtypes: float64(2), int64(1), object(3)\n",
      "memory usage: 468.0+ bytes\n"
     ]
    }
   ],
   "source": [
    "df.info()"
   ]
  },
  {
   "cell_type": "code",
   "execution_count": 283,
   "id": "c1fc5fde",
   "metadata": {},
   "outputs": [
    {
     "data": {
      "text/html": [
       "<div>\n",
       "<style scoped>\n",
       "    .dataframe tbody tr th:only-of-type {\n",
       "        vertical-align: middle;\n",
       "    }\n",
       "\n",
       "    .dataframe tbody tr th {\n",
       "        vertical-align: top;\n",
       "    }\n",
       "\n",
       "    .dataframe thead th {\n",
       "        text-align: right;\n",
       "    }\n",
       "</style>\n",
       "<table border=\"1\" class=\"dataframe\">\n",
       "  <thead>\n",
       "    <tr style=\"text-align: right;\">\n",
       "      <th></th>\n",
       "      <th>이름</th>\n",
       "      <th>나이</th>\n",
       "      <th>직업</th>\n",
       "      <th>국적</th>\n",
       "      <th>키</th>\n",
       "      <th>재산</th>\n",
       "    </tr>\n",
       "  </thead>\n",
       "  <tbody>\n",
       "    <tr>\n",
       "      <th>0</th>\n",
       "      <td>아이언맨</td>\n",
       "      <td>58</td>\n",
       "      <td>CEO</td>\n",
       "      <td>미국</td>\n",
       "      <td>174.0cm</td>\n",
       "      <td>11500000000000</td>\n",
       "    </tr>\n",
       "    <tr>\n",
       "      <th>1</th>\n",
       "      <td>토르</td>\n",
       "      <td>45</td>\n",
       "      <td>신</td>\n",
       "      <td>아스가르드</td>\n",
       "      <td>190.0cm</td>\n",
       "      <td>11500000000000</td>\n",
       "    </tr>\n",
       "    <tr>\n",
       "      <th>2</th>\n",
       "      <td>스파이더맨</td>\n",
       "      <td>18</td>\n",
       "      <td>고등학생</td>\n",
       "      <td>미국</td>\n",
       "      <td>177.0cm</td>\n",
       "      <td>600</td>\n",
       "    </tr>\n",
       "    <tr>\n",
       "      <th>3</th>\n",
       "      <td>원더우먼</td>\n",
       "      <td>27</td>\n",
       "      <td>공주</td>\n",
       "      <td>데미스키라</td>\n",
       "      <td>178.0cm</td>\n",
       "      <td>600</td>\n",
       "    </tr>\n",
       "    <tr>\n",
       "      <th>4</th>\n",
       "      <td>헐크</td>\n",
       "      <td>33</td>\n",
       "      <td>핵물리학자</td>\n",
       "      <td>미국</td>\n",
       "      <td>270.0cm</td>\n",
       "      <td>1000000000</td>\n",
       "    </tr>\n",
       "    <tr>\n",
       "      <th>5</th>\n",
       "      <td>캡틴마블</td>\n",
       "      <td>36</td>\n",
       "      <td>파일럿</td>\n",
       "      <td>미국</td>\n",
       "      <td>170.0cm</td>\n",
       "      <td>340000000</td>\n",
       "    </tr>\n",
       "    <tr>\n",
       "      <th>6</th>\n",
       "      <td>블랙위도우</td>\n",
       "      <td>32</td>\n",
       "      <td>스파이</td>\n",
       "      <td>러시아</td>\n",
       "      <td>170.0cm</td>\n",
       "      <td>50000000</td>\n",
       "    </tr>\n",
       "  </tbody>\n",
       "</table>\n",
       "</div>"
      ],
      "text/plain": [
       "      이름  나이     직업     국적        키             재산\n",
       "0   아이언맨  58    CEO     미국  174.0cm 11500000000000\n",
       "1     토르  45      신  아스가르드  190.0cm 11500000000000\n",
       "2  스파이더맨  18   고등학생     미국  177.0cm            600\n",
       "3   원더우먼  27     공주  데미스키라  178.0cm            600\n",
       "4     헐크  33  핵물리학자     미국  270.0cm     1000000000\n",
       "5   캡틴마블  36    파일럿     미국  170.0cm      340000000\n",
       "6  블랙위도우  32    스파이    러시아  170.0cm       50000000"
      ]
     },
     "execution_count": 283,
     "metadata": {},
     "output_type": "execute_result"
    }
   ],
   "source": [
    "def add_cm(height):\n",
    "   return str(height) + 'cm'\n",
    "\n",
    "def remove_cm(b):\n",
    "   part = b.replace('cmcmcmcmcm', '')\n",
    "   \n",
    "   part_float = float(part)\n",
    "   return str(part_float) + 'cm'\n",
    "\n",
    "# 람다 활용\n",
    "# df['키'].apply(lambda a: str(a) + 'cm')\n",
    "# df = df['키'].apply(remove_cm)\n",
    "df"
   ]
  },
  {
   "cell_type": "code",
   "execution_count": 284,
   "id": "171f55c6",
   "metadata": {},
   "outputs": [
    {
     "data": {
      "text/plain": [
       "국적\n",
       "데미스키라              600\n",
       "러시아           50000000\n",
       "미국       2875335000150\n",
       "아스가르드   11500000000000\n",
       "Name: 재산, dtype: float64"
      ]
     },
     "execution_count": 284,
     "metadata": {},
     "output_type": "execute_result"
    }
   ],
   "source": [
    "# 기준별로 묶어준다.\n",
    "df.groupby('국적')['재산'].mean()"
   ]
  },
  {
   "cell_type": "code",
   "execution_count": null,
   "id": "e5b3c354",
   "metadata": {},
   "outputs": [],
   "source": []
  }
 ],
 "metadata": {
  "kernelspec": {
   "display_name": "Python 3",
   "language": "python",
   "name": "python3"
  },
  "language_info": {
   "codemirror_mode": {
    "name": "ipython",
    "version": 3
   },
   "file_extension": ".py",
   "mimetype": "text/x-python",
   "name": "python",
   "nbconvert_exporter": "python",
   "pygments_lexer": "ipython3",
   "version": "3.11.8"
  }
 },
 "nbformat": 4,
 "nbformat_minor": 5
}
