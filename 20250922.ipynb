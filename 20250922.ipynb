{
 "cells": [
  {
   "cell_type": "markdown",
   "id": "288e32bb",
   "metadata": {},
   "source": [
    "## 2025-09-22"
   ]
  },
  {
   "cell_type": "code",
   "execution_count": 43,
   "id": "b24c3b9e",
   "metadata": {},
   "outputs": [
    {
     "name": "stdout",
     "output_type": "stream",
     "text": [
      "---------*\n",
      "--------*\n",
      "-------*\n",
      "------*\n",
      "-----*\n",
      "----*\n",
      "---*\n",
      "--*\n",
      "-*\n",
      "*\n"
     ]
    }
   ],
   "source": [
    "# 지난 시간 warm-up 별찍기\n",
    "\n",
    "n = 10\n",
    "\n",
    "for i in range(1, n + 1):\n",
    "    for j in range(n - i):\n",
    "        print(\"-\", end=\"\")\n",
    "    print(\"*\")"
   ]
  },
  {
   "cell_type": "code",
   "execution_count": 44,
   "id": "46e97a9b",
   "metadata": {},
   "outputs": [
    {
     "name": "stdout",
     "output_type": "stream",
     "text": [
      "---------*\n",
      "--------**\n",
      "-------***\n",
      "------****\n",
      "-----*****\n",
      "----******\n",
      "---*******\n",
      "--********\n",
      "-*********\n",
      "**********\n"
     ]
    }
   ],
   "source": [
    "n = 10\n",
    "\n",
    "for i in range(1, n + 1):\n",
    "    for j in range(n - i):\n",
    "        print(\"-\", end = \"\")\n",
    "    for j in range(i):\n",
    "        print('*', end=\"\")\n",
    "    print(\"\")"
   ]
  },
  {
   "cell_type": "code",
   "execution_count": 45,
   "id": "607953a7",
   "metadata": {},
   "outputs": [
    {
     "name": "stdout",
     "output_type": "stream",
     "text": [
      "         *\n",
      "        ***\n",
      "       *****\n",
      "      *******\n",
      "     *********\n",
      "    ***********\n",
      "   *************\n",
      "  ***************\n",
      " *****************\n",
      "*******************\n"
     ]
    }
   ],
   "source": [
    "n = 10\n",
    "\n",
    "for i in range(1, n + 1):\n",
    "    for j in range(n - i):\n",
    "        print(\" \", end = \"\")\n",
    "    for j in range(2 * i - 1):\n",
    "        print('*', end=\"\")\n",
    "    print(\"\")"
   ]
  },
  {
   "cell_type": "code",
   "execution_count": 46,
   "id": "d4ec49d3",
   "metadata": {},
   "outputs": [
    {
     "name": "stdout",
     "output_type": "stream",
     "text": [
      "         *\n",
      "        ***\n",
      "       *****\n",
      "      *******\n",
      "     *********\n",
      "    ***********\n",
      "   *************\n",
      "  ***************\n",
      " *****************\n",
      "*******************\n"
     ]
    }
   ],
   "source": [
    "n = 10\n",
    "for i in range(1, n + 1):\n",
    "    space = ' ' * (n - i)\n",
    "    stars = '*' * (2 * i - 1)\n",
    "    print(space + stars)"
   ]
  },
  {
   "cell_type": "code",
   "execution_count": 47,
   "id": "a10b8a2a",
   "metadata": {},
   "outputs": [
    {
     "ename": "SyntaxError",
     "evalue": "invalid syntax (1166781226.py, line 1)",
     "output_type": "error",
     "traceback": [
      "  \u001b[36mCell\u001b[39m\u001b[36m \u001b[39m\u001b[32mIn[47]\u001b[39m\u001b[32m, line 1\u001b[39m\n\u001b[31m    \u001b[39m\u001b[31mfor, while에서의 탈출 -> break\u001b[39m\n       ^\n\u001b[31mSyntaxError\u001b[39m\u001b[31m:\u001b[39m invalid syntax\n"
     ]
    }
   ],
   "source": [
    "for, while에서의 탈출 -> break\n",
    "중첩 반복문에서의 탈출?"
   ]
  },
  {
   "cell_type": "code",
   "execution_count": null,
   "id": "2a436312",
   "metadata": {},
   "outputs": [],
   "source": [
    "num = 0\n",
    "break_all = False\n",
    "\n",
    "for i in range(5):\n",
    "    for j in range(5):\n",
    "        # print(f\" (i = {i}, j={j})\")\n",
    "        if i == 2 and j == 3:\n",
    "            num = i * j\n",
    "            break_all = True\n",
    "            break\n",
    "    if break_all:\n",
    "        break\n",
    "print(num)"
   ]
  },
  {
   "cell_type": "code",
   "execution_count": null,
   "id": "3eccb703",
   "metadata": {},
   "outputs": [
    {
     "name": "stdout",
     "output_type": "stream",
     "text": [
      "*\n",
      "**\n",
      "***\n",
      "****\n",
      "*****\n",
      "******\n",
      "*******\n",
      "**"
     ]
    }
   ],
   "source": [
    "# n = 사용자로부터 n개의 숫자를 입력받은 뒤\n",
    "# 별을 출력하되 별의 갯수만큼 출력하다가 별이 소진되면 멈추는 코드 완성\n",
    "\n",
    "n = 30 \n",
    "star = 0\n",
    "break_all = False # flag 변수\n",
    "\n",
    "for i in range(1, 10 + 1):\n",
    "    for j in range(i): \n",
    "        star += 1\n",
    "        if star > n:\n",
    "            break_all = True\n",
    "            break\n",
    "        print('*', end=\"\")\n",
    "    if break_all:\n",
    "        break\n",
    "    print()"
   ]
  },
  {
   "cell_type": "markdown",
   "id": "b025066d",
   "metadata": {},
   "source": [
    "### 문자열 인덱스"
   ]
  },
  {
   "cell_type": "code",
   "execution_count": null,
   "id": "ec122c78",
   "metadata": {},
   "outputs": [],
   "source": [
    "my_str = \"Hello, Python\""
   ]
  },
  {
   "cell_type": "code",
   "execution_count": null,
   "id": "f94d199d",
   "metadata": {},
   "outputs": [
    {
     "data": {
      "text/plain": [
       "'H'"
      ]
     },
     "execution_count": 38,
     "metadata": {},
     "output_type": "execute_result"
    }
   ],
   "source": [
    "# 인덱싱\n",
    "my_str[0]"
   ]
  },
  {
   "cell_type": "code",
   "execution_count": null,
   "id": "c435a62a",
   "metadata": {},
   "outputs": [
    {
     "data": {
      "text/plain": [
       "'n'"
      ]
     },
     "execution_count": 39,
     "metadata": {},
     "output_type": "execute_result"
    }
   ],
   "source": [
    "my_str[-1]"
   ]
  },
  {
   "cell_type": "code",
   "execution_count": null,
   "id": "a433e7be",
   "metadata": {},
   "outputs": [
    {
     "data": {
      "text/plain": [
       "'Pyth'"
      ]
     },
     "execution_count": 41,
     "metadata": {},
     "output_type": "execute_result"
    }
   ],
   "source": [
    "my_str[7:11]"
   ]
  },
  {
   "cell_type": "code",
   "execution_count": null,
   "id": "c8a35072",
   "metadata": {},
   "outputs": [
    {
     "data": {
      "text/plain": [
       "'Hl tn'"
      ]
     },
     "execution_count": 43,
     "metadata": {},
     "output_type": "execute_result"
    }
   ],
   "source": [
    "# 슬라이싱 [start:end:step]\n",
    "my_str[::3]"
   ]
  },
  {
   "cell_type": "code",
   "execution_count": null,
   "id": "80db4cd8",
   "metadata": {},
   "outputs": [
    {
     "data": {
      "text/plain": [
       "'nohtyP ,olleH'"
      ]
     },
     "execution_count": 44,
     "metadata": {},
     "output_type": "execute_result"
    }
   ],
   "source": [
    "my_str[::-1]"
   ]
  },
  {
   "cell_type": "code",
   "execution_count": null,
   "id": "93a2fdf3",
   "metadata": {},
   "outputs": [
    {
     "data": {
      "text/plain": [
       "str"
      ]
     },
     "execution_count": 45,
     "metadata": {},
     "output_type": "execute_result"
    }
   ],
   "source": [
    "type(my_str)"
   ]
  },
  {
   "cell_type": "code",
   "execution_count": null,
   "id": "6d03ff5e",
   "metadata": {},
   "outputs": [
    {
     "data": {
      "text/plain": [
       "13"
      ]
     },
     "execution_count": 46,
     "metadata": {},
     "output_type": "execute_result"
    }
   ],
   "source": [
    "len(my_str) # 양수인덱스의 길이를 확인할 때, 사용가능한 함수"
   ]
  },
  {
   "cell_type": "code",
   "execution_count": null,
   "id": "bf9ebf70",
   "metadata": {},
   "outputs": [],
   "source": [
    "for i in my_str:\n",
    "    print(i)"
   ]
  },
  {
   "cell_type": "code",
   "execution_count": null,
   "id": "59c53946",
   "metadata": {},
   "outputs": [
    {
     "name": "stdout",
     "output_type": "stream",
     "text": [
      "H\n",
      "e\n",
      "l\n",
      "l\n",
      "o\n",
      ",\n",
      " \n",
      "P\n",
      "y\n",
      "t\n",
      "h\n",
      "o\n",
      "n\n"
     ]
    }
   ],
   "source": [
    "for i in range(len(my_str)):\n",
    "    print(my_str[i])"
   ]
  },
  {
   "cell_type": "code",
   "execution_count": null,
   "id": "3604054e",
   "metadata": {},
   "outputs": [
    {
     "data": {
      "text/plain": [
       "'hello, python'"
      ]
     },
     "execution_count": 52,
     "metadata": {},
     "output_type": "execute_result"
    }
   ],
   "source": [
    "# 문자열 데이터의 여러가지 기능 \n",
    "\n",
    "# 소문자로 바꾸는 함수 -> Lower \n",
    "my_str.lower()"
   ]
  },
  {
   "cell_type": "code",
   "execution_count": null,
   "id": "9662b695",
   "metadata": {},
   "outputs": [
    {
     "data": {
      "text/plain": [
       "'HELLO, PYTHON'"
      ]
     },
     "execution_count": 51,
     "metadata": {},
     "output_type": "execute_result"
    }
   ],
   "source": [
    "# 대문자로 바꾸는 함수 -> Upper\n",
    "my_str.upper()"
   ]
  },
  {
   "cell_type": "code",
   "execution_count": null,
   "id": "14cf14a1",
   "metadata": {},
   "outputs": [
    {
     "name": "stdout",
     "output_type": "stream",
     "text": [
      "['Hello', ' Python']\n"
     ]
    }
   ],
   "source": [
    "# 쪼개는 함수\n",
    "words = my_str.split(',')\n",
    "print(words)"
   ]
  },
  {
   "cell_type": "markdown",
   "id": "d2f426de",
   "metadata": {},
   "source": [
    "### 컬렉션 자료형"
   ]
  },
  {
   "cell_type": "markdown",
   "id": "ef5931f5",
   "metadata": {},
   "source": [
    "### 리스트"
   ]
  },
  {
   "cell_type": "markdown",
   "id": "d5d1469e",
   "metadata": {},
   "source": [
    "1. 리스트 : 다양한 형태의 데이터를 순서대로 저장하고 조작하는 기본 자료형"
   ]
  },
  {
   "cell_type": "code",
   "execution_count": null,
   "id": "a279b1cf",
   "metadata": {},
   "outputs": [],
   "source": [
    "numbers = [1, 2, 3, 4, 5]"
   ]
  },
  {
   "cell_type": "code",
   "execution_count": null,
   "id": "e091231d",
   "metadata": {},
   "outputs": [
    {
     "data": {
      "text/plain": [
       "list"
      ]
     },
     "execution_count": 56,
     "metadata": {},
     "output_type": "execute_result"
    }
   ],
   "source": [
    "type(numbers)"
   ]
  },
  {
   "cell_type": "code",
   "execution_count": null,
   "id": "d6b33086",
   "metadata": {},
   "outputs": [],
   "source": [
    "fruits = ['apples', 'banana', 'mango']"
   ]
  },
  {
   "cell_type": "code",
   "execution_count": null,
   "id": "89b6ac8d",
   "metadata": {},
   "outputs": [],
   "source": [
    "mixed = [1, 'apple', True, [10, 20, 30, 40]]"
   ]
  },
  {
   "cell_type": "code",
   "execution_count": null,
   "id": "96e70c6e",
   "metadata": {},
   "outputs": [],
   "source": [
    "numbers1 = [1,2,3,4,5]\n",
    "numbers2 = [6,7,8,9,10]"
   ]
  },
  {
   "cell_type": "code",
   "execution_count": null,
   "id": "b16fc795",
   "metadata": {},
   "outputs": [
    {
     "data": {
      "text/plain": [
       "[1, 2, 3, 4, 5, 6, 7, 8, 9, 10]"
      ]
     },
     "execution_count": 61,
     "metadata": {},
     "output_type": "execute_result"
    }
   ],
   "source": [
    "numbers1 + numbers2"
   ]
  },
  {
   "cell_type": "code",
   "execution_count": null,
   "id": "2a39b630",
   "metadata": {},
   "outputs": [
    {
     "data": {
      "text/plain": [
       "[1, 2, 3, 4, 5, 1, 2, 3, 4, 5, 1, 2, 3, 4, 5]"
      ]
     },
     "execution_count": 62,
     "metadata": {},
     "output_type": "execute_result"
    }
   ],
   "source": [
    "numbers1 * 3"
   ]
  },
  {
   "cell_type": "code",
   "execution_count": null,
   "id": "076f01b9",
   "metadata": {},
   "outputs": [
    {
     "data": {
      "text/plain": [
       "'mango'"
      ]
     },
     "execution_count": 63,
     "metadata": {},
     "output_type": "execute_result"
    }
   ],
   "source": [
    "fruits[-1]"
   ]
  },
  {
   "cell_type": "code",
   "execution_count": null,
   "id": "d1ab906f",
   "metadata": {},
   "outputs": [],
   "source": [
    "fruits[0] = 'grape'"
   ]
  },
  {
   "cell_type": "code",
   "execution_count": null,
   "id": "a0f94dba",
   "metadata": {},
   "outputs": [],
   "source": [
    "# 뒤에 추가하기 (append)\n",
    "fruits.append('cherry')"
   ]
  },
  {
   "cell_type": "code",
   "execution_count": null,
   "id": "2630acbd",
   "metadata": {},
   "outputs": [],
   "source": [
    "# 특정 위치를 지정해서 삽입하기 (insert)\n",
    "fruits.insert(2, 'kiwi')"
   ]
  },
  {
   "cell_type": "code",
   "execution_count": null,
   "id": "5336127a",
   "metadata": {},
   "outputs": [],
   "source": [
    "# 리스트의 끝에 각 항목을 하나씩 추가한다.\n",
    "fruits.extend(['orange', 'date'])"
   ]
  },
  {
   "cell_type": "code",
   "execution_count": null,
   "id": "c083bfb8",
   "metadata": {},
   "outputs": [
    {
     "data": {
      "text/plain": [
       "['grape', 'banana', 'kiwi', 'mango', 'cherry', 'orange', 'date']"
      ]
     },
     "execution_count": 69,
     "metadata": {},
     "output_type": "execute_result"
    }
   ],
   "source": [
    "fruits"
   ]
  },
  {
   "cell_type": "code",
   "execution_count": null,
   "id": "a3b922ce",
   "metadata": {},
   "outputs": [
    {
     "data": {
      "text/plain": [
       "'date'"
      ]
     },
     "execution_count": 71,
     "metadata": {},
     "output_type": "execute_result"
    }
   ],
   "source": [
    "# 리스트의 끝 항목 하나만 꺼내기\n",
    "fruits.pop()"
   ]
  },
  {
   "cell_type": "code",
   "execution_count": null,
   "id": "2dc5665b",
   "metadata": {},
   "outputs": [
    {
     "data": {
      "text/plain": [
       "1"
      ]
     },
     "execution_count": 72,
     "metadata": {},
     "output_type": "execute_result"
    }
   ],
   "source": [
    "fruits.count('cherry')"
   ]
  },
  {
   "cell_type": "code",
   "execution_count": null,
   "id": "31f8f551",
   "metadata": {},
   "outputs": [],
   "source": [
    "fruits.remove('cherry')"
   ]
  },
  {
   "cell_type": "code",
   "execution_count": null,
   "id": "c796cc3e",
   "metadata": {},
   "outputs": [
    {
     "data": {
      "text/plain": [
       "5"
      ]
     },
     "execution_count": 75,
     "metadata": {},
     "output_type": "execute_result"
    }
   ],
   "source": [
    "fruits.index('orange')"
   ]
  },
  {
   "cell_type": "code",
   "execution_count": null,
   "id": "42a8e4b9",
   "metadata": {},
   "outputs": [
    {
     "data": {
      "text/plain": [
       "['grape', 'banana', 'kiwi', 'kiwi', 'mango', 'orange', 'cherry']"
      ]
     },
     "execution_count": 76,
     "metadata": {},
     "output_type": "execute_result"
    }
   ],
   "source": [
    "fruits.append('apple')"
   ]
  },
  {
   "cell_type": "code",
   "execution_count": null,
   "id": "25d8ecf1",
   "metadata": {},
   "outputs": [],
   "source": [
    "fruits.sort(reverse = True)"
   ]
  },
  {
   "cell_type": "code",
   "execution_count": null,
   "id": "0b9f5e40",
   "metadata": {},
   "outputs": [],
   "source": [
    "# 뒤집기\n",
    "fruits.reverse()"
   ]
  },
  {
   "cell_type": "code",
   "execution_count": null,
   "id": "21bc8088",
   "metadata": {},
   "outputs": [],
   "source": [
    "fruits = ['apple', 'banana', 'mango', 'cherry']"
   ]
  },
  {
   "cell_type": "code",
   "execution_count": null,
   "id": "a4e5a0db",
   "metadata": {},
   "outputs": [
    {
     "name": "stdout",
     "output_type": "stream",
     "text": [
      "apple\n",
      "banana\n",
      "mango\n",
      "cherry\n"
     ]
    }
   ],
   "source": [
    "for i in fruits:\n",
    "    print(i)"
   ]
  },
  {
   "cell_type": "code",
   "execution_count": null,
   "id": "d6ef607c",
   "metadata": {},
   "outputs": [
    {
     "name": "stdout",
     "output_type": "stream",
     "text": [
      "0번째 과일 apple\n",
      "1번째 과일 banana\n",
      "2번째 과일 mango\n",
      "3번째 과일 cherry\n"
     ]
    }
   ],
   "source": [
    "for i in range(len(fruits)) :\n",
    "    print(f\"{i}번째 과일 {fruits[i]}\")"
   ]
  },
  {
   "cell_type": "code",
   "execution_count": null,
   "id": "ce058e1e",
   "metadata": {},
   "outputs": [],
   "source": [
    "numbers = [10, 20, 30, 40, 50]"
   ]
  },
  {
   "cell_type": "code",
   "execution_count": null,
   "id": "a9ee9cfe",
   "metadata": {},
   "outputs": [
    {
     "data": {
      "text/plain": [
       "5"
      ]
     },
     "execution_count": 83,
     "metadata": {},
     "output_type": "execute_result"
    }
   ],
   "source": [
    "len(numbers)"
   ]
  },
  {
   "cell_type": "code",
   "execution_count": null,
   "id": "59c26419",
   "metadata": {},
   "outputs": [
    {
     "data": {
      "text/plain": [
       "50"
      ]
     },
     "execution_count": 84,
     "metadata": {},
     "output_type": "execute_result"
    }
   ],
   "source": [
    "max(numbers)"
   ]
  },
  {
   "cell_type": "code",
   "execution_count": null,
   "id": "789ea82f",
   "metadata": {},
   "outputs": [
    {
     "data": {
      "text/plain": [
       "150"
      ]
     },
     "execution_count": 85,
     "metadata": {},
     "output_type": "execute_result"
    }
   ],
   "source": [
    "sum(numbers)"
   ]
  },
  {
   "cell_type": "code",
   "execution_count": null,
   "id": "06a6444e",
   "metadata": {},
   "outputs": [],
   "source": [
    "# 평균값은?\n",
    "average = sum(numbers)/len(numbers)"
   ]
  },
  {
   "cell_type": "code",
   "execution_count": null,
   "id": "7c04659b",
   "metadata": {},
   "outputs": [
    {
     "data": {
      "text/plain": [
       "[1, 4, 9, 16, 25, 36, 49, 64, 81, 100]"
      ]
     },
     "execution_count": 92,
     "metadata": {},
     "output_type": "execute_result"
    }
   ],
   "source": [
    "# 반복문을 이용해서 리스트를 간단하게 생성 -> 리스트 컴프리헨션\n",
    "numbers = [i**2 for i in range(1, 10 + 1)]\n",
    "numbers"
   ]
  },
  {
   "cell_type": "code",
   "execution_count": null,
   "id": "8d9eec47",
   "metadata": {},
   "outputs": [
    {
     "data": {
      "text/plain": [
       "[0, 1, 2, 3, 4, 5, 6, 7, 8, 9]"
      ]
     },
     "execution_count": 91,
     "metadata": {},
     "output_type": "execute_result"
    }
   ],
   "source": [
    "num_list = []\n",
    "for i in range(10):\n",
    "    # print(i)\n",
    "    num_list.append(i)\n",
    "num_list"
   ]
  },
  {
   "cell_type": "code",
   "execution_count": null,
   "id": "195fcc63",
   "metadata": {},
   "outputs": [
    {
     "data": {
      "text/plain": [
       "[2, 4, 6, 8, 10]"
      ]
     },
     "execution_count": 94,
     "metadata": {},
     "output_type": "execute_result"
    }
   ],
   "source": [
    "numbers = [i for i in range(1, 10+1) if i%2 == 0]\n",
    "numbers"
   ]
  },
  {
   "cell_type": "code",
   "execution_count": null,
   "id": "060bee80",
   "metadata": {},
   "outputs": [
    {
     "name": "stdout",
     "output_type": "stream",
     "text": [
      "1번 학생은 합격입니다.\n",
      "2번 학생은 불합격입니다.\n",
      "3번 학생은 합격입니다.\n",
      "4번 학생은 불합격입니다.\n",
      "5번 학생은 합격입니다.\n"
     ]
    }
   ],
   "source": [
    "# 총 5명의 학생이 시험을 보았다. \n",
    "# 시험점수가 60점 이상이면 합격이고, 그렇지 않으면 불합격이다.\n",
    "\n",
    "\n",
    "marks = [90, 25, 67, 45, 80]\n",
    "\n",
    "for i in range(len(marks)):\n",
    "    if marks[i] >= 60:\n",
    "        print(f\"{i+1}번 학생은 합격입니다.\")\n",
    "    else:\n",
    "        print(f\"{i+1}번 학생은 불합격입니다.\")"
   ]
  },
  {
   "cell_type": "code",
   "execution_count": null,
   "id": "8f7f419b",
   "metadata": {},
   "outputs": [
    {
     "name": "stdout",
     "output_type": "stream",
     "text": [
      "끝말잇기 게임\n",
      "시작\n",
      "가나다\n",
      "다람쥐\n",
      "쥐포\n",
      "귀찮아\n",
      "땡\n"
     ]
    }
   ],
   "source": [
    "# 끝말잇기 게임\n",
    "print(\"끝말잇기 게임\")\n",
    "print(\"시작\")\n",
    "\n",
    "var = \"가나다\"\n",
    "print(var)\n",
    "\n",
    "while True:\n",
    "    word = input(\"단어를 입력해주세요 : \")\n",
    "    print(word)\n",
    "    if word[0] == var[-1]:\n",
    "        var = word\n",
    "    else:\n",
    "        print(\"땡\")\n",
    "        break\n",
    "\n"
   ]
  },
  {
   "cell_type": "markdown",
   "id": "08df4f43",
   "metadata": {},
   "source": [
    "### 업그레이드 문제"
   ]
  },
  {
   "cell_type": "code",
   "execution_count": null,
   "id": "d500e1ab",
   "metadata": {},
   "outputs": [
    {
     "data": {
      "text/plain": [
       "[1, 3, 0, 1]"
      ]
     },
     "execution_count": 20,
     "metadata": {},
     "output_type": "execute_result"
    }
   ],
   "source": [
    "# 리스트 numbers\n",
    "\n",
    "numbers = [1,1,3,3,0,1,1]\n",
    "\n",
    "answer = []\n",
    "comp = numbers[0]\n",
    "answer.append(comp)\n",
    "\n",
    "for i in numbers: # 이전 숫자와 같은지 비교\n",
    "    if comp != i: # 비교할 숫자 갱신\n",
    "        comp = i\n",
    "        answer.append(comp) # 새로운 숫자이므로 리스트에 삽입\n",
    "answer\n",
    "\n",
    "# result = []\n",
    "# for i in range(len(numbers)-1):\n",
    "#     if numbers[i] == numbers[i+1]:\n",
    "#         continue\n",
    "#     else:\n",
    "#         result.append(numbers[i])\n",
    "#     print(result)"
   ]
  },
  {
   "cell_type": "markdown",
   "id": "9584f22a",
   "metadata": {},
   "source": [
    "### 딕셔너리"
   ]
  },
  {
   "cell_type": "code",
   "execution_count": null,
   "id": "45edbac3",
   "metadata": {},
   "outputs": [],
   "source": [
    "student = {'name' : 'Jimin', 'age' : 29, 'hobby' : 'game', 'nickname' : 'Jimin'}"
   ]
  },
  {
   "cell_type": "code",
   "execution_count": null,
   "id": "ead38d96",
   "metadata": {},
   "outputs": [
    {
     "data": {
      "text/plain": [
       "dict"
      ]
     },
     "execution_count": 22,
     "metadata": {},
     "output_type": "execute_result"
    }
   ],
   "source": [
    "type(student)"
   ]
  },
  {
   "cell_type": "code",
   "execution_count": null,
   "id": "6cd5f150",
   "metadata": {},
   "outputs": [],
   "source": [
    "mydict = {}\n",
    "mydict = dict()"
   ]
  },
  {
   "cell_type": "code",
   "execution_count": null,
   "id": "885dca7a",
   "metadata": {},
   "outputs": [
    {
     "data": {
      "text/plain": [
       "dict_keys(['name', 'age', 'hobby'])"
      ]
     },
     "execution_count": 24,
     "metadata": {},
     "output_type": "execute_result"
    }
   ],
   "source": [
    "student.keys()"
   ]
  },
  {
   "cell_type": "code",
   "execution_count": null,
   "id": "52bb0cf9",
   "metadata": {},
   "outputs": [
    {
     "data": {
      "text/plain": [
       "dict_values(['Jimin', '29', 'game'])"
      ]
     },
     "execution_count": 25,
     "metadata": {},
     "output_type": "execute_result"
    }
   ],
   "source": [
    "student.values()"
   ]
  },
  {
   "cell_type": "code",
   "execution_count": null,
   "id": "fd47a086",
   "metadata": {},
   "outputs": [
    {
     "data": {
      "text/plain": [
       "dict_items([('name', 'Jimin'), ('age', '29'), ('hobby', 'game')])"
      ]
     },
     "execution_count": 26,
     "metadata": {},
     "output_type": "execute_result"
    }
   ],
   "source": [
    "student.items()"
   ]
  },
  {
   "cell_type": "code",
   "execution_count": null,
   "id": "d09fbe49",
   "metadata": {},
   "outputs": [
    {
     "name": "stdout",
     "output_type": "stream",
     "text": [
      "name\n",
      "age\n",
      "hobby\n",
      "nickname\n"
     ]
    }
   ],
   "source": [
    "for i in student.keys():\n",
    "    print(i)"
   ]
  },
  {
   "cell_type": "code",
   "execution_count": null,
   "id": "7828c195",
   "metadata": {},
   "outputs": [
    {
     "name": "stdout",
     "output_type": "stream",
     "text": [
      "('name', 'Jimin')\n",
      "('age', 29)\n",
      "('hobby', 'game')\n",
      "('nickname', 'Jimin')\n"
     ]
    }
   ],
   "source": [
    "for i in student.items():\n",
    "    print(i)"
   ]
  },
  {
   "cell_type": "code",
   "execution_count": null,
   "id": "92bef62c",
   "metadata": {},
   "outputs": [],
   "source": [
    "student['nickname'] = '망개떡'"
   ]
  },
  {
   "cell_type": "code",
   "execution_count": null,
   "id": "067e4bf9",
   "metadata": {},
   "outputs": [
    {
     "data": {
      "text/plain": [
       "{'name': 'Jimin', 'age': 29, 'hobby': 'game', 'nickname': '망개떡'}"
      ]
     },
     "execution_count": 33,
     "metadata": {},
     "output_type": "execute_result"
    }
   ],
   "source": [
    "student"
   ]
  },
  {
   "cell_type": "code",
   "execution_count": null,
   "id": "94ba3c35",
   "metadata": {},
   "outputs": [],
   "source": [
    "student['addr'] = '서울시 용산구'"
   ]
  },
  {
   "cell_type": "code",
   "execution_count": 49,
   "id": "42c281a4",
   "metadata": {},
   "outputs": [],
   "source": [
    "student.get('addr2') "
   ]
  },
  {
   "cell_type": "code",
   "execution_count": 51,
   "id": "4e946985",
   "metadata": {},
   "outputs": [
    {
     "data": {
      "text/plain": [
       "29"
      ]
     },
     "execution_count": 51,
     "metadata": {},
     "output_type": "execute_result"
    }
   ],
   "source": [
    "student.pop('age')"
   ]
  },
  {
   "cell_type": "code",
   "execution_count": 52,
   "id": "e28f7eff",
   "metadata": {},
   "outputs": [
    {
     "data": {
      "text/plain": [
       "('addr', '서울시 용산구')"
      ]
     },
     "execution_count": 52,
     "metadata": {},
     "output_type": "execute_result"
    }
   ],
   "source": [
    "student.popitem()"
   ]
  },
  {
   "cell_type": "code",
   "execution_count": 55,
   "id": "614b4eb8",
   "metadata": {},
   "outputs": [
    {
     "data": {
      "text/plain": [
       "False"
      ]
     },
     "execution_count": 55,
     "metadata": {},
     "output_type": "execute_result"
    }
   ],
   "source": [
    "'name2' in student.keys()"
   ]
  },
  {
   "cell_type": "code",
   "execution_count": 56,
   "id": "c6e23543",
   "metadata": {},
   "outputs": [
    {
     "data": {
      "text/plain": [
       "False"
      ]
     },
     "execution_count": 56,
     "metadata": {},
     "output_type": "execute_result"
    }
   ],
   "source": [
    "29 in student.values()"
   ]
  },
  {
   "cell_type": "code",
   "execution_count": 58,
   "id": "28943dcb",
   "metadata": {},
   "outputs": [
    {
     "name": "stdout",
     "output_type": "stream",
     "text": [
      "name Jimin\n",
      "hobby game\n",
      "nickname 망개떡\n"
     ]
    }
   ],
   "source": [
    "for i, j in student.items():\n",
    "    print(i, j)"
   ]
  },
  {
   "cell_type": "code",
   "execution_count": 1,
   "id": "368f62bd",
   "metadata": {},
   "outputs": [],
   "source": [
    "# 모스부호  \n",
    "#문자열 letter가 주어질 때, letter를 영어 소문자로 바꾼 문자열을 출력 하도록 코드작성 \n",
    "#모스부호는 다음과 같습니다. \n",
    "\n",
    "morse = { \n",
    "\n",
    "    '.-':'a','-...':'b','-.-.':'c','-..':'d','.':'e','..-.':'f', \n",
    "\n",
    "    '--.':'g','....':'h','..':'i','.---':'j','-.-':'k','.-..':'l', \n",
    "\n",
    "    '--':'m','-.':'n','---':'o','.--.':'p','--.-':'q','.-.':'r', \n",
    "\n",
    "    '...':'s','-':'t','..-':'u','...-':'v','.--':'w','-..-':'x', \n",
    "\n",
    "    '-.--':'y','--..':'z' \n",
    "} \n",
    " \n",
    "\n",
    "# 입출력 예 \n",
    "\n",
    "# letter  result \n",
    "\n",
    "# \".... . .-.. .-.. ---\"  \"hello\" \n",
    "\n",
    "# \".--. -.-- - .... --- -.\"   \"python\" "
   ]
  },
  {
   "cell_type": "code",
   "execution_count": 3,
   "id": "9436d9c2",
   "metadata": {},
   "outputs": [
    {
     "name": "stdout",
     "output_type": "stream",
     "text": [
      "hello"
     ]
    }
   ],
   "source": [
    "morse_input = input(\"모스 부호를 입력하시오\").split(' ')\n",
    "\n",
    "for i in morse_input:\n",
    "    print(morse[i], end='')\n"
   ]
  },
  {
   "cell_type": "code",
   "execution_count": 10,
   "id": "d44569cd",
   "metadata": {},
   "outputs": [
    {
     "name": "stdout",
     "output_type": "stream",
     "text": [
      "hello\n"
     ]
    }
   ],
   "source": [
    "morse = { \n",
    "\n",
    "    '.-':'a','-...':'b','-.-.':'c','-..':'d','.':'e','..-.':'f', \n",
    "\n",
    "    '--.':'g','....':'h','..':'i','.---':'j','-.-':'k','.-..':'l', \n",
    "\n",
    "    '--':'m','-.':'n','---':'o','.--.':'p','--.-':'q','.-.':'r', \n",
    "\n",
    "    '...':'s','-':'t','..-':'u','...-':'v','.--':'w','-..-':'x', \n",
    "\n",
    "    '-.--':'y','--..':'z' \n",
    "} \n",
    "\n",
    "letter = \".... . .-.. .-.. ---\"\n",
    "\n",
    "a = letter.split()\n",
    "answer = ''\n",
    "\n",
    "for i in a:\n",
    "    answer += morse[i]\n",
    "    \n",
    "print(answer)"
   ]
  },
  {
   "cell_type": "markdown",
   "id": "3057e4c7",
   "metadata": {},
   "source": [
    "### set 자료형"
   ]
  },
  {
   "cell_type": "markdown",
   "id": "201fbac7",
   "metadata": {},
   "source": [
    "중복을 허용하지 않고, 순서가 없는 데이터"
   ]
  },
  {
   "cell_type": "code",
   "execution_count": 11,
   "id": "3ccd1ce9",
   "metadata": {},
   "outputs": [],
   "source": [
    "s = {1, 2, 3, 4, 2, 3}"
   ]
  },
  {
   "cell_type": "code",
   "execution_count": 12,
   "id": "2ecf20f9",
   "metadata": {},
   "outputs": [
    {
     "data": {
      "text/plain": [
       "set"
      ]
     },
     "execution_count": 12,
     "metadata": {},
     "output_type": "execute_result"
    }
   ],
   "source": [
    "type(s)"
   ]
  },
  {
   "cell_type": "code",
   "execution_count": 13,
   "id": "3fbbacb9",
   "metadata": {},
   "outputs": [],
   "source": [
    "s. add(5)"
   ]
  },
  {
   "cell_type": "code",
   "execution_count": 14,
   "id": "958ea24e",
   "metadata": {},
   "outputs": [
    {
     "data": {
      "text/plain": [
       "{1, 2, 3, 4, 5}"
      ]
     },
     "execution_count": 14,
     "metadata": {},
     "output_type": "execute_result"
    }
   ],
   "source": [
    "s"
   ]
  },
  {
   "cell_type": "code",
   "execution_count": 15,
   "id": "269073c3",
   "metadata": {},
   "outputs": [],
   "source": [
    "s.remove(3)"
   ]
  },
  {
   "cell_type": "code",
   "execution_count": 16,
   "id": "3affca92",
   "metadata": {},
   "outputs": [
    {
     "data": {
      "text/plain": [
       "{1, 2, 4, 5}"
      ]
     },
     "execution_count": 16,
     "metadata": {},
     "output_type": "execute_result"
    }
   ],
   "source": [
    "s"
   ]
  },
  {
   "cell_type": "code",
   "execution_count": 17,
   "id": "da823b9c",
   "metadata": {},
   "outputs": [],
   "source": [
    "my_list = [1, 2, 3, 5, 1, 2, 3]"
   ]
  },
  {
   "cell_type": "code",
   "execution_count": 19,
   "id": "cb6088b4",
   "metadata": {},
   "outputs": [
    {
     "data": {
      "text/plain": [
       "[1, 2, 3, 5]"
      ]
     },
     "execution_count": 19,
     "metadata": {},
     "output_type": "execute_result"
    }
   ],
   "source": [
    "# 중복제거용으로 set 을 사용함\n",
    "list(set(my_list))"
   ]
  },
  {
   "cell_type": "code",
   "execution_count": 20,
   "id": "57f3701c",
   "metadata": {},
   "outputs": [],
   "source": [
    "a = {1, 2, 3, 4}\n",
    "b = {3, 4, 5, 6}"
   ]
  },
  {
   "cell_type": "code",
   "execution_count": 21,
   "id": "c4307033",
   "metadata": {},
   "outputs": [
    {
     "data": {
      "text/plain": [
       "{1, 2, 3, 4, 5, 6}"
      ]
     },
     "execution_count": 21,
     "metadata": {},
     "output_type": "execute_result"
    }
   ],
   "source": [
    "a | b "
   ]
  },
  {
   "cell_type": "code",
   "execution_count": 24,
   "id": "1fb1f7b6",
   "metadata": {},
   "outputs": [
    {
     "data": {
      "text/plain": [
       "{1, 2, 3, 4, 5, 6}"
      ]
     },
     "execution_count": 24,
     "metadata": {},
     "output_type": "execute_result"
    }
   ],
   "source": [
    "# 합집합\n",
    "a.union(b)"
   ]
  },
  {
   "cell_type": "code",
   "execution_count": null,
   "id": "a84a7118",
   "metadata": {},
   "outputs": [
    {
     "data": {
      "text/plain": [
       "{3, 4}"
      ]
     },
     "execution_count": 23,
     "metadata": {},
     "output_type": "execute_result"
    }
   ],
   "source": [
    "# 교집합\n",
    "a & b"
   ]
  },
  {
   "cell_type": "code",
   "execution_count": 25,
   "id": "093265bf",
   "metadata": {},
   "outputs": [
    {
     "data": {
      "text/plain": [
       "{3, 4}"
      ]
     },
     "execution_count": 25,
     "metadata": {},
     "output_type": "execute_result"
    }
   ],
   "source": [
    "a.intersection(b)"
   ]
  },
  {
   "cell_type": "code",
   "execution_count": 27,
   "id": "5261bda4",
   "metadata": {},
   "outputs": [
    {
     "data": {
      "text/plain": [
       "{1, 2}"
      ]
     },
     "execution_count": 27,
     "metadata": {},
     "output_type": "execute_result"
    }
   ],
   "source": [
    "# 차집합\n",
    "a - b"
   ]
  },
  {
   "cell_type": "code",
   "execution_count": 28,
   "id": "0331b6e8",
   "metadata": {},
   "outputs": [
    {
     "data": {
      "text/plain": [
       "{1, 2}"
      ]
     },
     "execution_count": 28,
     "metadata": {},
     "output_type": "execute_result"
    }
   ],
   "source": [
    "a.difference(b)"
   ]
  },
  {
   "cell_type": "markdown",
   "id": "4ced6dfd",
   "metadata": {},
   "source": [
    "### 튜플"
   ]
  },
  {
   "cell_type": "markdown",
   "id": "cc770100",
   "metadata": {},
   "source": [
    "초기화 후 편집 불가능(immutable)"
   ]
  },
  {
   "cell_type": "code",
   "execution_count": 29,
   "id": "c4a99600",
   "metadata": {},
   "outputs": [],
   "source": [
    "t1 = ()"
   ]
  },
  {
   "cell_type": "code",
   "execution_count": 30,
   "id": "bdeee985",
   "metadata": {},
   "outputs": [],
   "source": [
    "t2 = (1, 2, 3)"
   ]
  },
  {
   "cell_type": "code",
   "execution_count": 31,
   "id": "143855a2",
   "metadata": {},
   "outputs": [
    {
     "data": {
      "text/plain": [
       "tuple"
      ]
     },
     "execution_count": 31,
     "metadata": {},
     "output_type": "execute_result"
    }
   ],
   "source": [
    "type(t2)"
   ]
  },
  {
   "cell_type": "code",
   "execution_count": 32,
   "id": "f2af0dc1",
   "metadata": {},
   "outputs": [
    {
     "data": {
      "text/plain": [
       "1"
      ]
     },
     "execution_count": 32,
     "metadata": {},
     "output_type": "execute_result"
    }
   ],
   "source": [
    "t2[0]"
   ]
  },
  {
   "cell_type": "code",
   "execution_count": 33,
   "id": "1702a177",
   "metadata": {},
   "outputs": [],
   "source": [
    "t4 = 1, 2, 3, 4"
   ]
  },
  {
   "cell_type": "code",
   "execution_count": 34,
   "id": "2e38009a",
   "metadata": {},
   "outputs": [],
   "source": [
    "t3 = ('a', 4, ('ab', 'g'))"
   ]
  },
  {
   "cell_type": "code",
   "execution_count": 35,
   "id": "7d48899a",
   "metadata": {},
   "outputs": [],
   "source": [
    "rawdata = ()"
   ]
  },
  {
   "cell_type": "code",
   "execution_count": null,
   "id": "1b822390",
   "metadata": {},
   "outputs": [],
   "source": [
    "#빼빼로데이\n",
    "\n",
    "빼빼로의 종류는 6가지 맛('누드초코', '아몬드', '초코', '크런키', '크림치즈', '화이트쿠키')이 있었습니다.\n",
    "이벤트 빼빼로는 한가지 맛에 하나만 구매할 수 있습니다.\n",
    "구매한 빼빼로를 오름차순으로 정렬하여 결과를 나타내 주세요.\n",
    "\n",
    "입력1\n",
    "[\"초코\", \"누드초코\", \"크런키\", \"아몬드\", \"초코\", \"누드초코\", \"아몬드\", \"화이트쿠키\", \"초코\", \"초코\"]\n",
    "\n",
    "출력1\n",
    "['누드초코', '아몬드', '초코', '크런키', '화이트쿠키']"
   ]
  },
  {
   "cell_type": "code",
   "execution_count": 9,
   "id": "342b4c1b",
   "metadata": {},
   "outputs": [
    {
     "name": "stdout",
     "output_type": "stream",
     "text": [
      "['누드초코', '아몬드', '초코', '크런키', '화이트쿠키']\n"
     ]
    }
   ],
   "source": [
    "\n",
    "pepero = [\n",
    "\n",
    "\"초코\", \"누드초코\", \"크런키\", \"아몬드\", \"초코\", \"누드초코\", \"아몬드\", \"화이트쿠키\", \"초코\", \"초코\"]\n",
    "\n",
    "answer = list(set(pepero))\n",
    "answer.sort()\n",
    "\n",
    "print(answer) "
   ]
  },
  {
   "cell_type": "code",
   "execution_count": null,
   "id": "39529fbf",
   "metadata": {},
   "outputs": [],
   "source": [
    "영단어갯수세기\n",
    "\n",
    "내가 외운 단어의 개수는 몇개일까요?\n",
    "\n",
    "입력1\n",
    "\"culture experience symbol symbol education symbol effect education affair liberty liberty affair\"\n",
    "\n",
    "출력1\n",
    "7"
   ]
  },
  {
   "cell_type": "code",
   "execution_count": 21,
   "id": "08e046af",
   "metadata": {},
   "outputs": [
    {
     "name": "stdout",
     "output_type": "stream",
     "text": [
      "7\n"
     ]
    }
   ],
   "source": [
    "word = \"culture experience symbol symbol education symbol effect education affair liberty liberty affair\"\n",
    "\n",
    "answer = word.split()\n",
    "print(len(set(answer)))"
   ]
  },
  {
   "cell_type": "markdown",
   "id": "8ffe7a33",
   "metadata": {},
   "source": [
    "### 함수와 클래스"
   ]
  },
  {
   "cell_type": "markdown",
   "id": "5b31c67d",
   "metadata": {},
   "source": [
    "특정 동작을 수행하는 일정한 코드의 모임\n",
    "지금까지 파이썬의 다양한 내장함수를 사용해 왔음\n",
    "print(), input(), int()\n",
    "내장함수와 사용자 정의함수\n",
    "<!-- \n",
    "https://docs.python.org/ko/3/library/functions.html\n",
    " -->"
   ]
  },
  {
   "cell_type": "code",
   "execution_count": null,
   "id": "4a9ee0b0",
   "metadata": {},
   "outputs": [],
   "source": [
    "dir(__builtins__)"
   ]
  },
  {
   "cell_type": "code",
   "execution_count": 30,
   "id": "15d61582",
   "metadata": {},
   "outputs": [],
   "source": [
    "#  함수 정의\n",
    "\n",
    "def my_Func(a):\n",
    "    print(f'{a}, 내가 만든 함수입니다.')\n"
   ]
  },
  {
   "cell_type": "code",
   "execution_count": 32,
   "id": "f504cbbf",
   "metadata": {},
   "outputs": [
    {
     "name": "stdout",
     "output_type": "stream",
     "text": [
      "Hey, 내가 만든 함수입니다.\n",
      "Hello, 내가 만든 함수입니다.\n",
      "Hi, 내가 만든 함수입니다.\n"
     ]
    }
   ],
   "source": [
    "my_Func('Hey')\n",
    "my_Func('Hello')\n",
    "my_Func('Hi')"
   ]
  },
  {
   "cell_type": "code",
   "execution_count": 33,
   "id": "0afef92a",
   "metadata": {},
   "outputs": [],
   "source": [
    "def my_sum(a, b):\n",
    "    result = a + b\n",
    "    return result"
   ]
  },
  {
   "cell_type": "code",
   "execution_count": 38,
   "id": "e3679694",
   "metadata": {},
   "outputs": [
    {
     "name": "stdout",
     "output_type": "stream",
     "text": [
      "7 11\n"
     ]
    }
   ],
   "source": [
    "my_sum(3, 4)\n",
    "\n",
    "num1 = my_sum(3, 4)\n",
    "num2 = my_sum(7, 4)\n",
    "\n",
    "print(num1, num2)"
   ]
  },
  {
   "cell_type": "code",
   "execution_count": null,
   "id": "ad95407e",
   "metadata": {},
   "outputs": [
    {
     "data": {
      "text/plain": [
       "12"
      ]
     },
     "execution_count": 39,
     "metadata": {},
     "output_type": "execute_result"
    }
   ],
   "source": [
    "# 문제\n",
    "def num_max(a, b, c):\n",
    "    if a > b:\n",
    "        if a > c: \n",
    "            return a\n",
    "    elif b > c:\n",
    "        if b > a:\n",
    "            return b\n",
    "    else:\n",
    "        return c\n",
    "\n",
    "# 강사님 풀이\n",
    "def max_num(a, b, c):\n",
    "    max_val = a \n",
    "    if b > max_val:\n",
    "        max_val = b \n",
    "    if c > max_val:\n",
    "        max_val = c\n",
    "    return max_val\n",
    "\n",
    "\n",
    "# 함수 호출 부분\n",
    "num = num_max(10, 12, 7)\n",
    "num"
   ]
  },
  {
   "cell_type": "code",
   "execution_count": 46,
   "id": "8099fa9a",
   "metadata": {},
   "outputs": [
    {
     "data": {
      "text/plain": [
       "24"
      ]
     },
     "execution_count": 46,
     "metadata": {},
     "output_type": "execute_result"
    }
   ],
   "source": [
    "# 함수\n",
    "def num_min(arr):\n",
    "    answer = arr[0]\n",
    "    for i in arr:\n",
    "        if answer > i:\n",
    "            answer = i\n",
    "    return answer    \n",
    "    \n",
    "testArray = [52, 273, 32, 103, 275, 24, 57]\n",
    "num_min(testArray)"
   ]
  },
  {
   "cell_type": "code",
   "execution_count": 47,
   "id": "7a8e1010",
   "metadata": {},
   "outputs": [],
   "source": [
    "# morse = { \n",
    "\n",
    "#     '.-':'a','-...':'b','-.-.':'c','-..':'d','.':'e','..-.':'f', \n",
    "\n",
    "#     '--.':'g','....':'h','..':'i','.---':'j','-.-':'k','.-..':'l', \n",
    "\n",
    "#     '--':'m','-.':'n','---':'o','.--.':'p','--.-':'q','.-.':'r', \n",
    "\n",
    "#     '...':'s','-':'t','..-':'u','...-':'v','.--':'w','-..-':'x', \n",
    "\n",
    "#     '-.--':'y','--..':'z' \n",
    "# } \n",
    "\n",
    "def morse_to_string(letter):\n",
    "    morse = { \n",
    "\n",
    "    '.-':'a','-...':'b','-.-.':'c','-..':'d','.':'e','..-.':'f', \n",
    "\n",
    "    '--.':'g','....':'h','..':'i','.---':'j','-.-':'k','.-..':'l', \n",
    "\n",
    "    '--':'m','-.':'n','---':'o','.--.':'p','--.-':'q','.-.':'r', \n",
    "\n",
    "    '...':'s','-':'t','..-':'u','...-':'v','.--':'w','-..-':'x', \n",
    "\n",
    "    '-.--':'y','--..':'z' \n",
    "} \n",
    "    \n",
    "\n",
    "    a = letter.split()\n",
    "    answer = ' '\n",
    "    for i in a:\n",
    "        answer += morse[i]\n",
    "\n",
    "    return answer"
   ]
  },
  {
   "cell_type": "code",
   "execution_count": 48,
   "id": "214a950c",
   "metadata": {},
   "outputs": [
    {
     "data": {
      "text/plain": [
       "' hello'"
      ]
     },
     "execution_count": 48,
     "metadata": {},
     "output_type": "execute_result"
    }
   ],
   "source": [
    "letter = \".... . .-.. .-.. ---\"\n",
    "\n",
    "morse_to_string(letter)"
   ]
  },
  {
   "cell_type": "code",
   "execution_count": null,
   "id": "029a4cc4",
   "metadata": {},
   "outputs": [],
   "source": [
    "# 여러 개의 입력값을 받는 함수 만들기\n",
    "\n",
    "# def add_many(*args) --> 여러개의 입력값을 받아서 튜플로 만들어준다.\n"
   ]
  },
  {
   "cell_type": "code",
   "execution_count": 58,
   "id": "15310760",
   "metadata": {},
   "outputs": [],
   "source": [
    "# 사용 예시\n",
    "def add_many(*args):\n",
    "    print(args)\n",
    "    sum = 0\n",
    "    for i in args:\n",
    "        sum += i\n",
    "    return sum"
   ]
  },
  {
   "cell_type": "code",
   "execution_count": 55,
   "id": "b440ab39",
   "metadata": {},
   "outputs": [
    {
     "name": "stdout",
     "output_type": "stream",
     "text": [
      "(1, 2)\n"
     ]
    }
   ],
   "source": [
    "add_many(1,2)"
   ]
  },
  {
   "cell_type": "code",
   "execution_count": 54,
   "id": "0ac8fd33",
   "metadata": {},
   "outputs": [
    {
     "name": "stdout",
     "output_type": "stream",
     "text": [
      "(1, 2, 3, 4, 5, 6, 7)\n"
     ]
    }
   ],
   "source": [
    "add_many(1, 2, 3, 4, 5, 6, 7)"
   ]
  },
  {
   "cell_type": "code",
   "execution_count": null,
   "id": "0cd45c6b",
   "metadata": {},
   "outputs": [],
   "source": [
    "def add_mul(choice, *args):\n",
    "    print(args)\n",
    "    if choice == 'add':\n",
    "        sum = 0\n",
    "        for i in args:\n",
    "            sum += i\n",
    "        return sum\n",
    "    elif choice == 'mul':\n",
    "        mul = 1\n",
    "        for i in args:\n",
    "            mul *= i\n",
    "        return mul\n",
    "    else: \n",
    "        print(\"연산자 종료 확인 요망\")\n",
    "        return None"
   ]
  },
  {
   "cell_type": "code",
   "execution_count": 67,
   "id": "f75028e6",
   "metadata": {},
   "outputs": [
    {
     "name": "stdout",
     "output_type": "stream",
     "text": [
      "(1, 2, 3, 4, 5)\n"
     ]
    },
    {
     "data": {
      "text/plain": [
       "15"
      ]
     },
     "execution_count": 67,
     "metadata": {},
     "output_type": "execute_result"
    }
   ],
   "source": [
    "add_mul('add', 1, 2, 3, 4, 5)"
   ]
  },
  {
   "cell_type": "code",
   "execution_count": 68,
   "id": "d0de5c81",
   "metadata": {},
   "outputs": [
    {
     "name": "stdout",
     "output_type": "stream",
     "text": [
      "(1, 2, 3, 4, 5)\n"
     ]
    },
    {
     "data": {
      "text/plain": [
       "120"
      ]
     },
     "execution_count": 68,
     "metadata": {},
     "output_type": "execute_result"
    }
   ],
   "source": [
    "add_mul('mul', 1, 2, 3, 4, 5)"
   ]
  },
  {
   "cell_type": "code",
   "execution_count": 69,
   "id": "df1da2cb",
   "metadata": {},
   "outputs": [],
   "source": [
    "def add_and_mul(a, b):\n",
    "    return a+b, a*b"
   ]
  },
  {
   "cell_type": "code",
   "execution_count": 71,
   "id": "f683cf07",
   "metadata": {},
   "outputs": [
    {
     "name": "stdout",
     "output_type": "stream",
     "text": [
      "7 12\n"
     ]
    }
   ],
   "source": [
    "result = add_and_mul(3, 4) # 7, 12\n",
    "print(result[0], result[1])\n",
    "# 리턴 형태는 한개의 값이 리턴된다."
   ]
  },
  {
   "cell_type": "code",
   "execution_count": 72,
   "id": "253bd235",
   "metadata": {},
   "outputs": [],
   "source": [
    "result1, result2 = add_and_mul(3, 4)\n",
    "# 리턴값을 하나씩 받을 수 있음"
   ]
  },
  {
   "cell_type": "code",
   "execution_count": 73,
   "id": "efaa4b55",
   "metadata": {},
   "outputs": [
    {
     "data": {
      "text/plain": [
       "7"
      ]
     },
     "execution_count": 73,
     "metadata": {},
     "output_type": "execute_result"
    }
   ],
   "source": [
    "result1"
   ]
  },
  {
   "cell_type": "code",
   "execution_count": 74,
   "id": "87028a6b",
   "metadata": {},
   "outputs": [
    {
     "data": {
      "text/plain": [
       "12"
      ]
     },
     "execution_count": 74,
     "metadata": {},
     "output_type": "execute_result"
    }
   ],
   "source": [
    "result2"
   ]
  },
  {
   "cell_type": "code",
   "execution_count": 75,
   "id": "eefe9667",
   "metadata": {},
   "outputs": [],
   "source": [
    "def say_my_self(name, age, man = True):\n",
    "    print(f\"{name}, {age}\")\n",
    "    if man: \n",
    "        print('나는 남자입니다.')\n",
    "    else:\n",
    "        print('나는 여자입니다.')"
   ]
  },
  {
   "cell_type": "code",
   "execution_count": 77,
   "id": "a143b9fe",
   "metadata": {},
   "outputs": [
    {
     "name": "stdout",
     "output_type": "stream",
     "text": [
      "박지민, 29\n",
      "나는 남자입니다.\n"
     ]
    }
   ],
   "source": [
    "say_my_self('박지민', 29)"
   ]
  }
 ],
 "metadata": {
  "kernelspec": {
   "display_name": "Python 3",
   "language": "python",
   "name": "python3"
  },
  "language_info": {
   "codemirror_mode": {
    "name": "ipython",
    "version": 3
   },
   "file_extension": ".py",
   "mimetype": "text/x-python",
   "name": "python",
   "nbconvert_exporter": "python",
   "pygments_lexer": "ipython3",
   "version": "3.11.8"
  }
 },
 "nbformat": 4,
 "nbformat_minor": 5
}
