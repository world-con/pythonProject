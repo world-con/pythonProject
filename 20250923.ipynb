{
 "cells": [
  {
   "cell_type": "markdown",
   "id": "f16640e6",
   "metadata": {},
   "source": [
    "### 함수"
   ]
  },
  {
   "cell_type": "code",
   "execution_count": null,
   "id": "5d7ade74",
   "metadata": {},
   "outputs": [],
   "source": [
    "# 지난 수업 리마인드\n",
    "\n",
    "a = 1\n",
    "def vartest(a):\n",
    "    a = a + 1\n",
    "\n",
    "vartest(a) # 리턴값이 없으므로 출력되지 않는다. \n",
    "print(a) # 1"
   ]
  },
  {
   "cell_type": "code",
   "execution_count": 1,
   "id": "35e9629b",
   "metadata": {},
   "outputs": [
    {
     "ename": "NameError",
     "evalue": "name 'a' is not defined",
     "output_type": "error",
     "traceback": [
      "\u001b[31m---------------------------------------------------------------------------\u001b[39m",
      "\u001b[31mNameError\u001b[39m                                 Traceback (most recent call last)",
      "\u001b[36mCell\u001b[39m\u001b[36m \u001b[39m\u001b[32mIn[1]\u001b[39m\u001b[32m, line 5\u001b[39m\n\u001b[32m      2\u001b[39m     a = a + \u001b[32m1\u001b[39m\n\u001b[32m      4\u001b[39m vartest(\u001b[32m3\u001b[39m)\n\u001b[32m----> \u001b[39m\u001b[32m5\u001b[39m \u001b[38;5;28mprint\u001b[39m(\u001b[43ma\u001b[49m)\n",
      "\u001b[31mNameError\u001b[39m: name 'a' is not defined"
     ]
    }
   ],
   "source": [
    "def vartest(a):\n",
    "    a = a + 1\n",
    "\n",
    "vartest(3)\n",
    "print(a)"
   ]
  },
  {
   "cell_type": "code",
   "execution_count": null,
   "id": "646f4d7c",
   "metadata": {},
   "outputs": [
    {
     "name": "stdout",
     "output_type": "stream",
     "text": [
      "1\n",
      "6\n"
     ]
    }
   ],
   "source": [
    "# 바깥의 변수 a 에 대해 작동하도록 변경 \n",
    "a = 1\n",
    "def vartest():\n",
    "    global a # 글로벌 변수\n",
    "    a = a + 5\n",
    "\n",
    "print(a)\n",
    "vartest()\n",
    "print(a)"
   ]
  },
  {
   "cell_type": "code",
   "execution_count": 9,
   "id": "a465847d",
   "metadata": {},
   "outputs": [],
   "source": [
    "def say_myself(name, age, man = True, hobby='coding'):\n",
    "    print(f\"{name}, {age}\")\n",
    "    print(man)\n",
    "    print(hobby)"
   ]
  },
  {
   "cell_type": "code",
   "execution_count": 10,
   "id": "0b65be60",
   "metadata": {},
   "outputs": [
    {
     "name": "stdout",
     "output_type": "stream",
     "text": [
      "jimin, 29\n",
      "False\n",
      "game\n"
     ]
    }
   ],
   "source": [
    "say_myself('jimin', 29, man = False, hobby = 'game')"
   ]
  },
  {
   "cell_type": "code",
   "execution_count": null,
   "id": "8fd032fe",
   "metadata": {},
   "outputs": [],
   "source": [
    "# 내장 함수\n",
    "\n",
    "# zip 함수\n",
    "# zip(*iterable) \n",
    "# for i in range"
   ]
  },
  {
   "cell_type": "code",
   "execution_count": 15,
   "id": "5a23f946",
   "metadata": {},
   "outputs": [
    {
     "name": "stdout",
     "output_type": "stream",
     "text": [
      "<zip object at 0x0000017551CAF280>\n",
      "[(52, 19, 52), (255, 50, 60), (39, 100, 39), (132, 44, 86)]\n",
      "(52, 19, 52)\n",
      "<class 'tuple'>\n"
     ]
    }
   ],
   "source": [
    "r = (52, 255, 39, 132)\n",
    "g = (19, 50, 100, 44)\n",
    "b = (52, 60, 39, 86)\n",
    "\n",
    "zip_object = zip(r, g, b)\n",
    "print(zip_object)\n",
    "\n",
    "img = list(zip_object)\n",
    "print(img)\n",
    "\n",
    "print(img[0])\n",
    "print(type(img[0]))"
   ]
  },
  {
   "cell_type": "markdown",
   "id": "05871b12",
   "metadata": {},
   "source": [
    "#### enumerate"
   ]
  },
  {
   "cell_type": "code",
   "execution_count": 16,
   "id": "6b6f6d52",
   "metadata": {},
   "outputs": [],
   "source": [
    "fruits = ['apple', 'banana', 'chery', 'date']"
   ]
  },
  {
   "cell_type": "code",
   "execution_count": 17,
   "id": "807abbab",
   "metadata": {},
   "outputs": [
    {
     "name": "stdout",
     "output_type": "stream",
     "text": [
      "apple\n",
      "banana\n",
      "chery\n",
      "date\n"
     ]
    }
   ],
   "source": [
    "for i in fruits:\n",
    "    print(i)"
   ]
  },
  {
   "cell_type": "code",
   "execution_count": 18,
   "id": "60072547",
   "metadata": {},
   "outputs": [
    {
     "name": "stdout",
     "output_type": "stream",
     "text": [
      "0 apple\n",
      "1 banana\n",
      "2 chery\n",
      "3 date\n"
     ]
    }
   ],
   "source": [
    "for i in range(len(fruits)):\n",
    "    print(i, fruits[i])"
   ]
  },
  {
   "cell_type": "code",
   "execution_count": 19,
   "id": "b3c0ba1a",
   "metadata": {},
   "outputs": [],
   "source": [
    "f = ('apple', 'banana', 'chery', 'date')"
   ]
  },
  {
   "cell_type": "code",
   "execution_count": 22,
   "id": "c2fe1302",
   "metadata": {},
   "outputs": [
    {
     "data": {
      "text/plain": [
       "{1: 'apple', 2: 'banana', 3: 'chery', 4: 'date'}"
      ]
     },
     "execution_count": 22,
     "metadata": {},
     "output_type": "execute_result"
    }
   ],
   "source": [
    "dict(enumerate(f, 1))"
   ]
  },
  {
   "cell_type": "markdown",
   "id": "398195bf",
   "metadata": {},
   "source": [
    "#### map"
   ]
  },
  {
   "cell_type": "code",
   "execution_count": null,
   "id": "ced964b7",
   "metadata": {},
   "outputs": [],
   "source": [
    "# 예제 \n",
    "my_list = [1, 2, 3, 4, 5]\n",
    "# => [2, 3, 4, 5, 6 ]"
   ]
  },
  {
   "cell_type": "code",
   "execution_count": 24,
   "id": "6d129d92",
   "metadata": {},
   "outputs": [
    {
     "name": "stdout",
     "output_type": "stream",
     "text": [
      "[2, 3, 4, 5, 6]\n"
     ]
    }
   ],
   "source": [
    "result = []\n",
    "for i in my_list:\n",
    "    result.append(i+1)\n",
    "print(result)"
   ]
  },
  {
   "cell_type": "code",
   "execution_count": 34,
   "id": "3db23ebf",
   "metadata": {},
   "outputs": [
    {
     "data": {
      "text/plain": [
       "[2, 3, 4, 5, 6]"
      ]
     },
     "execution_count": 34,
     "metadata": {},
     "output_type": "execute_result"
    }
   ],
   "source": [
    "mylist = [1, 2, 3, 4, 5]\n",
    "\n",
    "def add_one(n):\n",
    "    return n + 1\n",
    "\n",
    "result = list(map(add_one, mylist))\n",
    "result"
   ]
  },
  {
   "cell_type": "code",
   "execution_count": 31,
   "id": "a886b9f9",
   "metadata": {},
   "outputs": [],
   "source": [
    "for i in range(len(mylist)):\n",
    "    result.append(add_one(mylist[i]))\n"
   ]
  },
  {
   "cell_type": "code",
   "execution_count": 35,
   "id": "dc41a7d4",
   "metadata": {},
   "outputs": [
    {
     "data": {
      "text/plain": [
       "[3, -6, 100, 25]"
      ]
     },
     "execution_count": 35,
     "metadata": {},
     "output_type": "execute_result"
    }
   ],
   "source": [
    "mylist = [3.14, -5.6, 100.4, 25.0]\n",
    "\n",
    "result = list(map(round, mylist))\n",
    "result"
   ]
  },
  {
   "cell_type": "code",
   "execution_count": 36,
   "id": "1a09cb47",
   "metadata": {},
   "outputs": [
    {
     "data": {
      "text/plain": [
       "100"
      ]
     },
     "execution_count": 36,
     "metadata": {},
     "output_type": "execute_result"
    }
   ],
   "source": [
    "round(100.4)"
   ]
  },
  {
   "cell_type": "markdown",
   "id": "8152de70",
   "metadata": {},
   "source": [
    "#### filter"
   ]
  },
  {
   "cell_type": "code",
   "execution_count": null,
   "id": "2fefe0a0",
   "metadata": {},
   "outputs": [],
   "source": [
    "def f(x):\n",
    "    return x > S and x < 10\n",
    "\n",
    "a = [8, 3, 2, 10, 15, 7, 1, 9, 0, 11]\n",
    "list(filter)"
   ]
  },
  {
   "cell_type": "code",
   "execution_count": 3,
   "id": "d5f967b0",
   "metadata": {},
   "outputs": [],
   "source": [
    "a = [8, 3, 2, 10, 15, 7, 1, 9, 0, 11]"
   ]
  },
  {
   "cell_type": "code",
   "execution_count": 9,
   "id": "8df83535",
   "metadata": {},
   "outputs": [
    {
     "data": {
      "text/plain": [
       "[8, 7, 9]"
      ]
     },
     "execution_count": 9,
     "metadata": {},
     "output_type": "execute_result"
    }
   ],
   "source": [
    "# 람다함수 사용\n",
    "list(filter(lambda x: x>5 and x <10, a))"
   ]
  },
  {
   "cell_type": "code",
   "execution_count": 1,
   "id": "28e73167",
   "metadata": {},
   "outputs": [],
   "source": [
    "def f(x):\n",
    "    return x > 5 and x < 10"
   ]
  },
  {
   "cell_type": "code",
   "execution_count": 4,
   "id": "fa203dd2",
   "metadata": {},
   "outputs": [
    {
     "data": {
      "text/plain": [
       "[8, 7, 9]"
      ]
     },
     "execution_count": 4,
     "metadata": {},
     "output_type": "execute_result"
    }
   ],
   "source": [
    "list(filter(f, a))"
   ]
  },
  {
   "cell_type": "code",
   "execution_count": null,
   "id": "6e464311",
   "metadata": {},
   "outputs": [],
   "source": [
    "result = []\n",
    "\n",
    "for i in a:\n",
    "    if i > 5 and i < 10:\n",
    "        result.append(i)\n",
    "result "
   ]
  },
  {
   "cell_type": "markdown",
   "id": "f0f2d5a9",
   "metadata": {},
   "source": [
    "#### 람다 함수(익명 함수)"
   ]
  },
  {
   "cell_type": "code",
   "execution_count": 7,
   "id": "df7afb6b",
   "metadata": {},
   "outputs": [
    {
     "name": "stdout",
     "output_type": "stream",
     "text": [
      "[2, 3, 4, 5, 6]\n"
     ]
    }
   ],
   "source": [
    "mylist = [1, 2, 3, 4, 5]\n",
    "\n",
    "result = list(map(lambda x: x+1, mylist))\n",
    "print(result)"
   ]
  },
  {
   "cell_type": "code",
   "execution_count": 10,
   "id": "5a09f96b",
   "metadata": {},
   "outputs": [
    {
     "name": "stdout",
     "output_type": "stream",
     "text": [
      "[1, 4, 9, 16]\n"
     ]
    }
   ],
   "source": [
    "numbers = [1, 2, 3, 4]\n",
    "squared = list(map(lambda x: x **2, numbers))\n",
    "print(squared)"
   ]
  },
  {
   "cell_type": "code",
   "execution_count": 13,
   "id": "db707641",
   "metadata": {},
   "outputs": [
    {
     "name": "stdout",
     "output_type": "stream",
     "text": [
      "[2, 4, 6]\n"
     ]
    }
   ],
   "source": [
    "numbers = [1, 2, 3 , 4, 5, 6]\n",
    "even_numbers = list(filter(lambda x: x % 2 == 0, numbers))\n",
    "print(even_numbers)"
   ]
  },
  {
   "cell_type": "code",
   "execution_count": 19,
   "id": "8aff61d9",
   "metadata": {},
   "outputs": [
    {
     "name": "stdout",
     "output_type": "stream",
     "text": [
      "[(4, 1), (5, 1), (1, 2), (3, 4)]\n"
     ]
    }
   ],
   "source": [
    "# 다시 확인하기\n",
    "\n",
    "points = [(1, 2), (3, 4), (5, 1), (4, 1)]\n",
    "sorted_points = sorted(points, key = lambda x: (x[1], x[0]))\n",
    "print(sorted_points)"
   ]
  },
  {
   "cell_type": "code",
   "execution_count": null,
   "id": "a292d5c6",
   "metadata": {},
   "outputs": [],
   "source": [
    "my_numbers = sorted(numbers, reverse = True)"
   ]
  },
  {
   "cell_type": "code",
   "execution_count": 15,
   "id": "b4c1df73",
   "metadata": {},
   "outputs": [],
   "source": [
    "fruits = ['apple', 'banana', 'cherry', 'date']"
   ]
  },
  {
   "cell_type": "code",
   "execution_count": null,
   "id": "f4d86703",
   "metadata": {},
   "outputs": [
    {
     "data": {
      "text/plain": [
       "['date', 'apple', 'banana', 'cherry']"
      ]
     },
     "execution_count": 16,
     "metadata": {},
     "output_type": "execute_result"
    }
   ],
   "source": [
    "# sort는 원본을 건드린다. \n",
    "# sorted는 복사본을 만들어서 건드린다.\n",
    "myfruits = sorted(fruits, key = len)\n",
    "myfruits"
   ]
  },
  {
   "cell_type": "code",
   "execution_count": null,
   "id": "0888a212",
   "metadata": {},
   "outputs": [
    {
     "data": {
      "text/plain": [
       "[1, 2, 4, 3]"
      ]
     },
     "execution_count": 53,
     "metadata": {},
     "output_type": "execute_result"
    }
   ],
   "source": [
    "# 도전 문제\n",
    "# 등 수 구하기\n",
    "\n",
    "score = [[80, 70], [90, 50], [40, 70], [50, 80]]\n",
    "# avg_points = list(lambda x: (x[o] + x[1]) / 2)\n",
    "\n",
    "# 복습하기! \n",
    "\n",
    "def rank(score):\n",
    "    result = []\n",
    "    avg = []\n",
    "    for i, j in score: \n",
    "    # 1. 평균값을 가지는 리스트\n",
    "        # print((i+j) / 2)\n",
    "        avg.append((i+j) / 2)\n",
    "\n",
    "    # 2. 평균값을 내림차순으로 정렬\n",
    "    avg_sort = sorted(avg, reverse= True)\n",
    "    # print(avg_sort)\n",
    "\n",
    "    # 3. 비교해서 등수처리\n",
    "    for i in avg:\n",
    "        result.append(avg_sort.index(i) + 1)\n",
    "    return result\n",
    "    \n",
    "rank(score)\n",
    "# def rank(score):\n",
    "#     result = []\n",
    "#     # YOUR_CODE_HERE\n",
    "#     return result"
   ]
  },
  {
   "cell_type": "code",
   "execution_count": null,
   "id": "70184ae1",
   "metadata": {},
   "outputs": [
    {
     "data": {
      "text/plain": [
       "[True, True, False, True, False, True, False, False]"
      ]
     },
     "execution_count": 63,
     "metadata": {},
     "output_type": "execute_result"
    }
   ],
   "source": [
    "# 소수 판별하는 함수\n",
    "# 입력 \n",
    "# [2, 3, 4, 5, 6, 7, 8, 9] \n",
    "# 출력\n",
    "# [True, True, False, True, ....]\n",
    "\n",
    "p = [2, 3, 4, 5, 6, 7, 8, 9] \n",
    "\n",
    "\n",
    "def is_prime(num_list):\n",
    "    result = []\n",
    "    for num in num_list:\n",
    "        isprime = True\n",
    "        for i in range(2, num):\n",
    "            if num % i == 0:\n",
    "                isprime = False\n",
    "                break\n",
    "        result.append(isprime)\n",
    "    return result\n",
    "\n",
    "is_prime(p)\n",
    "\n",
    "\n",
    "# def is_prime(p):\n",
    "#     result = []\n",
    "#     for i in range(len(p)):\n",
    "#         if p[i] % i == 0:\n",
    "#             result.append(False)\n",
    "#         else:\n",
    "#             result.append(True)\n",
    "#     return result"
   ]
  },
  {
   "cell_type": "markdown",
   "id": "171100b0",
   "metadata": {},
   "source": [
    "#### 모듈"
   ]
  },
  {
   "cell_type": "code",
   "execution_count": null,
   "id": "6b9ae99d",
   "metadata": {},
   "outputs": [],
   "source": []
  }
 ],
 "metadata": {
  "kernelspec": {
   "display_name": "Python 3",
   "language": "python",
   "name": "python3"
  },
  "language_info": {
   "codemirror_mode": {
    "name": "ipython",
    "version": 3
   },
   "file_extension": ".py",
   "mimetype": "text/x-python",
   "name": "python",
   "nbconvert_exporter": "python",
   "pygments_lexer": "ipython3",
   "version": "3.11.8"
  }
 },
 "nbformat": 4,
 "nbformat_minor": 5
}
