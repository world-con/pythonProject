{
 "cells": [
  {
   "cell_type": "markdown",
   "id": "26d5b1d5",
   "metadata": {},
   "source": [
    "# 2025-09-18(목)"
   ]
  },
  {
   "cell_type": "markdown",
   "id": "17755d40",
   "metadata": {},
   "source": [
    "깃허브 및 파이썬 환경 설정"
   ]
  },
  {
   "cell_type": "markdown",
   "id": "f2751ca0",
   "metadata": {},
   "source": [
    "1. 깃허브 & 깃 사용법\n",
    "\n",
    "- 깃허브: 소스코드 저장소\n",
    "- 깃 : 버전관리 형상도구"
   ]
  }
 ],
 "metadata": {
  "kernelspec": {
   "display_name": "Python 3",
   "language": "python",
   "name": "python3"
  },
  "language_info": {
   "codemirror_mode": {
    "name": "ipython",
    "version": 3
   },
   "file_extension": ".py",
   "mimetype": "text/x-python",
   "name": "python",
   "nbconvert_exporter": "python",
   "pygments_lexer": "ipython3",
   "version": "3.11.8"
  }
 },
 "nbformat": 4,
 "nbformat_minor": 5
}
