{
 "cells": [
  {
   "cell_type": "markdown",
   "id": "f16640e6",
   "metadata": {},
   "source": [
    "### 함수"
   ]
  },
  {
   "cell_type": "code",
   "execution_count": null,
   "id": "5d7ade74",
   "metadata": {},
   "outputs": [],
   "source": [
    "# 지난 수업 리마인드\n",
    "\n",
    "a = 1\n",
    "def vartest(a):\n",
    "    a = a + 1\n",
    "\n",
    "vartest(a) # 리턴값이 없으므로 출력되지 않는다. \n",
    "print(a) # 1"
   ]
  },
  {
   "cell_type": "code",
   "execution_count": 1,
   "id": "35e9629b",
   "metadata": {},
   "outputs": [
    {
     "ename": "NameError",
     "evalue": "name 'a' is not defined",
     "output_type": "error",
     "traceback": [
      "\u001b[31m---------------------------------------------------------------------------\u001b[39m",
      "\u001b[31mNameError\u001b[39m                                 Traceback (most recent call last)",
      "\u001b[36mCell\u001b[39m\u001b[36m \u001b[39m\u001b[32mIn[1]\u001b[39m\u001b[32m, line 5\u001b[39m\n\u001b[32m      2\u001b[39m     a = a + \u001b[32m1\u001b[39m\n\u001b[32m      4\u001b[39m vartest(\u001b[32m3\u001b[39m)\n\u001b[32m----> \u001b[39m\u001b[32m5\u001b[39m \u001b[38;5;28mprint\u001b[39m(\u001b[43ma\u001b[49m)\n",
      "\u001b[31mNameError\u001b[39m: name 'a' is not defined"
     ]
    }
   ],
   "source": [
    "def vartest(a):\n",
    "    a = a + 1\n",
    "\n",
    "vartest(3)\n",
    "print(a)"
   ]
  },
  {
   "cell_type": "code",
   "execution_count": null,
   "id": "646f4d7c",
   "metadata": {},
   "outputs": [
    {
     "name": "stdout",
     "output_type": "stream",
     "text": [
      "1\n",
      "6\n"
     ]
    }
   ],
   "source": [
    "# 바깥의 변수 a 에 대해 작동하도록 변경 \n",
    "a = 1\n",
    "def vartest():\n",
    "    global a # 글로벌 변수\n",
    "    a = a + 5\n",
    "\n",
    "print(a)\n",
    "vartest()\n",
    "print(a)"
   ]
  },
  {
   "cell_type": "code",
   "execution_count": 9,
   "id": "a465847d",
   "metadata": {},
   "outputs": [],
   "source": [
    "def say_myself(name, age, man = True, hobby='coding'):\n",
    "    print(f\"{name}, {age}\")\n",
    "    print(man)\n",
    "    print(hobby)"
   ]
  },
  {
   "cell_type": "code",
   "execution_count": 10,
   "id": "0b65be60",
   "metadata": {},
   "outputs": [
    {
     "name": "stdout",
     "output_type": "stream",
     "text": [
      "jimin, 29\n",
      "False\n",
      "game\n"
     ]
    }
   ],
   "source": [
    "say_myself('jimin', 29, man = False, hobby = 'game')"
   ]
  },
  {
   "cell_type": "code",
   "execution_count": null,
   "id": "8fd032fe",
   "metadata": {},
   "outputs": [],
   "source": [
    "# 내장 함수\n",
    "\n",
    "# zip 함수\n",
    "# zip(*iterable) \n",
    "# for i in range"
   ]
  },
  {
   "cell_type": "code",
   "execution_count": 15,
   "id": "5a23f946",
   "metadata": {},
   "outputs": [
    {
     "name": "stdout",
     "output_type": "stream",
     "text": [
      "<zip object at 0x0000017551CAF280>\n",
      "[(52, 19, 52), (255, 50, 60), (39, 100, 39), (132, 44, 86)]\n",
      "(52, 19, 52)\n",
      "<class 'tuple'>\n"
     ]
    }
   ],
   "source": [
    "r = (52, 255, 39, 132)\n",
    "g = (19, 50, 100, 44)\n",
    "b = (52, 60, 39, 86)\n",
    "\n",
    "zip_object = zip(r, g, b)\n",
    "print(zip_object)\n",
    "\n",
    "img = list(zip_object)\n",
    "print(img)\n",
    "\n",
    "print(img[0])\n",
    "print(type(img[0]))"
   ]
  },
  {
   "cell_type": "markdown",
   "id": "05871b12",
   "metadata": {},
   "source": [
    "#### enumerate"
   ]
  },
  {
   "cell_type": "code",
   "execution_count": 16,
   "id": "6b6f6d52",
   "metadata": {},
   "outputs": [],
   "source": [
    "fruits = ['apple', 'banana', 'chery', 'date']"
   ]
  },
  {
   "cell_type": "code",
   "execution_count": 17,
   "id": "807abbab",
   "metadata": {},
   "outputs": [
    {
     "name": "stdout",
     "output_type": "stream",
     "text": [
      "apple\n",
      "banana\n",
      "chery\n",
      "date\n"
     ]
    }
   ],
   "source": [
    "for i in fruits:\n",
    "    print(i)"
   ]
  },
  {
   "cell_type": "code",
   "execution_count": 18,
   "id": "60072547",
   "metadata": {},
   "outputs": [
    {
     "name": "stdout",
     "output_type": "stream",
     "text": [
      "0 apple\n",
      "1 banana\n",
      "2 chery\n",
      "3 date\n"
     ]
    }
   ],
   "source": [
    "for i in range(len(fruits)):\n",
    "    print(i, fruits[i])"
   ]
  },
  {
   "cell_type": "code",
   "execution_count": 19,
   "id": "b3c0ba1a",
   "metadata": {},
   "outputs": [],
   "source": [
    "f = ('apple', 'banana', 'chery', 'date')"
   ]
  },
  {
   "cell_type": "code",
   "execution_count": 22,
   "id": "c2fe1302",
   "metadata": {},
   "outputs": [
    {
     "data": {
      "text/plain": [
       "{1: 'apple', 2: 'banana', 3: 'chery', 4: 'date'}"
      ]
     },
     "execution_count": 22,
     "metadata": {},
     "output_type": "execute_result"
    }
   ],
   "source": [
    "dict(enumerate(f, 1))"
   ]
  },
  {
   "cell_type": "markdown",
   "id": "398195bf",
   "metadata": {},
   "source": [
    "#### map"
   ]
  },
  {
   "cell_type": "code",
   "execution_count": null,
   "id": "ced964b7",
   "metadata": {},
   "outputs": [],
   "source": [
    "# 예제 \n",
    "my_list = [1, 2, 3, 4, 5]\n",
    "# => [2, 3, 4, 5, 6 ]"
   ]
  },
  {
   "cell_type": "code",
   "execution_count": 24,
   "id": "6d129d92",
   "metadata": {},
   "outputs": [
    {
     "name": "stdout",
     "output_type": "stream",
     "text": [
      "[2, 3, 4, 5, 6]\n"
     ]
    }
   ],
   "source": [
    "result = []\n",
    "for i in my_list:\n",
    "    result.append(i+1)\n",
    "print(result)"
   ]
  },
  {
   "cell_type": "code",
   "execution_count": 34,
   "id": "3db23ebf",
   "metadata": {},
   "outputs": [
    {
     "data": {
      "text/plain": [
       "[2, 3, 4, 5, 6]"
      ]
     },
     "execution_count": 34,
     "metadata": {},
     "output_type": "execute_result"
    }
   ],
   "source": [
    "mylist = [1, 2, 3, 4, 5]\n",
    "\n",
    "def add_one(n):\n",
    "    return n + 1\n",
    "\n",
    "result = list(map(add_one, mylist))\n",
    "result"
   ]
  },
  {
   "cell_type": "code",
   "execution_count": 31,
   "id": "a886b9f9",
   "metadata": {},
   "outputs": [],
   "source": [
    "for i in range(len(mylist)):\n",
    "    result.append(add_one(mylist[i]))\n"
   ]
  },
  {
   "cell_type": "code",
   "execution_count": 35,
   "id": "dc41a7d4",
   "metadata": {},
   "outputs": [
    {
     "data": {
      "text/plain": [
       "[3, -6, 100, 25]"
      ]
     },
     "execution_count": 35,
     "metadata": {},
     "output_type": "execute_result"
    }
   ],
   "source": [
    "mylist = [3.14, -5.6, 100.4, 25.0]\n",
    "\n",
    "result = list(map(round, mylist))\n",
    "result"
   ]
  },
  {
   "cell_type": "code",
   "execution_count": 36,
   "id": "1a09cb47",
   "metadata": {},
   "outputs": [
    {
     "data": {
      "text/plain": [
       "100"
      ]
     },
     "execution_count": 36,
     "metadata": {},
     "output_type": "execute_result"
    }
   ],
   "source": [
    "round(100.4)"
   ]
  },
  {
   "cell_type": "markdown",
   "id": "8152de70",
   "metadata": {},
   "source": [
    "#### filter"
   ]
  },
  {
   "cell_type": "code",
   "execution_count": null,
   "id": "2fefe0a0",
   "metadata": {},
   "outputs": [],
   "source": [
    "def f(x):\n",
    "    return x > S and x < 10\n",
    "\n",
    "a = [8, 3, 2, 10, 15, 7, 1, 9, 0, 11]\n",
    "list(filter)"
   ]
  },
  {
   "cell_type": "code",
   "execution_count": 3,
   "id": "d5f967b0",
   "metadata": {},
   "outputs": [],
   "source": [
    "a = [8, 3, 2, 10, 15, 7, 1, 9, 0, 11]"
   ]
  },
  {
   "cell_type": "code",
   "execution_count": 9,
   "id": "8df83535",
   "metadata": {},
   "outputs": [
    {
     "data": {
      "text/plain": [
       "[8, 7, 9]"
      ]
     },
     "execution_count": 9,
     "metadata": {},
     "output_type": "execute_result"
    }
   ],
   "source": [
    "# 람다함수 사용\n",
    "list(filter(lambda x: x>5 and x <10, a))"
   ]
  },
  {
   "cell_type": "code",
   "execution_count": 1,
   "id": "28e73167",
   "metadata": {},
   "outputs": [],
   "source": [
    "def f(x):\n",
    "    return x > 5 and x < 10"
   ]
  },
  {
   "cell_type": "code",
   "execution_count": 4,
   "id": "fa203dd2",
   "metadata": {},
   "outputs": [
    {
     "data": {
      "text/plain": [
       "[8, 7, 9]"
      ]
     },
     "execution_count": 4,
     "metadata": {},
     "output_type": "execute_result"
    }
   ],
   "source": [
    "list(filter(f, a))"
   ]
  },
  {
   "cell_type": "code",
   "execution_count": null,
   "id": "6e464311",
   "metadata": {},
   "outputs": [],
   "source": [
    "result = []\n",
    "\n",
    "for i in a:\n",
    "    if i > 5 and i < 10:\n",
    "        result.append(i)\n",
    "result "
   ]
  },
  {
   "cell_type": "markdown",
   "id": "f0f2d5a9",
   "metadata": {},
   "source": [
    "#### 람다 함수(익명 함수)"
   ]
  },
  {
   "cell_type": "code",
   "execution_count": 7,
   "id": "df7afb6b",
   "metadata": {},
   "outputs": [
    {
     "name": "stdout",
     "output_type": "stream",
     "text": [
      "[2, 3, 4, 5, 6]\n"
     ]
    }
   ],
   "source": [
    "mylist = [1, 2, 3, 4, 5]\n",
    "\n",
    "result = list(map(lambda x: x+1, mylist))\n",
    "print(result)"
   ]
  },
  {
   "cell_type": "code",
   "execution_count": 10,
   "id": "5a09f96b",
   "metadata": {},
   "outputs": [
    {
     "name": "stdout",
     "output_type": "stream",
     "text": [
      "[1, 4, 9, 16]\n"
     ]
    }
   ],
   "source": [
    "numbers = [1, 2, 3, 4]\n",
    "squared = list(map(lambda x: x **2, numbers))\n",
    "print(squared)"
   ]
  },
  {
   "cell_type": "code",
   "execution_count": 13,
   "id": "db707641",
   "metadata": {},
   "outputs": [
    {
     "name": "stdout",
     "output_type": "stream",
     "text": [
      "[2, 4, 6]\n"
     ]
    }
   ],
   "source": [
    "numbers = [1, 2, 3 , 4, 5, 6]\n",
    "even_numbers = list(filter(lambda x: x % 2 == 0, numbers))\n",
    "print(even_numbers)"
   ]
  },
  {
   "cell_type": "code",
   "execution_count": 19,
   "id": "8aff61d9",
   "metadata": {},
   "outputs": [
    {
     "name": "stdout",
     "output_type": "stream",
     "text": [
      "[(4, 1), (5, 1), (1, 2), (3, 4)]\n"
     ]
    }
   ],
   "source": [
    "# 다시 확인하기\n",
    "\n",
    "points = [(1, 2), (3, 4), (5, 1), (4, 1)]\n",
    "sorted_points = sorted(points, key = lambda x: (x[1], x[0]))\n",
    "print(sorted_points)"
   ]
  },
  {
   "cell_type": "code",
   "execution_count": null,
   "id": "a292d5c6",
   "metadata": {},
   "outputs": [],
   "source": [
    "my_numbers = sorted(numbers, reverse = True)"
   ]
  },
  {
   "cell_type": "code",
   "execution_count": 15,
   "id": "b4c1df73",
   "metadata": {},
   "outputs": [],
   "source": [
    "fruits = ['apple', 'banana', 'cherry', 'date']"
   ]
  },
  {
   "cell_type": "code",
   "execution_count": null,
   "id": "f4d86703",
   "metadata": {},
   "outputs": [
    {
     "data": {
      "text/plain": [
       "['date', 'apple', 'banana', 'cherry']"
      ]
     },
     "execution_count": 16,
     "metadata": {},
     "output_type": "execute_result"
    }
   ],
   "source": [
    "# sort는 원본을 건드린다. \n",
    "# sorted는 복사본을 만들어서 건드린다.\n",
    "myfruits = sorted(fruits, key = len)\n",
    "myfruits"
   ]
  },
  {
   "cell_type": "code",
   "execution_count": null,
   "id": "0888a212",
   "metadata": {},
   "outputs": [
    {
     "data": {
      "text/plain": [
       "[1, 2, 4, 3]"
      ]
     },
     "execution_count": 53,
     "metadata": {},
     "output_type": "execute_result"
    }
   ],
   "source": [
    "# 도전 문제\n",
    "# 등 수 구하기\n",
    "\n",
    "score = [[80, 70], [90, 50], [40, 70], [50, 80]]\n",
    "# avg_points = list(lambda x: (x[o] + x[1]) / 2)\n",
    "\n",
    "# 복습하기! \n",
    "\n",
    "def rank(score):\n",
    "    result = []\n",
    "    avg = []\n",
    "    for i, j in score: \n",
    "    # 1. 평균값을 가지는 리스트\n",
    "        # print((i+j) / 2)\n",
    "        avg.append((i+j) / 2)\n",
    "\n",
    "    # 2. 평균값을 내림차순으로 정렬\n",
    "    avg_sort = sorted(avg, reverse= True)\n",
    "    # print(avg_sort)\n",
    "\n",
    "    # 3. 비교해서 등수처리\n",
    "    for i in avg:\n",
    "        result.append(avg_sort.index(i) + 1)\n",
    "    return result\n",
    "    "
   ]
  },
  {
   "cell_type": "code",
   "execution_count": null,
   "id": "70184ae1",
   "metadata": {},
   "outputs": [
    {
     "data": {
      "text/plain": [
       "[True, True, False, True, False, True, False, False]"
      ]
     },
     "execution_count": 63,
     "metadata": {},
     "output_type": "execute_result"
    }
   ],
   "source": [
    "# 소수 판별하는 함수\n",
    "# 입력 \n",
    "# [2, 3, 4, 5, 6, 7, 8, 9] \n",
    "# 출력\n",
    "# [True, True, False, True, ....]\n",
    "\n",
    "p = [2, 3, 4, 5, 6, 7, 8, 9] \n",
    "\n",
    "\n",
    "def is_prime(num_list):\n",
    "    result = []\n",
    "    for num in num_list:\n",
    "        isprime = True\n",
    "        for i in range(2, num):\n",
    "            if num % i == 0:\n",
    "                isprime = False\n",
    "                break\n",
    "        result.append(isprime)\n",
    "    return result\n",
    "\n",
    "is_prime(p)\n",
    "\n",
    "\n",
    "# def is_prime(p):\n",
    "#     result = []\n",
    "#     for i in range(len(p)):\n",
    "#         if p[i] % i == 0:\n",
    "#             result.append(False)\n",
    "#         else:\n",
    "#             result.append(True)\n",
    "#     return result"
   ]
  },
  {
   "cell_type": "markdown",
   "id": "171100b0",
   "metadata": {},
   "source": [
    "#### 모듈"
   ]
  },
  {
   "cell_type": "code",
   "execution_count": 67,
   "id": "6b9ae99d",
   "metadata": {},
   "outputs": [
    {
     "data": {
      "text/plain": [
       "4"
      ]
     },
     "execution_count": 67,
     "metadata": {},
     "output_type": "execute_result"
    }
   ],
   "source": [
    "import random\n",
    "# import random as r\n",
    "\n",
    "random.randint(1, 100)\n",
    "random.randrange(1, 5)"
   ]
  },
  {
   "cell_type": "code",
   "execution_count": null,
   "id": "dbcc0268",
   "metadata": {},
   "outputs": [],
   "source": [
    "random.randint(1, 100)"
   ]
  },
  {
   "cell_type": "code",
   "execution_count": null,
   "id": "6015f393",
   "metadata": {},
   "outputs": [],
   "source": [
    "from random import randint\n",
    "# random모듈에서 randint 라는 함수만 가져온다."
   ]
  },
  {
   "cell_type": "code",
   "execution_count": 65,
   "id": "a43717ea",
   "metadata": {},
   "outputs": [
    {
     "name": "stdout",
     "output_type": "stream",
     "text": [
      "11.0\n"
     ]
    }
   ],
   "source": [
    "from math import * \n",
    "\n",
    "num1 = pow(2, 3) \n",
    "num2 = sqrt(9)\n",
    "\n",
    "print(num1 + num2)"
   ]
  },
  {
   "cell_type": "code",
   "execution_count": null,
   "id": "9bffc6b6",
   "metadata": {},
   "outputs": [
    {
     "data": {
      "text/plain": [
       "75"
      ]
     },
     "execution_count": 66,
     "metadata": {},
     "output_type": "execute_result"
    }
   ],
   "source": [
    "from random import randint, randrange\n",
    "\n",
    "randint(1, 100)\n",
    "# randrange(1, 3)   \n",
    "# -> randrange는 동작하지 않음"
   ]
  },
  {
   "cell_type": "code",
   "execution_count": null,
   "id": "ed600a63",
   "metadata": {},
   "outputs": [],
   "source": [
    "from random import *\n",
    "from math import *\n",
    "from numpy import *\n",
    "\n",
    "\n",
    "randint(1, 100)\n",
    "randrange(1, 3)\n",
    "sample([1, 2, 3], 1)"
   ]
  },
  {
   "cell_type": "code",
   "execution_count": 76,
   "id": "16071cc0",
   "metadata": {},
   "outputs": [
    {
     "name": "stdout",
     "output_type": "stream",
     "text": [
      "[14, 28, 21, 31, 44, 39]\n"
     ]
    }
   ],
   "source": [
    "import random as r\n",
    "\n",
    "result = []\n",
    "while len(result) < 6:\n",
    "    num = r.randint(1, 45)\n",
    "    if num not in result:\n",
    "        result.append(num)\n",
    "\n",
    "print(result)"
   ]
  },
  {
   "cell_type": "code",
   "execution_count": null,
   "id": "42917ed4",
   "metadata": {},
   "outputs": [],
   "source": [
    "# 도전 문제\n",
    "\n",
    "while True: \n",
    "    user = input(\"가위, 바위, 보\")\n",
    "    com = sel[random.randint(0,2)]\n",
    "    if checkWin(user, com):\n",
    "        if continueConfirm():\n",
    "            continue\n",
    "        else:\n",
    "            break"
   ]
  },
  {
   "cell_type": "markdown",
   "id": "80e26412",
   "metadata": {},
   "source": [
    "#### 사용자 정의 모듈\n"
   ]
  },
  {
   "cell_type": "code",
   "execution_count": 77,
   "id": "9f0907af",
   "metadata": {},
   "outputs": [],
   "source": [
    "import mymodule as mm"
   ]
  },
  {
   "cell_type": "code",
   "execution_count": 81,
   "id": "2ecb7ebd",
   "metadata": {},
   "outputs": [
    {
     "name": "stdout",
     "output_type": "stream",
     "text": [
      "10\n",
      "-2\n"
     ]
    }
   ],
   "source": [
    "print(mm.my_add(7, 3))\n",
    "\n",
    "print(mm.my_sub(3, 5))"
   ]
  },
  {
   "cell_type": "code",
   "execution_count": null,
   "id": "378cc2a2",
   "metadata": {},
   "outputs": [
    {
     "data": {
      "text/plain": [
       "'__main__'"
      ]
     },
     "execution_count": 78,
     "metadata": {},
     "output_type": "execute_result"
    }
   ],
   "source": [
    "# 아래 코드의 의미\n",
    "# if __name__ == \"__main__\":\n",
    "\n",
    "__name__\n",
    "\n",
    "# -> 파이썬에서 내부적으로 사용하고 있는 변수"
   ]
  },
  {
   "cell_type": "code",
   "execution_count": 1,
   "id": "57c0e193",
   "metadata": {},
   "outputs": [
    {
     "name": "stdout",
     "output_type": "stream",
     "text": [
      "mymodule 안에서의 __name__: mymodule\n",
      "3\n",
      "-2\n"
     ]
    }
   ],
   "source": [
    "import mymodule as mm\n",
    "\n",
    "print(mm.my_add(1, 2))\n",
    "print(mm.my_sub(3, 5))"
   ]
  },
  {
   "cell_type": "markdown",
   "id": "a29afab4",
   "metadata": {},
   "source": [
    "#### 클래스"
   ]
  },
  {
   "cell_type": "code",
   "execution_count": null,
   "id": "04230a55",
   "metadata": {},
   "outputs": [],
   "source": [
    "# 붕어빵을 만들기 위한 붕어빵 틀\n",
    "\n",
    "# 객체 - object\n",
    "# -> 클래스에서 찍어낸 형태\n",
    "# ex) 자동차, 쿠키틀에서 찍어낸 쿠키"
   ]
  },
  {
   "cell_type": "code",
   "execution_count": 2,
   "id": "2e078285",
   "metadata": {},
   "outputs": [],
   "source": [
    "class Person:\n",
    "    def __init__(self, name, age):\n",
    "        self.name = name\n",
    "        self.age = age\n",
    "\n",
    "    def walk(self):\n",
    "        print(f\"{self.name}이 걸어가요\")\n"
   ]
  },
  {
   "cell_type": "code",
   "execution_count": 3,
   "id": "a02869c9",
   "metadata": {},
   "outputs": [],
   "source": [
    "person1 = Person(\"박지민\", 31)"
   ]
  },
  {
   "cell_type": "code",
   "execution_count": 5,
   "id": "50397fd8",
   "metadata": {},
   "outputs": [
    {
     "name": "stdout",
     "output_type": "stream",
     "text": [
      "<class '__main__.Person'>\n"
     ]
    }
   ],
   "source": [
    "print(type(person1))"
   ]
  },
  {
   "cell_type": "code",
   "execution_count": 6,
   "id": "1c8ca590",
   "metadata": {},
   "outputs": [
    {
     "name": "stdout",
     "output_type": "stream",
     "text": [
      "박지민이 걸어가요\n"
     ]
    }
   ],
   "source": [
    "person1.walk()"
   ]
  },
  {
   "cell_type": "code",
   "execution_count": 8,
   "id": "5a6c9102",
   "metadata": {},
   "outputs": [],
   "source": [
    "person2 = Person(\"전정국\", 29)"
   ]
  },
  {
   "cell_type": "code",
   "execution_count": 9,
   "id": "ac2a230d",
   "metadata": {},
   "outputs": [
    {
     "name": "stdout",
     "output_type": "stream",
     "text": [
      "전정국이 걸어가요\n"
     ]
    }
   ],
   "source": [
    "person2.walk()"
   ]
  },
  {
   "cell_type": "code",
   "execution_count": 26,
   "id": "84c2f25c",
   "metadata": {},
   "outputs": [],
   "source": [
    "# 상속\n",
    "class NewPerson(Person):\n",
    "\n",
    "    def fly(self):\n",
    "        print(f\"{self.name}이 하늘을 날아다녀요\")\n",
    "    \n",
    "    def walk(self):\n",
    "        print(f'{self.name}이 너무 잘 걸어요')"
   ]
  },
  {
   "cell_type": "code",
   "execution_count": 28,
   "id": "cc1023b9",
   "metadata": {},
   "outputs": [],
   "source": [
    "person3 = NewPerson(\"정호석\", 33)"
   ]
  },
  {
   "cell_type": "code",
   "execution_count": 29,
   "id": "50eba33a",
   "metadata": {},
   "outputs": [
    {
     "name": "stdout",
     "output_type": "stream",
     "text": [
      "정호석이 너무 잘 걸어요\n"
     ]
    }
   ],
   "source": [
    "person3.walk()\n"
   ]
  },
  {
   "cell_type": "code",
   "execution_count": 30,
   "id": "0f4fdea8",
   "metadata": {},
   "outputs": [
    {
     "name": "stdout",
     "output_type": "stream",
     "text": [
      "정호석이 하늘을 날아다녀요\n"
     ]
    }
   ],
   "source": [
    "person3.fly()"
   ]
  },
  {
   "cell_type": "code",
   "execution_count": null,
   "id": "2483369f",
   "metadata": {},
   "outputs": [],
   "source": [
    "# 결제시스템\n",
    "신용카드, 포인트 결제 "
   ]
  },
  {
   "cell_type": "code",
   "execution_count": 48,
   "id": "4c07026b",
   "metadata": {},
   "outputs": [],
   "source": [
    "def pay_credit_payment(card_info, amount):\n",
    "    \"\"\"신용카드 결제 로직\"\"\"\n",
    "    print(f\"{card_info['card_number']}카드로 {amount}원 결제합니다.\")\n",
    "    print('결제 완료')\n",
    "\n",
    "def pay_with_point(point_wallet, amount):\n",
    "    if point_wallet['balance'] >= amount:\n",
    "        point_wallet['balance'] -= amount\n",
    "        print(f\"포인트 {amount}점을 사용해서 결제했습니다.\")\n",
    "    else:\n",
    "        print(\"포인트가 부족합니다.\")\n",
    "    "
   ]
  },
  {
   "cell_type": "code",
   "execution_count": 49,
   "id": "7ad6a372",
   "metadata": {},
   "outputs": [],
   "source": [
    "credit_card = {\n",
    "    'type' : 'credit_card', \n",
    "    'card_number' : '1234-5678-xxxx', \n",
    "    'cvc' : 123\n",
    "}\n",
    "\n",
    "my_points = {\n",
    "    'type' : \"point_wallet\", \n",
    "    'balance' : 50000\n",
    "}"
   ]
  },
  {
   "cell_type": "code",
   "execution_count": null,
   "id": "64fe9fce",
   "metadata": {},
   "outputs": [],
   "source": [
    "# 메인 루틴\n",
    "\n",
    "def payment(payment_method, amount):\n",
    "    payment_type = payment_method['type']\n",
    "    \n",
    "    if payment_type == 'credit_card':\n",
    "        pay_credit_payment(payment_method, amount)\n",
    "    \n",
    "    elif payment_type == 'point_wallet':\n",
    "        pay_with_point(payment_method, amount)\n",
    "    \n",
    "    else:\n",
    "        print(\"지원되지않는 결제방식입니다.\")"
   ]
  },
  {
   "cell_type": "code",
   "execution_count": 51,
   "id": "3acc87a1",
   "metadata": {},
   "outputs": [
    {
     "name": "stdout",
     "output_type": "stream",
     "text": [
      "1234-5678-xxxx카드로 2500원 결제합니다.\n",
      "결제 완료\n",
      "포인트 10000점을 사용해서 결제했습니다.\n",
      "포인트가 부족합니다.\n"
     ]
    }
   ],
   "source": [
    "payment(credit_card, 2500)\n",
    "payment(my_points, 10000)\n",
    "payment(my_points, 50000)"
   ]
  },
  {
   "cell_type": "code",
   "execution_count": 52,
   "id": "75304426",
   "metadata": {},
   "outputs": [],
   "source": [
    "class PaymentMethod: \n",
    "    def pay(self, amount):\n",
    "        print(f\"{amount}원 결제\")"
   ]
  },
  {
   "cell_type": "code",
   "execution_count": 55,
   "id": "873b4253",
   "metadata": {},
   "outputs": [],
   "source": [
    "class CreditCard(PaymentMethod):\n",
    "    def __init__(self, card_number, cvc):\n",
    "        self.card_number = card_number\n",
    "        self.cvc = cvc\n",
    "\n",
    "    def pay(self, amount):\n",
    "        print(f\"{self.card_number}카드로 {amount}원 결제합니다.\")\n",
    "        # 서버 결제 요청\n",
    "        print('결제 완료')\n",
    "\n",
    "class PointWallet(PaymentMethod):\n",
    "    def __init__(self, balance):\n",
    "        self.balance = balance\n",
    "\n",
    "    def pay(self, amount):\n",
    "        if self.balance >= amount:\n",
    "            self.balance -= amount\n",
    "            print(f\"포인트 {amount}점을 사용해서 결제했습니다.\")\n",
    "        else:\n",
    "            print(\"포인트가 부족합니다.\")"
   ]
  },
  {
   "cell_type": "code",
   "execution_count": 57,
   "id": "5cc59d2d",
   "metadata": {},
   "outputs": [],
   "source": [
    "def process_payment(payment_method, amount):\n",
    "    payment_method.pay(amount)\n",
    "    \n",
    "card_obj = CreditCard(\"44444-4444-xxxxx\", 444)\n",
    "point_obj = PointWallet(50000)"
   ]
  },
  {
   "cell_type": "code",
   "execution_count": 58,
   "id": "e12cb660",
   "metadata": {},
   "outputs": [
    {
     "name": "stdout",
     "output_type": "stream",
     "text": [
      "44444-4444-xxxxx카드로 1000원 결제합니다.\n",
      "결제 완료\n",
      "포인트 10000점을 사용해서 결제했습니다.\n",
      "포인트가 부족합니다.\n"
     ]
    }
   ],
   "source": [
    "process_payment(card_obj, 1000)\n",
    "process_payment(point_obj, 10000)\n",
    "process_payment(point_obj, 50000)\n"
   ]
  },
  {
   "cell_type": "code",
   "execution_count": null,
   "id": "c4edf523",
   "metadata": {},
   "outputs": [],
   "source": [
    "# 모범답안 코드\n",
    "\n",
    "class PaymentMethod:\n",
    "    def pay(self, amount):\n",
    "        print(f\"{amount}원 결제\")\n",
    " \n",
    "class CreditCard(PaymentMethod):\n",
    "    def __init__(self, card_number, cvc):\n",
    "        self.card_number = card_number\n",
    "        self.cvc = cvc\n",
    "    def pay(self, amount):\n",
    "        print(f\"{self.card_number}카드로 {amount}원 결제합니다.\")\n",
    "        # 서버 결제 요청\n",
    "        print('결제 완료')\n",
    "class PointWallet(PaymentMethod):\n",
    "    def __init__(self, balance):\n",
    "        self.balance = balance\n",
    "    def pay(self, amount):\n",
    "        if self.balance >= amount:\n",
    "            self.balance -= amount\n",
    "            print(f\"포인트 {amount}점을 사용해서 결제했습니다.\")\n",
    "        else:\n",
    "            print(\"포인트가 부족합니다.\")\n",
    " \n",
    "def process_payment(payment_method, amount):\n",
    "    payment_method.pay(amount)\n",
    "card_obj = CreditCard(\"44444-4444-xxxxx\", 444)\n",
    "point_obj = PointWallet(50000)\n",
    "\n",
    "process_payment(card_obj, 1000)\n",
    "process_payment(point_obj, 10000)\n",
    "process_payment(point_obj, 50000)"
   ]
  },
  {
   "cell_type": "code",
   "execution_count": 60,
   "id": "052bbb32",
   "metadata": {},
   "outputs": [
    {
     "name": "stdout",
     "output_type": "stream",
     "text": [
      "Requirement already satisfied: numpy in c:\\users\\el064\\appdata\\local\\programs\\python\\python311\\lib\\site-packages (2.3.3)\n"
     ]
    },
    {
     "name": "stderr",
     "output_type": "stream",
     "text": [
      "\n",
      "[notice] A new release of pip is available: 24.0 -> 25.2\n",
      "[notice] To update, run: python.exe -m pip install --upgrade pip\n"
     ]
    }
   ],
   "source": [
    "!pip install numpy"
   ]
  },
  {
   "cell_type": "code",
   "execution_count": 62,
   "id": "11fd6dc7",
   "metadata": {},
   "outputs": [],
   "source": [
    "import numpy"
   ]
  },
  {
   "cell_type": "code",
   "execution_count": null,
   "id": "26ef0337",
   "metadata": {},
   "outputs": [],
   "source": [
    "# numpy 맛보기\n",
    "!pip install beautifulsoup4"
   ]
  },
  {
   "cell_type": "code",
   "execution_count": 64,
   "id": "607ccff3",
   "metadata": {},
   "outputs": [],
   "source": [
    "from bs4 import BeautifulSoup"
   ]
  },
  {
   "cell_type": "code",
   "execution_count": null,
   "id": "d7637132",
   "metadata": {},
   "outputs": [
    {
     "name": "stdout",
     "output_type": "stream",
     "text": [
      "나는 상어 7\n",
      "나는 늑대 3\n"
     ]
    }
   ],
   "source": [
    "# 클래스 연습\n",
    "\n",
    "class Monster:\n",
    "    def __init__(self, name, age):\n",
    "        self.name = name\n",
    "        self.age = age\n",
    "\n",
    "    def say(self):\n",
    "        print(f\"나는 {self.name} {self.age}\")\n",
    "\n",
    "shark = Monster('상어', 7)\n",
    "wolf = Monster('늑대', 3)\n",
    "\n",
    "shark.say()\n",
    "wolf.say()\n"
   ]
  }
 ],
 "metadata": {
  "kernelspec": {
   "display_name": "Python 3",
   "language": "python",
   "name": "python3"
  },
  "language_info": {
   "codemirror_mode": {
    "name": "ipython",
    "version": 3
   },
   "file_extension": ".py",
   "mimetype": "text/x-python",
   "name": "python",
   "nbconvert_exporter": "python",
   "pygments_lexer": "ipython3",
   "version": "3.11.8"
  }
 },
 "nbformat": 4,
 "nbformat_minor": 5
}
