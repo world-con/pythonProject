{
 "cells": [
  {
   "cell_type": "markdown",
   "id": "21d588a4",
   "metadata": {},
   "source": [
    "# 2025-09-19"
   ]
  },
  {
   "cell_type": "code",
   "execution_count": 3,
   "id": "21091cc8",
   "metadata": {},
   "outputs": [
    {
     "name": "stdout",
     "output_type": "stream",
     "text": [
      "안녕하세요 지금부터 파이썬을 시작하려고 합니다.\n"
     ]
    }
   ],
   "source": [
    "print(\"안녕하세요 지금부터 파이썬을 시작하려고 합니다.\")"
   ]
  },
  {
   "cell_type": "code",
   "execution_count": 4,
   "id": "faa492f1",
   "metadata": {},
   "outputs": [
    {
     "data": {
      "text/plain": [
       "'Hello'"
      ]
     },
     "execution_count": 4,
     "metadata": {},
     "output_type": "execute_result"
    }
   ],
   "source": [
    "\"Hello\" # 문자열 string"
   ]
  },
  {
   "cell_type": "code",
   "execution_count": 5,
   "id": "cc1d8e6b",
   "metadata": {},
   "outputs": [
    {
     "data": {
      "text/plain": [
       "123"
      ]
     },
     "execution_count": 5,
     "metadata": {},
     "output_type": "execute_result"
    }
   ],
   "source": [
    "123 # 정수형"
   ]
  },
  {
   "cell_type": "code",
   "execution_count": 6,
   "id": "e9efced5",
   "metadata": {},
   "outputs": [
    {
     "data": {
      "text/plain": [
       "36.5"
      ]
     },
     "execution_count": 6,
     "metadata": {},
     "output_type": "execute_result"
    }
   ],
   "source": [
    "36.5 # 실수형  "
   ]
  },
  {
   "cell_type": "code",
   "execution_count": 7,
   "id": "a12c2edb",
   "metadata": {},
   "outputs": [
    {
     "data": {
      "text/plain": [
       "(True, False)"
      ]
     },
     "execution_count": 7,
     "metadata": {},
     "output_type": "execute_result"
    }
   ],
   "source": [
    "True, False # 논리데이터(boolean) -> 참, 거짓"
   ]
  },
  {
   "cell_type": "code",
   "execution_count": 8,
   "id": "d0ab8304",
   "metadata": {},
   "outputs": [
    {
     "name": "stdout",
     "output_type": "stream",
     "text": [
      "Hello World\n"
     ]
    }
   ],
   "source": [
    "print(\"Hello World\")"
   ]
  },
  {
   "cell_type": "code",
   "execution_count": 9,
   "id": "b92a80d9",
   "metadata": {},
   "outputs": [
    {
     "name": "stdout",
     "output_type": "stream",
     "text": [
      "123\n"
     ]
    }
   ],
   "source": [
    "print(123)"
   ]
  },
  {
   "cell_type": "code",
   "execution_count": 10,
   "id": "82fbb068",
   "metadata": {},
   "outputs": [
    {
     "name": "stdout",
     "output_type": "stream",
     "text": [
      "True\n"
     ]
    }
   ],
   "source": [
    "print(True)"
   ]
  },
  {
   "cell_type": "code",
   "execution_count": 1,
   "id": "6e350a13",
   "metadata": {},
   "outputs": [
    {
     "data": {
      "text/plain": [
       "str"
      ]
     },
     "execution_count": 1,
     "metadata": {},
     "output_type": "execute_result"
    }
   ],
   "source": [
    "type(\"hello world\")"
   ]
  },
  {
   "cell_type": "code",
   "execution_count": 2,
   "id": "9f1d1331",
   "metadata": {},
   "outputs": [
    {
     "data": {
      "text/plain": [
       "bool"
      ]
     },
     "execution_count": 2,
     "metadata": {},
     "output_type": "execute_result"
    }
   ],
   "source": [
    "type(True)"
   ]
  },
  {
   "cell_type": "markdown",
   "id": "6af0cbd2",
   "metadata": {},
   "source": [
    "## 연산자"
   ]
  },
  {
   "cell_type": "markdown",
   "id": "c3ab0e28",
   "metadata": {},
   "source": [
    "# +, -, *, /, //, %, **"
   ]
  },
  {
   "cell_type": "code",
   "execution_count": 4,
   "id": "e87124ec",
   "metadata": {},
   "outputs": [],
   "source": [
    "num1 = 7\n",
    "num2 = 3"
   ]
  },
  {
   "cell_type": "code",
   "execution_count": 5,
   "id": "8643828d",
   "metadata": {},
   "outputs": [
    {
     "data": {
      "text/plain": [
       "2.3333333333333335"
      ]
     },
     "execution_count": 5,
     "metadata": {},
     "output_type": "execute_result"
    }
   ],
   "source": [
    "num1 / num2"
   ]
  },
  {
   "cell_type": "code",
   "execution_count": null,
   "id": "a6564a1b",
   "metadata": {},
   "outputs": [
    {
     "data": {
      "text/plain": [
       "2"
      ]
     },
     "execution_count": 7,
     "metadata": {},
     "output_type": "execute_result"
    }
   ],
   "source": [
    "num1 // num2 # 몫"
   ]
  },
  {
   "cell_type": "code",
   "execution_count": 8,
   "id": "a804d01f",
   "metadata": {},
   "outputs": [
    {
     "data": {
      "text/plain": [
       "1"
      ]
     },
     "execution_count": 8,
     "metadata": {},
     "output_type": "execute_result"
    }
   ],
   "source": [
    "num1 % num2 # 나머지"
   ]
  },
  {
   "cell_type": "code",
   "execution_count": null,
   "id": "0cd91d94",
   "metadata": {},
   "outputs": [
    {
     "data": {
      "text/plain": [
       "343"
      ]
     },
     "execution_count": 9,
     "metadata": {},
     "output_type": "execute_result"
    }
   ],
   "source": [
    "num1 ** num2 # 제곱"
   ]
  },
  {
   "cell_type": "code",
   "execution_count": 13,
   "id": "1c962cd4",
   "metadata": {},
   "outputs": [],
   "source": [
    "str1 = \"Hello\"\n",
    "str2 = \"World\""
   ]
  },
  {
   "cell_type": "code",
   "execution_count": 14,
   "id": "c17db511",
   "metadata": {},
   "outputs": [
    {
     "data": {
      "text/plain": [
       "'HelloWorld'"
      ]
     },
     "execution_count": 14,
     "metadata": {},
     "output_type": "execute_result"
    }
   ],
   "source": [
    "str1 + str2"
   ]
  },
  {
   "cell_type": "code",
   "execution_count": 15,
   "id": "81685a29",
   "metadata": {},
   "outputs": [
    {
     "data": {
      "text/plain": [
       "'HelloHelloHelloHelloHelloHelloHello'"
      ]
     },
     "execution_count": 15,
     "metadata": {},
     "output_type": "execute_result"
    }
   ],
   "source": [
    "num1 * str1"
   ]
  },
  {
   "cell_type": "code",
   "execution_count": 22,
   "id": "c48d73d9",
   "metadata": {},
   "outputs": [],
   "source": [
    "# str1 + num1"
   ]
  },
  {
   "cell_type": "markdown",
   "id": "cdc14a98",
   "metadata": {},
   "source": [
    "## 비교 연산자"
   ]
  },
  {
   "cell_type": "code",
   "execution_count": 16,
   "id": "b9372bc8",
   "metadata": {},
   "outputs": [],
   "source": [
    "mynumber = 100"
   ]
  },
  {
   "cell_type": "markdown",
   "id": "461835a3",
   "metadata": {},
   "source": [
    "같다, 다르다, 크다, 작다\n",
    "==, !=, >, <, >=, <="
   ]
  },
  {
   "cell_type": "code",
   "execution_count": 17,
   "id": "2ca24083",
   "metadata": {},
   "outputs": [
    {
     "data": {
      "text/plain": [
       "False"
      ]
     },
     "execution_count": 17,
     "metadata": {},
     "output_type": "execute_result"
    }
   ],
   "source": [
    "5 == 3"
   ]
  },
  {
   "cell_type": "code",
   "execution_count": 18,
   "id": "4bfb4121",
   "metadata": {},
   "outputs": [
    {
     "data": {
      "text/plain": [
       "True"
      ]
     },
     "execution_count": 18,
     "metadata": {},
     "output_type": "execute_result"
    }
   ],
   "source": [
    "5 != 3"
   ]
  },
  {
   "cell_type": "code",
   "execution_count": 19,
   "id": "22789541",
   "metadata": {},
   "outputs": [
    {
     "data": {
      "text/plain": [
       "True"
      ]
     },
     "execution_count": 19,
     "metadata": {},
     "output_type": "execute_result"
    }
   ],
   "source": [
    "5 > 3"
   ]
  },
  {
   "cell_type": "code",
   "execution_count": 20,
   "id": "13cebf29",
   "metadata": {},
   "outputs": [
    {
     "data": {
      "text/plain": [
       "False"
      ]
     },
     "execution_count": 20,
     "metadata": {},
     "output_type": "execute_result"
    }
   ],
   "source": [
    "5 < 3"
   ]
  },
  {
   "cell_type": "code",
   "execution_count": 23,
   "id": "fe7e972d",
   "metadata": {},
   "outputs": [
    {
     "data": {
      "text/plain": [
       "False"
      ]
     },
     "execution_count": 23,
     "metadata": {},
     "output_type": "execute_result"
    }
   ],
   "source": [
    "5 <= 3"
   ]
  },
  {
   "cell_type": "code",
   "execution_count": 24,
   "id": "313cc320",
   "metadata": {},
   "outputs": [
    {
     "data": {
      "text/plain": [
       "True"
      ]
     },
     "execution_count": 24,
     "metadata": {},
     "output_type": "execute_result"
    }
   ],
   "source": [
    "5 >= 3"
   ]
  },
  {
   "cell_type": "code",
   "execution_count": 25,
   "id": "2e420eba",
   "metadata": {},
   "outputs": [
    {
     "name": "stdout",
     "output_type": "stream",
     "text": [
      "HelloWorld\n"
     ]
    }
   ],
   "source": [
    "print(str1 + str2)"
   ]
  },
  {
   "cell_type": "markdown",
   "id": "950766bf",
   "metadata": {},
   "source": [
    "## 사용자 입력"
   ]
  },
  {
   "cell_type": "code",
   "execution_count": 26,
   "id": "e904b04f",
   "metadata": {},
   "outputs": [
    {
     "data": {
      "text/plain": [
       "'Hello'"
      ]
     },
     "execution_count": 26,
     "metadata": {},
     "output_type": "execute_result"
    }
   ],
   "source": [
    "input()"
   ]
  },
  {
   "cell_type": "code",
   "execution_count": 28,
   "id": "fc3a16a8",
   "metadata": {},
   "outputs": [
    {
     "name": "stdout",
     "output_type": "stream",
     "text": [
      "이름은 전혜나 입니다.\n"
     ]
    }
   ],
   "source": [
    "name = input()\n",
    "print(\"이름은\", name, \"입니다.\")"
   ]
  },
  {
   "cell_type": "code",
   "execution_count": 29,
   "id": "5d7014a8",
   "metadata": {},
   "outputs": [],
   "source": [
    "num1 = 7\n",
    "num2 = 3"
   ]
  },
  {
   "cell_type": "code",
   "execution_count": null,
   "id": "3b748cc2",
   "metadata": {},
   "outputs": [
    {
     "name": "stdout",
     "output_type": "stream",
     "text": [
      "10\n",
      "2\n",
      "24\n",
      "1.5\n"
     ]
    }
   ],
   "source": [
    "# 사용자로부터 숫자 입력을 받아서 '+, -, *, /' 연산을 수행해주세요\n",
    "\n",
    "num1 = int(input(\"첫 번째 숫자를 입력해주세요: \"))\n",
    "num2 = int(input(\"두 번째 숫자를 입력해주세요: \"))\n",
    "\n",
    "print(num1 + num2)\n",
    "print(num1 - num2)\n",
    "print(num1 * num2)\n",
    "print(num1 / num2)"
   ]
  },
  {
   "cell_type": "markdown",
   "id": "f017e47e",
   "metadata": {},
   "source": [
    "## 형변환"
   ]
  },
  {
   "cell_type": "code",
   "execution_count": null,
   "id": "bd454ca7",
   "metadata": {},
   "outputs": [],
   "source": [
    "int(), float(), str()"
   ]
  },
  {
   "cell_type": "code",
   "execution_count": 35,
   "id": "545f9910",
   "metadata": {},
   "outputs": [
    {
     "data": {
      "text/plain": [
       "7"
      ]
     },
     "execution_count": 35,
     "metadata": {},
     "output_type": "execute_result"
    }
   ],
   "source": [
    "int('7')"
   ]
  },
  {
   "cell_type": "code",
   "execution_count": 36,
   "id": "da3f8532",
   "metadata": {},
   "outputs": [
    {
     "data": {
      "text/plain": [
       "3.14"
      ]
     },
     "execution_count": 36,
     "metadata": {},
     "output_type": "execute_result"
    }
   ],
   "source": [
    "float('3.14')"
   ]
  },
  {
   "cell_type": "code",
   "execution_count": 37,
   "id": "0f54337e",
   "metadata": {},
   "outputs": [
    {
     "data": {
      "text/plain": [
       "'7'"
      ]
     },
     "execution_count": 37,
     "metadata": {},
     "output_type": "execute_result"
    }
   ],
   "source": [
    "str(7)"
   ]
  },
  {
   "cell_type": "code",
   "execution_count": 42,
   "id": "b68afc59",
   "metadata": {},
   "outputs": [
    {
     "name": "stdout",
     "output_type": "stream",
     "text": [
      "\n",
      "안녕\n",
      "반가워\n",
      "\n"
     ]
    }
   ],
   "source": [
    "sentense = \"\"\"\n",
    "안녕\n",
    "반가워\n",
    "\"\"\"\n",
    "print(sentense)"
   ]
  },
  {
   "cell_type": "code",
   "execution_count": null,
   "id": "9d857a33",
   "metadata": {},
   "outputs": [
    {
     "name": "stdout",
     "output_type": "stream",
     "text": [
      "'낮 말'은 새가 듣고, '밤 말'은 쥐가 듣는다.\n"
     ]
    }
   ],
   "source": [
    "print(\"\\'낮 말\\'은 새가 듣고, \\'밤말\\'은 쥐가 듣는다.\")"
   ]
  },
  {
   "cell_type": "code",
   "execution_count": 46,
   "id": "0a2eb417",
   "metadata": {},
   "outputs": [
    {
     "name": "stdout",
     "output_type": "stream",
     "text": [
      "Hello\n",
      "Hello\n",
      "Hello\n",
      "Hello\n",
      "Hello\n",
      "\n"
     ]
    }
   ],
   "source": [
    "print(\"Hello\\n\" * 5)"
   ]
  },
  {
   "cell_type": "code",
   "execution_count": 57,
   "id": "16ace1fa",
   "metadata": {},
   "outputs": [
    {
     "name": "stdout",
     "output_type": "stream",
     "text": [
      "HelloHelloHelloHelloHello\n"
     ]
    }
   ],
   "source": [
    "print(\"Hello\" * 5)"
   ]
  },
  {
   "cell_type": "code",
   "execution_count": 60,
   "id": "da4d3055",
   "metadata": {},
   "outputs": [
    {
     "name": "stdout",
     "output_type": "stream",
     "text": [
      "Hello/Hello/Hello/Hello/Hello,"
     ]
    }
   ],
   "source": [
    "print(\"Hello\", \"Hello\", \"Hello\", \"Hello\", \"Hello\", end = \",\", sep=\"/\")"
   ]
  },
  {
   "cell_type": "code",
   "execution_count": 62,
   "id": "9323c489",
   "metadata": {},
   "outputs": [
    {
     "name": "stdout",
     "output_type": "stream",
     "text": [
      "8\n",
      "2\n",
      "15\n",
      "1.6666666666666667\n"
     ]
    }
   ],
   "source": [
    "num1 = int(input(\"첫 번째 숫자를 입력해주세요: \"))\n",
    "num2 = int(input(\"두 번째 숫자를 입력해주세요: \"))\n",
    "\n",
    "print(num1 + num2)\n",
    "print(num1 - num2)\n",
    "print(num1 * num2)\n",
    "print(num1 / num2)"
   ]
  },
  {
   "cell_type": "code",
   "execution_count": 71,
   "id": "8b880abc",
   "metadata": {},
   "outputs": [
    {
     "name": "stdout",
     "output_type": "stream",
     "text": [
      "7 + 3 = 10\n",
      "더하기의 결과 : 7 + 3 = 10\n"
     ]
    }
   ],
   "source": [
    "# f-string 사용\n",
    "num1 = 7\n",
    "num2 = 3\n",
    "\n",
    "print(num1, \"+\", num2, \"=\", num1+num2)\n",
    "\n",
    "print(f\"더하기의 결과 : {num1} + {num2} = {num1+num2}\")"
   ]
  },
  {
   "cell_type": "markdown",
   "id": "0697b56f",
   "metadata": {},
   "source": [
    "### bool 자료형"
   ]
  },
  {
   "cell_type": "code",
   "execution_count": null,
   "id": "cb10e5d8",
   "metadata": {},
   "outputs": [],
   "source": [
    "True 참, False 거짓"
   ]
  },
  {
   "cell_type": "code",
   "execution_count": 73,
   "id": "91da39c7",
   "metadata": {},
   "outputs": [
    {
     "data": {
      "text/plain": [
       "True"
      ]
     },
     "execution_count": 73,
     "metadata": {},
     "output_type": "execute_result"
    }
   ],
   "source": [
    "1 ==1"
   ]
  },
  {
   "cell_type": "code",
   "execution_count": 75,
   "id": "fe6b2852",
   "metadata": {},
   "outputs": [
    {
     "name": "stdout",
     "output_type": "stream",
     "text": [
      "<class 'bool'>\n"
     ]
    }
   ],
   "source": [
    "print(type(True))"
   ]
  },
  {
   "cell_type": "code",
   "execution_count": 76,
   "id": "5839c1bf",
   "metadata": {},
   "outputs": [
    {
     "data": {
      "text/plain": [
       "(0, '', 0.0, False)"
      ]
     },
     "execution_count": 76,
     "metadata": {},
     "output_type": "execute_result"
    }
   ],
   "source": [
    "int(), str(), float(), bool()"
   ]
  },
  {
   "cell_type": "code",
   "execution_count": 77,
   "id": "2cdc1ec7",
   "metadata": {},
   "outputs": [
    {
     "data": {
      "text/plain": [
       "False"
      ]
     },
     "execution_count": 77,
     "metadata": {},
     "output_type": "execute_result"
    }
   ],
   "source": [
    "bool(0)"
   ]
  },
  {
   "cell_type": "code",
   "execution_count": null,
   "id": "b0e0378a",
   "metadata": {},
   "outputs": [
    {
     "name": "stdout",
     "output_type": "stream",
     "text": [
      "지불하실 금액은 9000 입니다.\n"
     ]
    }
   ],
   "source": [
    "#  미션\n",
    "# 분식집 주문 프로그램\n",
    "\n",
    "order1 = int(input(\"김밥 주문갯수 : \"))\n",
    "order2 = int(input(\"떡볶이 주문갯수 : \"))\n",
    "order3 = int(input(\"라면 주문갯수 : \"))\n",
    "\n",
    "print(f\"지불하실 금액은 {order1*3000 + order2*3500 + order3*2500} 입니다.\")"
   ]
  },
  {
   "cell_type": "markdown",
   "id": "2ffaab83",
   "metadata": {},
   "source": [
    "### 조건문"
   ]
  },
  {
   "cell_type": "code",
   "execution_count": 87,
   "id": "ff92b79e",
   "metadata": {},
   "outputs": [],
   "source": [
    "# 조건에 따라서 명령어의 실행여부가 결정\n",
    "\n",
    "# if 조건문 형식\n",
    "# if 조건 : \n",
    "#   실행할 명령\n",
    "\n",
    "# 조건문 밖의 명령어"
   ]
  },
  {
   "cell_type": "code",
   "execution_count": 94,
   "id": "b02740a3",
   "metadata": {},
   "outputs": [
    {
     "name": "stdout",
     "output_type": "stream",
     "text": [
      "택시도 탄다.\n",
      "조건문 종료\n"
     ]
    }
   ],
   "source": [
    "# 조건문 예시\n",
    "\n",
    "money = False\n",
    "\n",
    "if money:\n",
    "    print(\"스테이크를 먹는다.\")\n",
    "    print(\"커피를 마신다.\")\n",
    "print(\"택시도 탄다.\")\n",
    "print(\"조건문 종료\")\n"
   ]
  },
  {
   "cell_type": "markdown",
   "id": "dda5edc7",
   "metadata": {},
   "source": [
    "### if-else 조건문"
   ]
  },
  {
   "cell_type": "code",
   "execution_count": null,
   "id": "574907d2",
   "metadata": {},
   "outputs": [],
   "source": [
    "#  if-else 조건문\n",
    "\n",
    "#  if 조건:\n",
    "#   수행할 명령\n",
    "# else:\n",
    "#  다른 명령\n",
    "\n",
    "# if- elif 조건문\n",
    "\n",
    "# if 조건1:\n",
    "#  수행할 명령1\n",
    "# elif 조건2:\n",
    "#   수행할 명령2\n",
    "# else:\n",
    "#   나머지 처리"
   ]
  },
  {
   "cell_type": "code",
   "execution_count": null,
   "id": "427e3870",
   "metadata": {},
   "outputs": [],
   "source": [
    "num = 3\n",
    "\n",
    "# if num % 2 == 0:\n",
    "if num % 2 == 0:\n",
    "    print(\"짝수\")\n",
    "else:\n",
    "    print(\"홀수\")"
   ]
  },
  {
   "cell_type": "code",
   "execution_count": null,
   "id": "f86110a8",
   "metadata": {},
   "outputs": [],
   "source": [
    "# 짝수홀수 구분\n",
    "\n",
    "# num % 2 == 0 -> 짝수\n",
    "\n",
    "num = 3\n",
    "\n",
    "# if num % 2 == 0:\n",
    "if num > 100:\n",
    "    print(\"너무 커요\")\n",
    "else:\n",
    "    print(\"작아요\")"
   ]
  },
  {
   "cell_type": "code",
   "execution_count": null,
   "id": "1333e860",
   "metadata": {},
   "outputs": [],
   "source": [
    "and or"
   ]
  },
  {
   "cell_type": "code",
   "execution_count": 96,
   "id": "62e427ba",
   "metadata": {},
   "outputs": [
    {
     "name": "stdout",
     "output_type": "stream",
     "text": [
      "좀 더 노력하세요\n"
     ]
    }
   ],
   "source": [
    "eng = 10\n",
    "math = 100\n",
    "\n",
    "if eng >= 90 and math >= 90:\n",
    "    print('스티커')\n",
    "else:\n",
    "    print(\"좀 더 노력하세요\")\n"
   ]
  },
  {
   "cell_type": "code",
   "execution_count": null,
   "id": "71a180a6",
   "metadata": {},
   "outputs": [
    {
     "name": "stdout",
     "output_type": "stream",
     "text": [
      "많이 노력\n"
     ]
    }
   ],
   "source": [
    "if eng >= 90:\n",
    "    if math >= 90:\n",
    "        print(\"둘다 성공\")\n",
    "    else:\n",
    "        print(\"좀 더 노력\")\n",
    "else:\n",
    "    print('많이 노력')"
   ]
  },
  {
   "cell_type": "code",
   "execution_count": 99,
   "id": "8e4a620a",
   "metadata": {},
   "outputs": [
    {
     "name": "stdout",
     "output_type": "stream",
     "text": [
      "숫자를 입력하세요 : 100\n",
      "짝수입니다.\n"
     ]
    }
   ],
   "source": [
    "num = int(input('숫자를 입력하세요: '))\n",
    "\n",
    "print(f\"숫자를 입력하세요 : {num}\")\n",
    "\n",
    "if num % 2 == 0:\n",
    "    print(\"짝수입니다.\")\n",
    "else:\n",
    "    print(\"홀수입니다.\")"
   ]
  },
  {
   "cell_type": "code",
   "execution_count": 100,
   "id": "e76bf25a",
   "metadata": {},
   "outputs": [
    {
     "name": "stdout",
     "output_type": "stream",
     "text": [
      "짝수입니다.\n"
     ]
    }
   ],
   "source": [
    "# 다른 방식\n",
    "\n",
    "num = int(input('숫자를 입력하세요: '))\n",
    "\n",
    "result = num % 2 \n",
    "\n",
    "if result:\n",
    "    print('홀수입니다.')\n",
    "else:\n",
    "    print(\"짝수입니다.\")"
   ]
  },
  {
   "cell_type": "code",
   "execution_count": 102,
   "id": "de109e14",
   "metadata": {},
   "outputs": [
    {
     "name": "stdout",
     "output_type": "stream",
     "text": [
      "C\n"
     ]
    }
   ],
   "source": [
    "# 점수 판별기\n",
    "\n",
    "score = int(input())\n",
    "\n",
    "if score >= 90:\n",
    "    print('A')\n",
    "elif score >=80:\n",
    "    print('B')\n",
    "elif score >=70:\n",
    "    print('C')\n",
    "elif score >= 60:\n",
    "    print('D')\n",
    "else:\n",
    "    print('F')"
   ]
  },
  {
   "cell_type": "markdown",
   "id": "6cef6d8d",
   "metadata": {},
   "source": [
    "### 반복문\n",
    "\n",
    "#### for, while 반복문"
   ]
  },
  {
   "cell_type": "code",
   "execution_count": null,
   "id": "895e6191",
   "metadata": {},
   "outputs": [],
   "source": [
    "for 변수 in 이터러블(반복 가능한):\n",
    "    반복할 문장"
   ]
  },
  {
   "cell_type": "code",
   "execution_count": null,
   "id": "ec6bd730",
   "metadata": {},
   "outputs": [
    {
     "name": "stdout",
     "output_type": "stream",
     "text": [
      "0번째 Hello\n",
      "1번째 Hello\n",
      "2번째 Hello\n",
      "3번째 Hello\n",
      "4번째 Hello\n",
      "5번째 Hello\n",
      "6번째 Hello\n",
      "7번째 Hello\n",
      "8번째 Hello\n",
      "9번째 Hello\n"
     ]
    }
   ],
   "source": [
    "for i in range(10):\n",
    "    # range -> (1, 10) 으로도 표현 가능\n",
    "    # range -> (1, 10+1, 2) [start, end, step]\n",
    "    print(f\"{i}번째 Hello\")"
   ]
  },
  {
   "cell_type": "code",
   "execution_count": 107,
   "id": "203e7ba4",
   "metadata": {},
   "outputs": [
    {
     "name": "stdout",
     "output_type": "stream",
     "text": [
      "10번째 Hello\n",
      "9번째 Hello\n",
      "8번째 Hello\n",
      "7번째 Hello\n",
      "6번째 Hello\n",
      "5번째 Hello\n",
      "4번째 Hello\n",
      "3번째 Hello\n",
      "2번째 Hello\n",
      "1번째 Hello\n"
     ]
    }
   ],
   "source": [
    "for i in range(10, 0, -1): \n",
    "    print(f\"{i}번째 Hello\")"
   ]
  },
  {
   "cell_type": "code",
   "execution_count": 113,
   "id": "d40b401a",
   "metadata": {},
   "outputs": [
    {
     "name": "stdout",
     "output_type": "stream",
     "text": [
      "55\n"
     ]
    }
   ],
   "source": [
    "# for 반복문과 range()함수를 사용해서 1부터 10까지의 합을 출력해주세요\n",
    "\n",
    "sum = 0\n",
    "for i in range(1,11):\n",
    "    sum += i \n",
    "print(sum)"
   ]
  },
  {
   "cell_type": "code",
   "execution_count": 114,
   "id": "93d909ba",
   "metadata": {},
   "outputs": [
    {
     "name": "stdout",
     "output_type": "stream",
     "text": [
      "3628800\n"
     ]
    }
   ],
   "source": [
    "# for 반복문과 range() 함수를 사용해서 1부터 10까지의 곱을 출력\n",
    "\n",
    "mul = 1\n",
    "for i in range(1,11):\n",
    "    mul *= i\n",
    "print(mul)"
   ]
  },
  {
   "cell_type": "code",
   "execution_count": 116,
   "id": "7220701b",
   "metadata": {},
   "outputs": [
    {
     "name": "stdout",
     "output_type": "stream",
     "text": [
      "2 x 1 = 2\n",
      "2 x 2 = 4\n",
      "2 x 3 = 6\n",
      "2 x 4 = 8\n",
      "2 x 5 = 10\n",
      "2 x 6 = 12\n",
      "2 x 7 = 14\n",
      "2 x 8 = 16\n",
      "2 x 9 = 18\n"
     ]
    }
   ],
   "source": [
    "# for 반복문과 range() 함수를 사용해서 사용자로부터 입력받은 숫자에 해당하는\n",
    "# 구구단을 출력해주세요\n",
    "\n",
    "num = int(input())\n",
    "\n",
    "for i in range(1,10):\n",
    "    print(f\"{num} x {i} = {num * i}\")\n"
   ]
  },
  {
   "cell_type": "code",
   "execution_count": null,
   "id": "726d5e26",
   "metadata": {},
   "outputs": [],
   "source": [
    "while 조건:\n",
    "    반복할 문장들"
   ]
  },
  {
   "cell_type": "code",
   "execution_count": 1,
   "id": "556d1586",
   "metadata": {},
   "outputs": [
    {
     "name": "stdout",
     "output_type": "stream",
     "text": [
      "1번쨰 Hello\n",
      "2번쨰 Hello\n",
      "3번쨰 Hello\n",
      "4번쨰 Hello\n",
      "5번쨰 Hello\n"
     ]
    }
   ],
   "source": [
    "# print('Hello) 5번만 출력\n",
    "i = 1\n",
    "while i <= 5:\n",
    "    print(f\"{i}번쨰 Hello\")\n",
    "    i += 1"
   ]
  },
  {
   "cell_type": "code",
   "execution_count": 10,
   "id": "ed2c3109",
   "metadata": {},
   "outputs": [
    {
     "name": "stdout",
     "output_type": "stream",
     "text": [
      "55\n"
     ]
    }
   ],
   "source": [
    "# While 문을 이용해서 1부터 사용자로부터 입력받은 정수값까지의 합을 구해주세요\n",
    "\n",
    "# num = int(input())\n",
    "num = 10 # 임시로 10 부여함 \n",
    "sum = 0\n",
    "i = 1\n",
    "while i <= num:\n",
    "    sum += i\n",
    "    i += 1\n",
    "print(sum)"
   ]
  },
  {
   "cell_type": "code",
   "execution_count": 16,
   "id": "05cc021d",
   "metadata": {},
   "outputs": [],
   "source": [
    "prompt = \"\"\"\n",
    "1. Add\n",
    "2. Del\n",
    "3. List\n",
    "5. Quit\n",
    "\n",
    "Enter number: \"\"\""
   ]
  },
  {
   "cell_type": "code",
   "execution_count": 20,
   "id": "17eaa977",
   "metadata": {},
   "outputs": [],
   "source": [
    "num = 0\n",
    "while number != 4:\n",
    "    print(prompt)\n",
    "    num += 1\n",
    "    number = int(input(\"원하는 메뉴의 번호를 입력하세요: \"))"
   ]
  },
  {
   "cell_type": "markdown",
   "id": "6137f62a",
   "metadata": {},
   "source": [
    "#### break, continue"
   ]
  },
  {
   "cell_type": "code",
   "execution_count": 32,
   "id": "c58d62ca",
   "metadata": {},
   "outputs": [
    {
     "name": "stdout",
     "output_type": "stream",
     "text": [
      "1\n",
      "3\n",
      "6\n",
      "10\n",
      "15\n",
      "정수 : 6, 합계: 21\n"
     ]
    }
   ],
   "source": [
    "# 1부터 10까지 더하되, 합이 20 이상이 되는 때의 정수값을 찾고싶어\n",
    "sum = 0\n",
    "for i in range(1, 10, +1):\n",
    "    sum += i\n",
    "    if sum >= 20:\n",
    "        print(f\"정수 : {i}, 합계: {sum}\")\n",
    "        break\n",
    "    # print(sum)"
   ]
  },
  {
   "cell_type": "code",
   "execution_count": 33,
   "id": "922635e5",
   "metadata": {},
   "outputs": [
    {
     "name": "stdout",
     "output_type": "stream",
     "text": [
      "1 2 4 5 7 8 "
     ]
    }
   ],
   "source": [
    "# continue\n",
    "for i in range(10):\n",
    "    if i % 3 == 0:\n",
    "        continue\n",
    "    print(i, end=\" \")"
   ]
  },
  {
   "cell_type": "code",
   "execution_count": 4,
   "id": "7c064ad2",
   "metadata": {},
   "outputs": [
    {
     "name": "stdout",
     "output_type": "stream",
     "text": [
      "너무 작아요\n",
      "너무 작아요\n",
      "너무 작아요\n",
      "너무 작아요\n",
      "너무 커요\n",
      "너무 작아요\n",
      "너무 작아요\n",
      "너무 작아요\n",
      "정답입니다.\n",
      "게임 종료\n"
     ]
    }
   ],
   "source": [
    "# 숫자 맞추기 게임 \n",
    "\n",
    "import random\n",
    "\n",
    "answer = random.randint(1,100)\n",
    "\n",
    "while True:\n",
    "    num = int(input(\"1부터 100 사이의 숫자를 맞춰주세요:\"))\n",
    "    if num == answer:\n",
    "        print(\"정답입니다.\")\n",
    "        break\n",
    "    elif num > answer:\n",
    "        print(\"너무 커요\")\n",
    "    else:\n",
    "        print(\"너무 작아요\")\n",
    " \n",
    "print(\"게임 종료\")"
   ]
  },
  {
   "cell_type": "code",
   "execution_count": 11,
   "id": "fac86c52",
   "metadata": {},
   "outputs": [
    {
     "name": "stdout",
     "output_type": "stream",
     "text": [
      "1 2 4 7 8 11 13 14 16 17 19 "
     ]
    }
   ],
   "source": [
    "# 20보다 작은 정수 중에서 3의 배수와 5의 배수 제외하고 출력\n",
    "# continue & break 무조건 사용 \n",
    "# While True 구문 사용 \n",
    "\n",
    "num = 1\n",
    "while True:\n",
    "    if num > 20:\n",
    "        break\n",
    "    if num % 3 == 0 or num % 5 == 0:\n",
    "        num += 1\n",
    "        continue\n",
    "    print(num, end = \" \")\n",
    "    num += 1"
   ]
  },
  {
   "cell_type": "code",
   "execution_count": 14,
   "id": "54feccc2",
   "metadata": {},
   "outputs": [
    {
     "name": "stdout",
     "output_type": "stream",
     "text": [
      "1 2 4 7 8 11 13 14 16 17 19 "
     ]
    }
   ],
   "source": [
    "i = 0\n",
    "while True : \n",
    "    i += 1\n",
    "    if i >= 20:\n",
    "        # print(f\"{i} break\")\n",
    "        break\n",
    "    if i % 3 == 0 or i % 5 == 0:\n",
    "        # print(f\"{i} continue\")\n",
    "        continue\n",
    "    print(i, end = \" \")\n"
   ]
  },
  {
   "cell_type": "code",
   "execution_count": null,
   "id": "f1e3c49e",
   "metadata": {},
   "outputs": [],
   "source": [
    "# 중첩반복문\n",
    "# 2 x 1 = 2\n",
    "# 2 x 2 = 4\n",
    "#   .\n",
    "#   .\n",
    "#   .\n",
    "#   ."
   ]
  },
  {
   "cell_type": "code",
   "execution_count": 62,
   "id": "2cf409a5",
   "metadata": {},
   "outputs": [
    {
     "name": "stdout",
     "output_type": "stream",
     "text": [
      "2 * 1 = 2\n",
      "2 * 2 = 4\n",
      "2 * 3 = 6\n",
      "2 * 4 = 8\n",
      "2 * 5 = 10\n",
      "2 * 6 = 12\n",
      "2 * 7 = 14\n",
      "2 * 8 = 16\n",
      "2 * 9 = 18\n",
      " \n",
      "3 * 1 = 3\n",
      "3 * 2 = 6\n",
      "3 * 3 = 9\n",
      "3 * 4 = 12\n",
      "3 * 5 = 15\n",
      "3 * 6 = 18\n",
      "3 * 7 = 21\n",
      "3 * 8 = 24\n",
      "3 * 9 = 27\n",
      " \n",
      "4 * 1 = 4\n",
      "4 * 2 = 8\n",
      "4 * 3 = 12\n",
      "4 * 4 = 16\n",
      "4 * 5 = 20\n",
      "4 * 6 = 24\n",
      "4 * 7 = 28\n",
      "4 * 8 = 32\n",
      "4 * 9 = 36\n",
      " \n",
      "5 * 1 = 5\n",
      "5 * 2 = 10\n",
      "5 * 3 = 15\n",
      "5 * 4 = 20\n",
      "5 * 5 = 25\n",
      "5 * 6 = 30\n",
      "5 * 7 = 35\n",
      "5 * 8 = 40\n",
      "5 * 9 = 45\n",
      " \n",
      "6 * 1 = 6\n",
      "6 * 2 = 12\n",
      "6 * 3 = 18\n",
      "6 * 4 = 24\n",
      "6 * 5 = 30\n",
      "6 * 6 = 36\n",
      "6 * 7 = 42\n",
      "6 * 8 = 48\n",
      "6 * 9 = 54\n",
      " \n",
      "7 * 1 = 7\n",
      "7 * 2 = 14\n",
      "7 * 3 = 21\n",
      "7 * 4 = 28\n",
      "7 * 5 = 35\n",
      "7 * 6 = 42\n",
      "7 * 7 = 49\n",
      "7 * 8 = 56\n",
      "7 * 9 = 63\n",
      " \n",
      "8 * 1 = 8\n",
      "8 * 2 = 16\n",
      "8 * 3 = 24\n",
      "8 * 4 = 32\n",
      "8 * 5 = 40\n",
      "8 * 6 = 48\n",
      "8 * 7 = 56\n",
      "8 * 8 = 64\n",
      "8 * 9 = 72\n",
      " \n",
      "9 * 1 = 9\n",
      "9 * 2 = 18\n",
      "9 * 3 = 27\n",
      "9 * 4 = 36\n",
      "9 * 5 = 45\n",
      "9 * 6 = 54\n",
      "9 * 7 = 63\n",
      "9 * 8 = 72\n",
      "9 * 9 = 81\n",
      " \n"
     ]
    }
   ],
   "source": [
    "# 2단부터 9단까지\n",
    "\n",
    "dan = 2\n",
    "\n",
    "for dan in range(2, 10):\n",
    "    for i in range(1, 10):\n",
    "        print(f\"{dan} * {i} = {dan * i}\")\n",
    "    print(\" \")"
   ]
  },
  {
   "cell_type": "code",
   "execution_count": 63,
   "id": "df763873",
   "metadata": {},
   "outputs": [
    {
     "name": "stdout",
     "output_type": "stream",
     "text": [
      "*\n",
      "***\n",
      "*****\n",
      "*******\n",
      "*********\n",
      "***********\n",
      "*************\n",
      "***************\n",
      "*****************\n",
      "*******************\n"
     ]
    }
   ],
   "source": [
    "# 트리 출력하기\n",
    "# 문자열 반복 연산\n",
    "# 1/3/5/7/9\n",
    "\n",
    "num = 1\n",
    "for i in range(1,11):\n",
    "    print(\"*\" * num)\n",
    "    num += 2\n"
   ]
  },
  {
   "cell_type": "code",
   "execution_count": null,
   "id": "0918416d",
   "metadata": {},
   "outputs": [
    {
     "name": "stdout",
     "output_type": "stream",
     "text": [
      "         *\n",
      "        ***\n",
      "       *****\n",
      "      *******\n",
      "     *********\n",
      "    ***********\n",
      "   *************\n",
      "  ***************\n",
      " *****************\n",
      "*******************\n"
     ]
    }
   ],
   "source": [
    "# 트리 출력하기\n",
    "\n",
    "num = 1\n",
    "star = 19\n",
    "for i in range(1,11):\n",
    "    space = (star - num) // 2\n",
    "    print(\" \" * space + \"*\" * num)\n",
    "    num += 2\n"
   ]
  },
  {
   "cell_type": "markdown",
   "id": "9af6e79d",
   "metadata": {},
   "source": [
    "#### 파이썬 도전 미션"
   ]
  },
  {
   "cell_type": "code",
   "execution_count": 67,
   "id": "e49569f1",
   "metadata": {},
   "outputs": [
    {
     "name": "stdout",
     "output_type": "stream",
     "text": [
      "12345600\n"
     ]
    }
   ],
   "source": [
    "# 100 미만 절사 처리\n",
    "\n",
    "pay = 12345678\n",
    "\n",
    "result = (pay // 100) * 100 \n",
    "\n",
    "print(result)"
   ]
  },
  {
   "cell_type": "code",
   "execution_count": null,
   "id": "adce7963",
   "metadata": {},
   "outputs": [],
   "source": [
    "# Todo: 변수 a에 저장된 값의 b자리 값을 계산하여\t 변수 c에 저장하는 코드를 설계하라  \n",
    "# 예를 들어 a에 1234가 저장되어 있고 b가 1일 경우 첫 번째 자리값인 4가 c에 저장된다.  \n",
    "# a가 1234일때 b가 4일 경우는 4번째 자리값인 1이 c에 저장되어야 한다.  "
   ]
  }
 ],
 "metadata": {
  "kernelspec": {
   "display_name": "Python 3",
   "language": "python",
   "name": "python3"
  },
  "language_info": {
   "codemirror_mode": {
    "name": "ipython",
    "version": 3
   },
   "file_extension": ".py",
   "mimetype": "text/x-python",
   "name": "python",
   "nbconvert_exporter": "python",
   "pygments_lexer": "ipython3",
   "version": "3.11.8"
  }
 },
 "nbformat": 4,
 "nbformat_minor": 5
}
